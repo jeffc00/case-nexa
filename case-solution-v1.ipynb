{
 "cells": [
  {
   "cell_type": "code",
   "execution_count": 1,
   "metadata": {
    "ExecuteTime": {
     "end_time": "2020-02-22T02:45:46.261775Z",
     "start_time": "2020-02-22T02:45:45.281921Z"
    }
   },
   "outputs": [],
   "source": [
    "import pandas as pd\n",
    "import numpy as np\n",
    "import matplotlib.pyplot as plt\n",
    "import seaborn as sns\n",
    "from sklearn.model_selection import train_test_split, TimeSeriesSplit, RandomizedSearchCV\n",
    "from sklearn.linear_model import Ridge\n",
    "from sklearn.preprocessing import StandardScaler\n",
    "from sklearn.metrics import mean_squared_error\n",
    "import scipy.stats as ss"
   ]
  },
  {
   "cell_type": "code",
   "execution_count": 2,
   "metadata": {
    "ExecuteTime": {
     "end_time": "2020-02-22T02:45:46.266216Z",
     "start_time": "2020-02-22T02:45:46.263614Z"
    }
   },
   "outputs": [],
   "source": [
    "pd.options.display.max_columns = 50"
   ]
  },
  {
   "cell_type": "code",
   "execution_count": 3,
   "metadata": {
    "ExecuteTime": {
     "end_time": "2020-02-22T02:45:46.296132Z",
     "start_time": "2020-02-22T02:45:46.268434Z"
    }
   },
   "outputs": [],
   "source": [
    "summary = pd.read_csv('data/summary.csv')\n",
    "day1 = pd.read_csv('data/day 1.csv')"
   ]
  },
  {
   "cell_type": "code",
   "execution_count": 4,
   "metadata": {
    "ExecuteTime": {
     "end_time": "2020-02-22T02:45:46.312783Z",
     "start_time": "2020-02-22T02:45:46.297519Z"
    }
   },
   "outputs": [
    {
     "data": {
      "text/html": [
       "<div>\n",
       "<style scoped>\n",
       "    .dataframe tbody tr th:only-of-type {\n",
       "        vertical-align: middle;\n",
       "    }\n",
       "\n",
       "    .dataframe tbody tr th {\n",
       "        vertical-align: top;\n",
       "    }\n",
       "\n",
       "    .dataframe thead th {\n",
       "        text-align: right;\n",
       "    }\n",
       "</style>\n",
       "<table border=\"1\" class=\"dataframe\">\n",
       "  <thead>\n",
       "    <tr style=\"text-align: right;\">\n",
       "      <th></th>\n",
       "      <th>Unnamed: 0</th>\n",
       "      <th>assessment</th>\n",
       "      <th>day</th>\n",
       "      <th>event</th>\n",
       "      <th>patient</th>\n",
       "      <th>time</th>\n",
       "    </tr>\n",
       "  </thead>\n",
       "  <tbody>\n",
       "    <tr>\n",
       "      <th>0</th>\n",
       "      <td>0</td>\n",
       "      <td>NaN</td>\n",
       "      <td>1</td>\n",
       "      <td>arrived</td>\n",
       "      <td>1</td>\n",
       "      <td>280</td>\n",
       "    </tr>\n",
       "    <tr>\n",
       "      <th>1</th>\n",
       "      <td>1</td>\n",
       "      <td>NaN</td>\n",
       "      <td>1</td>\n",
       "      <td>arrived</td>\n",
       "      <td>2</td>\n",
       "      <td>288</td>\n",
       "    </tr>\n",
       "    <tr>\n",
       "      <th>2</th>\n",
       "      <td>2</td>\n",
       "      <td>NaN</td>\n",
       "      <td>1</td>\n",
       "      <td>assessment initiated</td>\n",
       "      <td>1</td>\n",
       "      <td>308</td>\n",
       "    </tr>\n",
       "    <tr>\n",
       "      <th>3</th>\n",
       "      <td>3</td>\n",
       "      <td>NaN</td>\n",
       "      <td>1</td>\n",
       "      <td>arrived</td>\n",
       "      <td>3</td>\n",
       "      <td>430</td>\n",
       "    </tr>\n",
       "    <tr>\n",
       "      <th>4</th>\n",
       "      <td>4</td>\n",
       "      <td>urgent|36.599999999999994|no pain</td>\n",
       "      <td>1</td>\n",
       "      <td>assessment concluded</td>\n",
       "      <td>1</td>\n",
       "      <td>741</td>\n",
       "    </tr>\n",
       "    <tr>\n",
       "      <th>5</th>\n",
       "      <td>5</td>\n",
       "      <td>NaN</td>\n",
       "      <td>1</td>\n",
       "      <td>assessment initiated</td>\n",
       "      <td>2</td>\n",
       "      <td>764</td>\n",
       "    </tr>\n",
       "    <tr>\n",
       "      <th>6</th>\n",
       "      <td>6</td>\n",
       "      <td>NaN</td>\n",
       "      <td>1</td>\n",
       "      <td>consultation_initiated</td>\n",
       "      <td>1</td>\n",
       "      <td>773</td>\n",
       "    </tr>\n",
       "    <tr>\n",
       "      <th>7</th>\n",
       "      <td>7</td>\n",
       "      <td>normal|36.699999999999996|severe pain</td>\n",
       "      <td>1</td>\n",
       "      <td>assessment concluded</td>\n",
       "      <td>2</td>\n",
       "      <td>851</td>\n",
       "    </tr>\n",
       "    <tr>\n",
       "      <th>8</th>\n",
       "      <td>8</td>\n",
       "      <td>NaN</td>\n",
       "      <td>1</td>\n",
       "      <td>assessment initiated</td>\n",
       "      <td>3</td>\n",
       "      <td>878</td>\n",
       "    </tr>\n",
       "    <tr>\n",
       "      <th>9</th>\n",
       "      <td>9</td>\n",
       "      <td>NaN</td>\n",
       "      <td>1</td>\n",
       "      <td>consultation_initiated</td>\n",
       "      <td>2</td>\n",
       "      <td>905</td>\n",
       "    </tr>\n",
       "    <tr>\n",
       "      <th>10</th>\n",
       "      <td>10</td>\n",
       "      <td>NaN</td>\n",
       "      <td>1</td>\n",
       "      <td>arrived</td>\n",
       "      <td>4</td>\n",
       "      <td>944</td>\n",
       "    </tr>\n",
       "    <tr>\n",
       "      <th>11</th>\n",
       "      <td>11</td>\n",
       "      <td>normal|36.8|severe pain</td>\n",
       "      <td>1</td>\n",
       "      <td>assessment concluded</td>\n",
       "      <td>3</td>\n",
       "      <td>1055</td>\n",
       "    </tr>\n",
       "    <tr>\n",
       "      <th>12</th>\n",
       "      <td>12</td>\n",
       "      <td>NaN</td>\n",
       "      <td>1</td>\n",
       "      <td>consultation_initiated</td>\n",
       "      <td>3</td>\n",
       "      <td>1084</td>\n",
       "    </tr>\n",
       "    <tr>\n",
       "      <th>13</th>\n",
       "      <td>13</td>\n",
       "      <td>NaN</td>\n",
       "      <td>1</td>\n",
       "      <td>assessment initiated</td>\n",
       "      <td>4</td>\n",
       "      <td>1089</td>\n",
       "    </tr>\n",
       "    <tr>\n",
       "      <th>14</th>\n",
       "      <td>14</td>\n",
       "      <td>NaN</td>\n",
       "      <td>1</td>\n",
       "      <td>arrived</td>\n",
       "      <td>5</td>\n",
       "      <td>1139</td>\n",
       "    </tr>\n",
       "    <tr>\n",
       "      <th>15</th>\n",
       "      <td>15</td>\n",
       "      <td>urgent|36.599999999999994|severe pain</td>\n",
       "      <td>1</td>\n",
       "      <td>assessment concluded</td>\n",
       "      <td>4</td>\n",
       "      <td>1244</td>\n",
       "    </tr>\n",
       "    <tr>\n",
       "      <th>16</th>\n",
       "      <td>16</td>\n",
       "      <td>NaN</td>\n",
       "      <td>1</td>\n",
       "      <td>assessment initiated</td>\n",
       "      <td>5</td>\n",
       "      <td>1267</td>\n",
       "    </tr>\n",
       "    <tr>\n",
       "      <th>17</th>\n",
       "      <td>17</td>\n",
       "      <td>NaN</td>\n",
       "      <td>1</td>\n",
       "      <td>consultation_initiated</td>\n",
       "      <td>4</td>\n",
       "      <td>1294</td>\n",
       "    </tr>\n",
       "    <tr>\n",
       "      <th>18</th>\n",
       "      <td>18</td>\n",
       "      <td>urgent|36.199999999999996|severe pain</td>\n",
       "      <td>1</td>\n",
       "      <td>assessment concluded</td>\n",
       "      <td>5</td>\n",
       "      <td>1351</td>\n",
       "    </tr>\n",
       "    <tr>\n",
       "      <th>19</th>\n",
       "      <td>19</td>\n",
       "      <td>NaN</td>\n",
       "      <td>1</td>\n",
       "      <td>consultation_initiated</td>\n",
       "      <td>5</td>\n",
       "      <td>1378</td>\n",
       "    </tr>\n",
       "  </tbody>\n",
       "</table>\n",
       "</div>"
      ],
      "text/plain": [
       "    Unnamed: 0                             assessment  day  \\\n",
       "0            0                                    NaN    1   \n",
       "1            1                                    NaN    1   \n",
       "2            2                                    NaN    1   \n",
       "3            3                                    NaN    1   \n",
       "4            4      urgent|36.599999999999994|no pain    1   \n",
       "5            5                                    NaN    1   \n",
       "6            6                                    NaN    1   \n",
       "7            7  normal|36.699999999999996|severe pain    1   \n",
       "8            8                                    NaN    1   \n",
       "9            9                                    NaN    1   \n",
       "10          10                                    NaN    1   \n",
       "11          11                normal|36.8|severe pain    1   \n",
       "12          12                                    NaN    1   \n",
       "13          13                                    NaN    1   \n",
       "14          14                                    NaN    1   \n",
       "15          15  urgent|36.599999999999994|severe pain    1   \n",
       "16          16                                    NaN    1   \n",
       "17          17                                    NaN    1   \n",
       "18          18  urgent|36.199999999999996|severe pain    1   \n",
       "19          19                                    NaN    1   \n",
       "\n",
       "                     event  patient  time  \n",
       "0                  arrived        1   280  \n",
       "1                  arrived        2   288  \n",
       "2     assessment initiated        1   308  \n",
       "3                  arrived        3   430  \n",
       "4     assessment concluded        1   741  \n",
       "5     assessment initiated        2   764  \n",
       "6   consultation_initiated        1   773  \n",
       "7     assessment concluded        2   851  \n",
       "8     assessment initiated        3   878  \n",
       "9   consultation_initiated        2   905  \n",
       "10                 arrived        4   944  \n",
       "11    assessment concluded        3  1055  \n",
       "12  consultation_initiated        3  1084  \n",
       "13    assessment initiated        4  1089  \n",
       "14                 arrived        5  1139  \n",
       "15    assessment concluded        4  1244  \n",
       "16    assessment initiated        5  1267  \n",
       "17  consultation_initiated        4  1294  \n",
       "18    assessment concluded        5  1351  \n",
       "19  consultation_initiated        5  1378  "
      ]
     },
     "execution_count": 4,
     "metadata": {},
     "output_type": "execute_result"
    }
   ],
   "source": [
    "day1.head(20)"
   ]
  },
  {
   "cell_type": "code",
   "execution_count": 5,
   "metadata": {
    "ExecuteTime": {
     "end_time": "2020-02-22T02:45:46.323846Z",
     "start_time": "2020-02-22T02:45:46.314731Z"
    }
   },
   "outputs": [
    {
     "data": {
      "text/plain": [
       "Unnamed: 0                -0.043085\n",
       "arrival_time              -0.034497\n",
       "assessment_end_time       -0.066131\n",
       "assessment_start_time     -0.065776\n",
       "consultation_end_time      0.038430\n",
       "consultation_start_time   -0.066377\n",
       "day                       -0.044200\n",
       "duration                   1.000000\n",
       "patient                   -0.044809\n",
       "temperature                0.298949\n",
       "Name: duration, dtype: float64"
      ]
     },
     "execution_count": 5,
     "metadata": {},
     "output_type": "execute_result"
    }
   ],
   "source": [
    "summary.corr()['duration']"
   ]
  },
  {
   "cell_type": "code",
   "execution_count": null,
   "metadata": {
    "ExecuteTime": {
     "start_time": "2020-02-22T02:45:45.290Z"
    }
   },
   "outputs": [],
   "source": [
    "sns.pairplot(summary);"
   ]
  },
  {
   "cell_type": "code",
   "execution_count": null,
   "metadata": {
    "ExecuteTime": {
     "start_time": "2020-02-22T02:45:45.291Z"
    }
   },
   "outputs": [],
   "source": [
    "sns.pairplot(day1);"
   ]
  },
  {
   "cell_type": "code",
   "execution_count": null,
   "metadata": {
    "ExecuteTime": {
     "start_time": "2020-02-22T02:45:45.293Z"
    }
   },
   "outputs": [],
   "source": [
    "print(summary.shape)\n",
    "print(len(summary['Unnamed: 0'].unique()))\n",
    "print(len(summary['patient'].unique()))"
   ]
  },
  {
   "cell_type": "code",
   "execution_count": null,
   "metadata": {
    "ExecuteTime": {
     "start_time": "2020-02-22T02:45:45.296Z"
    },
    "scrolled": true
   },
   "outputs": [],
   "source": [
    "summary.head(20)"
   ]
  },
  {
   "cell_type": "code",
   "execution_count": null,
   "metadata": {
    "ExecuteTime": {
     "start_time": "2020-02-22T02:45:45.299Z"
    }
   },
   "outputs": [],
   "source": [
    "sns.scatterplot('patient', 'arrival_time', data=summary, hue='day');"
   ]
  },
  {
   "cell_type": "code",
   "execution_count": null,
   "metadata": {
    "ExecuteTime": {
     "start_time": "2020-02-22T02:45:45.300Z"
    },
    "scrolled": true
   },
   "outputs": [],
   "source": [
    "summary.loc[summary['day'] == 50, 'arrival_time'].corr(summary.loc[summary['day'] == 50, 'patient'])"
   ]
  },
  {
   "cell_type": "code",
   "execution_count": null,
   "metadata": {
    "ExecuteTime": {
     "start_time": "2020-02-22T02:45:45.301Z"
    }
   },
   "outputs": [],
   "source": [
    "df = summary.sort_values(['day', 'arrival_time'])"
   ]
  },
  {
   "cell_type": "code",
   "execution_count": null,
   "metadata": {
    "ExecuteTime": {
     "start_time": "2020-02-22T02:45:45.303Z"
    },
    "scrolled": true
   },
   "outputs": [],
   "source": [
    "sns.distplot(df['duration']);"
   ]
  },
  {
   "cell_type": "code",
   "execution_count": null,
   "metadata": {
    "ExecuteTime": {
     "start_time": "2020-02-22T02:45:45.304Z"
    },
    "scrolled": true
   },
   "outputs": [],
   "source": [
    "sns.distplot(np.log(df['duration']));"
   ]
  },
  {
   "cell_type": "code",
   "execution_count": null,
   "metadata": {
    "ExecuteTime": {
     "start_time": "2020-02-22T02:45:45.306Z"
    }
   },
   "outputs": [],
   "source": [
    "df['log_consult_duration'] = np.log(df['duration'])"
   ]
  },
  {
   "cell_type": "code",
   "execution_count": null,
   "metadata": {
    "ExecuteTime": {
     "start_time": "2020-02-22T02:45:45.307Z"
    },
    "scrolled": true
   },
   "outputs": [],
   "source": [
    "df.info()"
   ]
  },
  {
   "cell_type": "code",
   "execution_count": null,
   "metadata": {
    "ExecuteTime": {
     "start_time": "2020-02-22T02:45:45.308Z"
    }
   },
   "outputs": [],
   "source": [
    "df['assessment_duration'] = df['assessment_end_time'] - df['assessment_start_time']"
   ]
  },
  {
   "cell_type": "code",
   "execution_count": null,
   "metadata": {
    "ExecuteTime": {
     "start_time": "2020-02-22T02:45:45.309Z"
    }
   },
   "outputs": [],
   "source": [
    "df['temperature'].describe()"
   ]
  },
  {
   "cell_type": "code",
   "execution_count": null,
   "metadata": {
    "ExecuteTime": {
     "start_time": "2020-02-22T02:45:45.311Z"
    }
   },
   "outputs": [],
   "source": [
    "df['temp_cat'] = pd.cut(df['temperature'],\n",
    "                        bins=[float('-inf'), 36.5, 37.5, float('inf')],\n",
    "                        labels=['hypothermia', 'normal', 'fever'])"
   ]
  },
  {
   "cell_type": "code",
   "execution_count": null,
   "metadata": {
    "ExecuteTime": {
     "start_time": "2020-02-22T02:45:45.313Z"
    },
    "scrolled": true
   },
   "outputs": [],
   "source": [
    "df = pd.get_dummies(df, columns=['priority', 'pain', 'temp_cat'])"
   ]
  },
  {
   "cell_type": "code",
   "execution_count": null,
   "metadata": {
    "ExecuteTime": {
     "start_time": "2020-02-22T02:45:45.317Z"
    }
   },
   "outputs": [],
   "source": [
    "df"
   ]
  },
  {
   "cell_type": "code",
   "execution_count": null,
   "metadata": {
    "ExecuteTime": {
     "start_time": "2020-02-22T02:45:45.318Z"
    }
   },
   "outputs": [],
   "source": [
    "df['pain_no pain:temp_cat_hypothermia:priority_normal'] =\\\n",
    "df['pain_no pain'] * df['temp_cat_hypothermia'] * df['priority_normal']\n",
    "df['pain_moderate pain:temp_cat_hypothermia:priority_normal'] =\\\n",
    "df['pain_moderate pain'] * df['temp_cat_hypothermia'] * df['priority_normal']\n",
    "df['pain_severe pain:temp_cat_hypothermia:priority_normal'] =\\\n",
    "df['pain_severe pain'] * df['temp_cat_hypothermia'] * df['priority_normal']\n",
    "\n",
    "df['pain_no pain:temp_cat_normal:priority_normal'] =\\\n",
    "df['pain_no pain'] * df['temp_cat_normal'] * df['priority_normal']\n",
    "df['pain_moderate pain:temp_cat_normal:priority_normal'] =\\\n",
    "df['pain_moderate pain'] * df['temp_cat_normal'] * df['priority_normal']\n",
    "df['pain_severe pain:temp_cat_normal:priority_normal'] =\\\n",
    "df['pain_severe pain'] * df['temp_cat_normal'] * df['priority_normal']\n",
    "\n",
    "df['pain_no pain:temp_cat_fever:priority_normal'] =\\\n",
    "df['pain_no pain'] * df['temp_cat_fever'] * df['priority_normal']\n",
    "df['pain_moderate pain:temp_cat_fever:priority_normal'] =\\\n",
    "df['pain_moderate pain'] * df['temp_cat_fever'] * df['priority_normal']\n",
    "df['pain_severe pain:temp_cat_fever:priority_normal'] =\\\n",
    "df['pain_severe pain'] * df['temp_cat_fever'] * df['priority_normal']\n",
    "\n",
    "df['pain_no pain:temp_cat_hypothermia:priority_urgent'] =\\\n",
    "df['pain_no pain'] * df['temp_cat_hypothermia'] * df['priority_urgent']\n",
    "df['pain_moderate pain:temp_cat_hypothermia:priority_urgent'] =\\\n",
    "df['pain_moderate pain'] * df['temp_cat_hypothermia'] * df['priority_urgent']\n",
    "df['pain_severe pain:temp_cat_hypothermia:priority_urgent'] =\\\n",
    "df['pain_severe pain'] * df['temp_cat_hypothermia'] * df['priority_urgent']\n",
    "\n",
    "df['pain_no pain:temp_cat_normal:priority_urgent'] =\\\n",
    "df['pain_no pain'] * df['temp_cat_normal'] * df['priority_urgent']\n",
    "df['pain_moderate pain:temp_cat_normal:priority_urgent'] =\\\n",
    "df['pain_moderate pain'] * df['temp_cat_normal'] * df['priority_urgent']\n",
    "df['pain_severe pain:temp_cat_normal:priority_urgent'] =\\\n",
    "df['pain_severe pain'] * df['temp_cat_normal'] * df['priority_urgent']\n",
    "\n",
    "df['pain_no pain:temp_cat_fever:priority_urgent'] =\\\n",
    "df['pain_no pain'] * df['temp_cat_fever'] * df['priority_urgent']\n",
    "df['pain_moderate pain:temp_cat_fever:priority_urgent'] =\\\n",
    "df['pain_moderate pain'] * df['temp_cat_fever'] * df['priority_urgent']\n",
    "df['pain_severe pain:temp_cat_fever:priority_urgent'] =\\\n",
    "df['pain_severe pain'] * df['temp_cat_fever'] * df['priority_urgent']\n",
    "\n",
    "df.drop(['pain_no pain', 'pain_moderate pain', 'pain_severe pain',\n",
    "         'temp_cat_hypothermia', 'temp_cat_normal', 'temp_cat_fever',\n",
    "         'priority_normal', 'priority_urgent'], axis=1, inplace=True)"
   ]
  },
  {
   "cell_type": "code",
   "execution_count": null,
   "metadata": {
    "ExecuteTime": {
     "start_time": "2020-02-22T02:45:45.319Z"
    }
   },
   "outputs": [],
   "source": [
    "cols_to_drop = ['Unnamed: 0', 'assessment_end_time', 'consultation_end_time', 'duration', 'patient']\n",
    "df.drop(cols_to_drop, axis=1, inplace=True)"
   ]
  },
  {
   "cell_type": "code",
   "execution_count": null,
   "metadata": {
    "ExecuteTime": {
     "start_time": "2020-02-22T02:45:45.321Z"
    },
    "scrolled": true
   },
   "outputs": [],
   "source": [
    "df.info()"
   ]
  },
  {
   "cell_type": "code",
   "execution_count": null,
   "metadata": {
    "ExecuteTime": {
     "start_time": "2020-02-22T02:45:45.322Z"
    }
   },
   "outputs": [],
   "source": [
    "X_train = df[df['day'] <= 45].drop(['day', 'log_consult_duration'], axis=1)\n",
    "X_test = df[df['day'] > 45].drop(['day', 'log_consult_duration'], axis=1)\n",
    "y_train = df.loc[df['day'] <= 45, 'log_consult_duration']\n",
    "y_test = df.loc[df['day'] > 45, 'log_consult_duration']"
   ]
  },
  {
   "cell_type": "code",
   "execution_count": null,
   "metadata": {
    "ExecuteTime": {
     "start_time": "2020-02-22T02:45:45.324Z"
    },
    "scrolled": true
   },
   "outputs": [],
   "source": [
    "tscv = TimeSeriesSplit(n_splits=5)\n",
    "\n",
    "ridge = Ridge(normalize=False, random_state=42)\n",
    "\n",
    "ridge_params ={'alpha': ss.uniform(0, 1)}\n",
    "\n",
    "rscv = RandomizedSearchCV(ridge,\n",
    "                          ridge_params,\n",
    "                          n_iter=1000,\n",
    "                          scoring='neg_root_mean_squared_error',\n",
    "                          n_jobs=-1,\n",
    "                          cv=tscv,\n",
    "                          verbose=1,\n",
    "                          random_state=42,\n",
    "                          return_train_score=True)\n",
    "\n",
    "scaler = StandardScaler()\n",
    "X_train_scaled = scaler.fit_transform(X_train)\n",
    "X_test_scaled = scaler.transform(X_test)\n",
    "\n",
    "rscv.fit(X_train_scaled, y_train)"
   ]
  },
  {
   "cell_type": "code",
   "execution_count": null,
   "metadata": {
    "ExecuteTime": {
     "start_time": "2020-02-22T02:45:45.326Z"
    }
   },
   "outputs": [],
   "source": [
    "lm = rscv.best_estimator_\n",
    "lm"
   ]
  },
  {
   "cell_type": "code",
   "execution_count": null,
   "metadata": {
    "ExecuteTime": {
     "start_time": "2020-02-22T02:45:45.327Z"
    }
   },
   "outputs": [],
   "source": [
    "cv_results = pd.DataFrame(rscv.cv_results_)\n",
    "train_rmse = -cv_results.loc[rscv.best_index_, 'mean_train_score']\n",
    "val_rmse = -cv_results.loc[rscv.best_index_, 'mean_test_score']\n",
    "\n",
    "test_rmse = mean_squared_error(y_test, lm.predict(X_test_scaled))\n",
    "\n",
    "print(f'train rmse: {train_rmse}')\n",
    "print(f'val rmse: {val_rmse}')\n",
    "print(f'test rmse: {test_rmse}')"
   ]
  }
 ],
 "metadata": {
  "kernelspec": {
   "display_name": "Python 3",
   "language": "python",
   "name": "python3"
  },
  "language_info": {
   "codemirror_mode": {
    "name": "ipython",
    "version": 3
   },
   "file_extension": ".py",
   "mimetype": "text/x-python",
   "name": "python",
   "nbconvert_exporter": "python",
   "pygments_lexer": "ipython3",
   "version": "3.7.5"
  },
  "latex_envs": {
   "LaTeX_envs_menu_present": true,
   "autoclose": false,
   "autocomplete": true,
   "bibliofile": "biblio.bib",
   "cite_by": "apalike",
   "current_citInitial": 1,
   "eqLabelWithNumbers": true,
   "eqNumInitial": 1,
   "hotkeys": {
    "equation": "Ctrl-E",
    "itemize": "Ctrl-I"
   },
   "labels_anchors": false,
   "latex_user_defs": false,
   "report_style_numbering": false,
   "user_envs_cfg": false
  },
  "toc": {
   "base_numbering": 1,
   "nav_menu": {},
   "number_sections": true,
   "sideBar": true,
   "skip_h1_title": false,
   "title_cell": "Table of Contents",
   "title_sidebar": "Contents",
   "toc_cell": false,
   "toc_position": {},
   "toc_section_display": true,
   "toc_window_display": false
  },
  "varInspector": {
   "cols": {
    "lenName": 16,
    "lenType": 16,
    "lenVar": 40
   },
   "kernels_config": {
    "python": {
     "delete_cmd_postfix": "",
     "delete_cmd_prefix": "del ",
     "library": "var_list.py",
     "varRefreshCmd": "print(var_dic_list())"
    },
    "r": {
     "delete_cmd_postfix": ") ",
     "delete_cmd_prefix": "rm(",
     "library": "var_list.r",
     "varRefreshCmd": "cat(var_dic_list()) "
    }
   },
   "types_to_exclude": [
    "module",
    "function",
    "builtin_function_or_method",
    "instance",
    "_Feature"
   ],
   "window_display": false
  }
 },
 "nbformat": 4,
 "nbformat_minor": 4
}
