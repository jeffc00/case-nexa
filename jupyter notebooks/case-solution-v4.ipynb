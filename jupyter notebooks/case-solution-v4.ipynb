{
 "cells": [
  {
   "cell_type": "code",
   "execution_count": 1,
   "metadata": {
    "ExecuteTime": {
     "end_time": "2020-02-25T23:01:44.660448Z",
     "start_time": "2020-02-25T23:01:43.605140Z"
    }
   },
   "outputs": [],
   "source": [
    "import pandas as pd\n",
    "import numpy as np\n",
    "import matplotlib.pyplot as plt\n",
    "import seaborn as sns\n",
    "from sklearn.model_selection import train_test_split, TimeSeriesSplit, RandomizedSearchCV\n",
    "from sklearn.linear_model import Ridge\n",
    "from sklearn.preprocessing import StandardScaler\n",
    "from sklearn.metrics import mean_squared_error, r2_score\n",
    "import scipy.stats as ss\n",
    "from tqdm import tqdm"
   ]
  },
  {
   "cell_type": "code",
   "execution_count": 2,
   "metadata": {
    "ExecuteTime": {
     "end_time": "2020-02-25T23:01:44.666335Z",
     "start_time": "2020-02-25T23:01:44.662685Z"
    }
   },
   "outputs": [],
   "source": [
    "pd.options.display.max_columns = 50\n",
    "pd.options.display.max_rows = 100"
   ]
  },
  {
   "cell_type": "code",
   "execution_count": 3,
   "metadata": {
    "ExecuteTime": {
     "end_time": "2020-02-25T23:01:44.703967Z",
     "start_time": "2020-02-25T23:01:44.668587Z"
    }
   },
   "outputs": [],
   "source": [
    "summary = pd.read_csv('data/summary.csv')\n",
    "\n",
    "summary.sort_values(['day', 'assessment_end_time'], inplace=True)\n",
    "summary.reset_index(drop=True, inplace=True)"
   ]
  },
  {
   "cell_type": "code",
   "execution_count": 4,
   "metadata": {
    "ExecuteTime": {
     "end_time": "2020-02-25T23:01:44.711192Z",
     "start_time": "2020-02-25T23:01:44.706284Z"
    }
   },
   "outputs": [],
   "source": [
    "summary_train = summary[summary['day'] <= 45]"
   ]
  },
  {
   "cell_type": "code",
   "execution_count": 5,
   "metadata": {
    "ExecuteTime": {
     "end_time": "2020-02-25T23:01:44.732779Z",
     "start_time": "2020-02-25T23:01:44.713246Z"
    },
    "scrolled": true
   },
   "outputs": [
    {
     "data": {
      "text/html": [
       "<div>\n",
       "<style scoped>\n",
       "    .dataframe tbody tr th:only-of-type {\n",
       "        vertical-align: middle;\n",
       "    }\n",
       "\n",
       "    .dataframe tbody tr th {\n",
       "        vertical-align: top;\n",
       "    }\n",
       "\n",
       "    .dataframe thead th {\n",
       "        text-align: right;\n",
       "    }\n",
       "</style>\n",
       "<table border=\"1\" class=\"dataframe\">\n",
       "  <thead>\n",
       "    <tr style=\"text-align: right;\">\n",
       "      <th></th>\n",
       "      <th>Unnamed: 0</th>\n",
       "      <th>arrival_time</th>\n",
       "      <th>assessment_end_time</th>\n",
       "      <th>assessment_start_time</th>\n",
       "      <th>consultation_end_time</th>\n",
       "      <th>consultation_start_time</th>\n",
       "      <th>day</th>\n",
       "      <th>duration</th>\n",
       "      <th>pain</th>\n",
       "      <th>patient</th>\n",
       "      <th>priority</th>\n",
       "      <th>temperature</th>\n",
       "    </tr>\n",
       "  </thead>\n",
       "  <tbody>\n",
       "    <tr>\n",
       "      <th>0</th>\n",
       "      <td>1</td>\n",
       "      <td>280</td>\n",
       "      <td>741</td>\n",
       "      <td>308</td>\n",
       "      <td>1620</td>\n",
       "      <td>773</td>\n",
       "      <td>1</td>\n",
       "      <td>847</td>\n",
       "      <td>no pain</td>\n",
       "      <td>1</td>\n",
       "      <td>urgent</td>\n",
       "      <td>36.6</td>\n",
       "    </tr>\n",
       "    <tr>\n",
       "      <th>1</th>\n",
       "      <td>2</td>\n",
       "      <td>288</td>\n",
       "      <td>851</td>\n",
       "      <td>764</td>\n",
       "      <td>1881</td>\n",
       "      <td>905</td>\n",
       "      <td>1</td>\n",
       "      <td>976</td>\n",
       "      <td>severe pain</td>\n",
       "      <td>2</td>\n",
       "      <td>normal</td>\n",
       "      <td>36.7</td>\n",
       "    </tr>\n",
       "    <tr>\n",
       "      <th>2</th>\n",
       "      <td>0</td>\n",
       "      <td>430</td>\n",
       "      <td>1055</td>\n",
       "      <td>878</td>\n",
       "      <td>1595</td>\n",
       "      <td>1084</td>\n",
       "      <td>1</td>\n",
       "      <td>510</td>\n",
       "      <td>severe pain</td>\n",
       "      <td>3</td>\n",
       "      <td>normal</td>\n",
       "      <td>36.8</td>\n",
       "    </tr>\n",
       "    <tr>\n",
       "      <th>3</th>\n",
       "      <td>3</td>\n",
       "      <td>944</td>\n",
       "      <td>1244</td>\n",
       "      <td>1089</td>\n",
       "      <td>2105</td>\n",
       "      <td>1294</td>\n",
       "      <td>1</td>\n",
       "      <td>810</td>\n",
       "      <td>severe pain</td>\n",
       "      <td>4</td>\n",
       "      <td>urgent</td>\n",
       "      <td>36.6</td>\n",
       "    </tr>\n",
       "    <tr>\n",
       "      <th>4</th>\n",
       "      <td>11</td>\n",
       "      <td>1139</td>\n",
       "      <td>1351</td>\n",
       "      <td>1267</td>\n",
       "      <td>3322</td>\n",
       "      <td>1378</td>\n",
       "      <td>1</td>\n",
       "      <td>1943</td>\n",
       "      <td>severe pain</td>\n",
       "      <td>5</td>\n",
       "      <td>urgent</td>\n",
       "      <td>36.2</td>\n",
       "    </tr>\n",
       "  </tbody>\n",
       "</table>\n",
       "</div>"
      ],
      "text/plain": [
       "   Unnamed: 0  arrival_time  assessment_end_time  assessment_start_time  \\\n",
       "0           1           280                  741                    308   \n",
       "1           2           288                  851                    764   \n",
       "2           0           430                 1055                    878   \n",
       "3           3           944                 1244                   1089   \n",
       "4          11          1139                 1351                   1267   \n",
       "\n",
       "   consultation_end_time  consultation_start_time  day  duration         pain  \\\n",
       "0                   1620                      773    1       847      no pain   \n",
       "1                   1881                      905    1       976  severe pain   \n",
       "2                   1595                     1084    1       510  severe pain   \n",
       "3                   2105                     1294    1       810  severe pain   \n",
       "4                   3322                     1378    1      1943  severe pain   \n",
       "\n",
       "   patient priority  temperature  \n",
       "0        1   urgent         36.6  \n",
       "1        2   normal         36.7  \n",
       "2        3   normal         36.8  \n",
       "3        4   urgent         36.6  \n",
       "4        5   urgent         36.2  "
      ]
     },
     "execution_count": 5,
     "metadata": {},
     "output_type": "execute_result"
    }
   ],
   "source": [
    "summary_train.head()"
   ]
  },
  {
   "cell_type": "code",
   "execution_count": 6,
   "metadata": {
    "ExecuteTime": {
     "end_time": "2020-02-25T23:01:45.080929Z",
     "start_time": "2020-02-25T23:01:44.735251Z"
    }
   },
   "outputs": [
    {
     "data": {
      "image/png": "[encoded data removed]",
      "text/plain": [
       "<Figure size 432x288 with 1 Axes>"
      ]
     },
     "metadata": {
      "needs_background": "light"
     },
     "output_type": "display_data"
    }
   ],
   "source": [
    "sns.scatterplot(x='temperature', y='duration', data=summary_train, hue='priority', alpha=.5);"
   ]
  },
  {
   "cell_type": "code",
   "execution_count": 7,
   "metadata": {
    "ExecuteTime": {
     "end_time": "2020-02-25T23:01:45.873902Z",
     "start_time": "2020-02-25T23:01:45.083086Z"
    }
   },
   "outputs": [
    {
     "data": {
      "image/png": "[encoded data removed]",
      "text/plain": [
       "<Figure size 1080x288 with 3 Axes>"
      ]
     },
     "metadata": {
      "needs_background": "light"
     },
     "output_type": "display_data"
    }
   ],
   "source": [
    "fig, ax = plt.subplots(1, 3, figsize=(15, 4))\n",
    "\n",
    "sns.scatterplot(x='assessment_end_time',\n",
    "                y='consultation_start_time',\n",
    "                data=summary_train,\n",
    "                hue='priority',\n",
    "                alpha=.5,\n",
    "                ax=ax[0])\n",
    "\n",
    "sns.scatterplot(x='assessment_end_time',\n",
    "                y='consultation_end_time',\n",
    "                data=summary_train,\n",
    "                hue='priority',\n",
    "                alpha=.5,\n",
    "                ax=ax[1])\n",
    "\n",
    "sns.scatterplot(x='assessment_end_time',\n",
    "                y='duration',\n",
    "                data=summary_train,\n",
    "                hue='priority',\n",
    "                alpha=.5,\n",
    "                ax=ax[2])\n",
    "\n",
    "plt.subplots_adjust(wspace=.35);"
   ]
  },
  {
   "cell_type": "code",
   "execution_count": 8,
   "metadata": {
    "ExecuteTime": {
     "end_time": "2020-02-25T23:01:46.207326Z",
     "start_time": "2020-02-25T23:01:45.877759Z"
    }
   },
   "outputs": [
    {
     "data": {
      "image/png": "[encoded data removed]",
      "text/plain": [
       "<Figure size 432x288 with 1 Axes>"
      ]
     },
     "metadata": {
      "needs_background": "light"
     },
     "output_type": "display_data"
    }
   ],
   "source": [
    "sns.scatterplot(x='temperature', y='duration', data=summary_train, hue='priority', alpha=.5);"
   ]
  },
  {
   "cell_type": "code",
   "execution_count": 9,
   "metadata": {
    "ExecuteTime": {
     "end_time": "2020-02-25T23:01:46.562792Z",
     "start_time": "2020-02-25T23:01:46.209796Z"
    }
   },
   "outputs": [
    {
     "data": {
      "image/png": "[encoded data removed]",
      "text/plain": [
       "<Figure size 720x288 with 2 Axes>"
      ]
     },
     "metadata": {
      "needs_background": "light"
     },
     "output_type": "display_data"
    }
   ],
   "source": [
    "fig, ax = plt.subplots(1, 2, figsize=(10, 4))\n",
    "\n",
    "sns.distplot(summary['duration'], ax=ax[0])\n",
    "sns.distplot(np.log(summary['duration']), axlabel='log(duration)', ax=ax[1]);"
   ]
  },
  {
   "cell_type": "code",
   "execution_count": 10,
   "metadata": {
    "ExecuteTime": {
     "end_time": "2020-02-25T23:01:46.569215Z",
     "start_time": "2020-02-25T23:01:46.565106Z"
    }
   },
   "outputs": [],
   "source": [
    "summary['consultation_end_time'] = np.log(summary['duration'])"
   ]
  },
  {
   "cell_type": "code",
   "execution_count": 11,
   "metadata": {
    "ExecuteTime": {
     "end_time": "2020-02-25T23:01:46.583351Z",
     "start_time": "2020-02-25T23:01:46.571582Z"
    }
   },
   "outputs": [],
   "source": [
    "summary['temp_cat'] = pd.cut(summary['temperature'],\n",
    "                             bins=[float('-inf'), 36.5, 37.5, float('inf')],\n",
    "                             labels=['hypothermia', 'normal', 'fever'])"
   ]
  },
  {
   "cell_type": "code",
   "execution_count": 12,
   "metadata": {
    "ExecuteTime": {
     "end_time": "2020-02-25T23:01:46.596995Z",
     "start_time": "2020-02-25T23:01:46.585616Z"
    }
   },
   "outputs": [],
   "source": [
    "priority_map = {'normal': 1, 'urgent': 2}\n",
    "summary['priority_enc'] = summary['priority'].map(priority_map)\n",
    "\n",
    "pain_map = {'no pain': 1, 'moderate pain': 2, 'severe pain': 3}\n",
    "summary['pain_enc'] = summary['pain'].map(pain_map)\n",
    "\n",
    "temp_map = {'hypothermia': 2, 'normal': 1, 'fever': 2}\n",
    "summary['temp_cat_enc'] = summary['temp_cat'].map(temp_map)"
   ]
  },
  {
   "cell_type": "code",
   "execution_count": 13,
   "metadata": {
    "ExecuteTime": {
     "end_time": "2020-02-25T23:01:46.614337Z",
     "start_time": "2020-02-25T23:01:46.599491Z"
    }
   },
   "outputs": [],
   "source": [
    "summary = pd.get_dummies(summary, columns=['pain', 'temp_cat'])"
   ]
  },
  {
   "cell_type": "code",
   "execution_count": 14,
   "metadata": {
    "ExecuteTime": {
     "end_time": "2020-02-25T23:01:46.649180Z",
     "start_time": "2020-02-25T23:01:46.616533Z"
    }
   },
   "outputs": [],
   "source": [
    "summary['pain_no pain:temp_cat_hypothermia'] =\\\n",
    "summary['pain_no pain'] * summary['temp_cat_hypothermia']\n",
    "summary['pain_moderate pain:temp_cat_hypothermia'] =\\\n",
    "summary['pain_moderate pain'] * summary['temp_cat_hypothermia']\n",
    "summary['pain_severe pain:temp_cat_hypothermia'] =\\\n",
    "summary['pain_severe pain'] * summary['temp_cat_hypothermia']\n",
    "\n",
    "summary['pain_no pain:temp_cat_normal'] = summary['pain_no pain'] * summary['temp_cat_normal']\n",
    "summary['pain_moderate pain:temp_cat_normal'] = summary['pain_moderate pain'] * summary['temp_cat_normal']\n",
    "summary['pain_severe pain:temp_cat_normal'] = summary['pain_severe pain'] * summary['temp_cat_normal']\n",
    "\n",
    "summary['pain_no pain:temp_cat_fever'] = summary['pain_no pain'] * summary['temp_cat_fever']\n",
    "summary['pain_moderate pain:temp_cat_fever'] = summary['pain_moderate pain'] * summary['temp_cat_fever']\n",
    "summary['pain_severe pain:temp_cat_fever'] = summary['pain_severe pain'] * summary['temp_cat_fever']\n",
    "\n",
    "summary.drop(['pain_no pain', 'pain_moderate pain', 'pain_severe pain',\n",
    "              'temp_cat_hypothermia', 'temp_cat_normal', 'temp_cat_fever'],\n",
    "             axis=1, inplace=True)"
   ]
  },
  {
   "cell_type": "code",
   "execution_count": 15,
   "metadata": {
    "ExecuteTime": {
     "end_time": "2020-02-25T23:01:46.665392Z",
     "start_time": "2020-02-25T23:01:46.650809Z"
    },
    "scrolled": true
   },
   "outputs": [
    {
     "data": {
      "text/html": [
       "<div>\n",
       "<style scoped>\n",
       "    .dataframe tbody tr th:only-of-type {\n",
       "        vertical-align: middle;\n",
       "    }\n",
       "\n",
       "    .dataframe tbody tr th {\n",
       "        vertical-align: top;\n",
       "    }\n",
       "\n",
       "    .dataframe thead th {\n",
       "        text-align: right;\n",
       "    }\n",
       "</style>\n",
       "<table border=\"1\" class=\"dataframe\">\n",
       "  <thead>\n",
       "    <tr style=\"text-align: right;\">\n",
       "      <th></th>\n",
       "      <th>Unnamed: 0</th>\n",
       "      <th>arrival_time</th>\n",
       "      <th>assessment_end_time</th>\n",
       "      <th>assessment_start_time</th>\n",
       "      <th>consultation_end_time</th>\n",
       "      <th>consultation_start_time</th>\n",
       "      <th>day</th>\n",
       "      <th>duration</th>\n",
       "      <th>patient</th>\n",
       "      <th>priority</th>\n",
       "      <th>temperature</th>\n",
       "      <th>consultation_end_time</th>\n",
       "      <th>priority_enc</th>\n",
       "      <th>pain_enc</th>\n",
       "      <th>temp_cat_enc</th>\n",
       "      <th>pain_no pain:temp_cat_hypothermia</th>\n",
       "      <th>pain_moderate pain:temp_cat_hypothermia</th>\n",
       "      <th>pain_severe pain:temp_cat_hypothermia</th>\n",
       "      <th>pain_no pain:temp_cat_normal</th>\n",
       "      <th>pain_moderate pain:temp_cat_normal</th>\n",
       "      <th>pain_severe pain:temp_cat_normal</th>\n",
       "      <th>pain_no pain:temp_cat_fever</th>\n",
       "      <th>pain_moderate pain:temp_cat_fever</th>\n",
       "      <th>pain_severe pain:temp_cat_fever</th>\n",
       "    </tr>\n",
       "  </thead>\n",
       "  <tbody>\n",
       "    <tr>\n",
       "      <th>0</th>\n",
       "      <td>1</td>\n",
       "      <td>280</td>\n",
       "      <td>741</td>\n",
       "      <td>308</td>\n",
       "      <td>1620</td>\n",
       "      <td>773</td>\n",
       "      <td>1</td>\n",
       "      <td>847</td>\n",
       "      <td>1</td>\n",
       "      <td>urgent</td>\n",
       "      <td>36.6</td>\n",
       "      <td>6.741701</td>\n",
       "      <td>2</td>\n",
       "      <td>1</td>\n",
       "      <td>1</td>\n",
       "      <td>0</td>\n",
       "      <td>0</td>\n",
       "      <td>0</td>\n",
       "      <td>1</td>\n",
       "      <td>0</td>\n",
       "      <td>0</td>\n",
       "      <td>0</td>\n",
       "      <td>0</td>\n",
       "      <td>0</td>\n",
       "    </tr>\n",
       "    <tr>\n",
       "      <th>1</th>\n",
       "      <td>2</td>\n",
       "      <td>288</td>\n",
       "      <td>851</td>\n",
       "      <td>764</td>\n",
       "      <td>1881</td>\n",
       "      <td>905</td>\n",
       "      <td>1</td>\n",
       "      <td>976</td>\n",
       "      <td>2</td>\n",
       "      <td>normal</td>\n",
       "      <td>36.7</td>\n",
       "      <td>6.883463</td>\n",
       "      <td>1</td>\n",
       "      <td>3</td>\n",
       "      <td>1</td>\n",
       "      <td>0</td>\n",
       "      <td>0</td>\n",
       "      <td>0</td>\n",
       "      <td>0</td>\n",
       "      <td>0</td>\n",
       "      <td>1</td>\n",
       "      <td>0</td>\n",
       "      <td>0</td>\n",
       "      <td>0</td>\n",
       "    </tr>\n",
       "    <tr>\n",
       "      <th>2</th>\n",
       "      <td>0</td>\n",
       "      <td>430</td>\n",
       "      <td>1055</td>\n",
       "      <td>878</td>\n",
       "      <td>1595</td>\n",
       "      <td>1084</td>\n",
       "      <td>1</td>\n",
       "      <td>510</td>\n",
       "      <td>3</td>\n",
       "      <td>normal</td>\n",
       "      <td>36.8</td>\n",
       "      <td>6.234411</td>\n",
       "      <td>1</td>\n",
       "      <td>3</td>\n",
       "      <td>1</td>\n",
       "      <td>0</td>\n",
       "      <td>0</td>\n",
       "      <td>0</td>\n",
       "      <td>0</td>\n",
       "      <td>0</td>\n",
       "      <td>1</td>\n",
       "      <td>0</td>\n",
       "      <td>0</td>\n",
       "      <td>0</td>\n",
       "    </tr>\n",
       "    <tr>\n",
       "      <th>3</th>\n",
       "      <td>3</td>\n",
       "      <td>944</td>\n",
       "      <td>1244</td>\n",
       "      <td>1089</td>\n",
       "      <td>2105</td>\n",
       "      <td>1294</td>\n",
       "      <td>1</td>\n",
       "      <td>810</td>\n",
       "      <td>4</td>\n",
       "      <td>urgent</td>\n",
       "      <td>36.6</td>\n",
       "      <td>6.697034</td>\n",
       "      <td>2</td>\n",
       "      <td>3</td>\n",
       "      <td>1</td>\n",
       "      <td>0</td>\n",
       "      <td>0</td>\n",
       "      <td>0</td>\n",
       "      <td>0</td>\n",
       "      <td>0</td>\n",
       "      <td>1</td>\n",
       "      <td>0</td>\n",
       "      <td>0</td>\n",
       "      <td>0</td>\n",
       "    </tr>\n",
       "    <tr>\n",
       "      <th>4</th>\n",
       "      <td>11</td>\n",
       "      <td>1139</td>\n",
       "      <td>1351</td>\n",
       "      <td>1267</td>\n",
       "      <td>3322</td>\n",
       "      <td>1378</td>\n",
       "      <td>1</td>\n",
       "      <td>1943</td>\n",
       "      <td>5</td>\n",
       "      <td>urgent</td>\n",
       "      <td>36.2</td>\n",
       "      <td>7.571988</td>\n",
       "      <td>2</td>\n",
       "      <td>3</td>\n",
       "      <td>2</td>\n",
       "      <td>0</td>\n",
       "      <td>0</td>\n",
       "      <td>1</td>\n",
       "      <td>0</td>\n",
       "      <td>0</td>\n",
       "      <td>0</td>\n",
       "      <td>0</td>\n",
       "      <td>0</td>\n",
       "      <td>0</td>\n",
       "    </tr>\n",
       "  </tbody>\n",
       "</table>\n",
       "</div>"
      ],
      "text/plain": [
       "   Unnamed: 0  arrival_time  assessment_end_time  assessment_start_time  \\\n",
       "0           1           280                  741                    308   \n",
       "1           2           288                  851                    764   \n",
       "2           0           430                 1055                    878   \n",
       "3           3           944                 1244                   1089   \n",
       "4          11          1139                 1351                   1267   \n",
       "\n",
       "   consultation_end_time  consultation_start_time  day  duration  patient  \\\n",
       "0                   1620                      773    1       847        1   \n",
       "1                   1881                      905    1       976        2   \n",
       "2                   1595                     1084    1       510        3   \n",
       "3                   2105                     1294    1       810        4   \n",
       "4                   3322                     1378    1      1943        5   \n",
       "\n",
       "  priority  temperature  consultation_end_time  priority_enc  pain_enc  \\\n",
       "0   urgent         36.6              6.741701             2         1   \n",
       "1   normal         36.7              6.883463             1         3   \n",
       "2   normal         36.8              6.234411             1         3   \n",
       "3   urgent         36.6              6.697034             2         3   \n",
       "4   urgent         36.2              7.571988             2         3   \n",
       "\n",
       "   temp_cat_enc  pain_no pain:temp_cat_hypothermia  \\\n",
       "0             1                                  0   \n",
       "1             1                                  0   \n",
       "2             1                                  0   \n",
       "3             1                                  0   \n",
       "4             2                                  0   \n",
       "\n",
       "   pain_moderate pain:temp_cat_hypothermia  \\\n",
       "0                                        0   \n",
       "1                                        0   \n",
       "2                                        0   \n",
       "3                                        0   \n",
       "4                                        0   \n",
       "\n",
       "   pain_severe pain:temp_cat_hypothermia  pain_no pain:temp_cat_normal  \\\n",
       "0                                      0                             1   \n",
       "1                                      0                             0   \n",
       "2                                      0                             0   \n",
       "3                                      0                             0   \n",
       "4                                      1                             0   \n",
       "\n",
       "   pain_moderate pain:temp_cat_normal  pain_severe pain:temp_cat_normal  \\\n",
       "0                                   0                                 0   \n",
       "1                                   0                                 1   \n",
       "2                                   0                                 1   \n",
       "3                                   0                                 1   \n",
       "4                                   0                                 0   \n",
       "\n",
       "   pain_no pain:temp_cat_fever  pain_moderate pain:temp_cat_fever  \\\n",
       "0                            0                                  0   \n",
       "1                            0                                  0   \n",
       "2                            0                                  0   \n",
       "3                            0                                  0   \n",
       "4                            0                                  0   \n",
       "\n",
       "   pain_severe pain:temp_cat_fever  \n",
       "0                                0  \n",
       "1                                0  \n",
       "2                                0  \n",
       "3                                0  \n",
       "4                                0  "
      ]
     },
     "execution_count": 15,
     "metadata": {},
     "output_type": "execute_result"
    }
   ],
   "source": [
    "summary.head()"
   ]
  },
  {
   "cell_type": "code",
   "execution_count": 16,
   "metadata": {
    "ExecuteTime": {
     "end_time": "2020-02-25T23:01:46.687079Z",
     "start_time": "2020-02-25T23:01:46.668097Z"
    }
   },
   "outputs": [],
   "source": [
    "def create_new_features(df):\n",
    "    '''\n",
    "    Given a dataframe, returns dataframe with added new features:\n",
    "        free_doctors: number of doctors available after patient has passed triage\n",
    "        queue_size: queue size after patient has passed triage\n",
    "        urgents_on_queue: number of urgent priority patients on queue after patient has passed triage\n",
    "    '''\n",
    "    \n",
    "    free_docs = [6]\n",
    "    q_urg = [list()]\n",
    "    q_norm = [list()]\n",
    "    q_real = [list()]\n",
    "    urgs_on_q = [0]\n",
    "    q_size = 0\n",
    "    nonbusy_docs = 0\n",
    "    consult_endtime_ls = [df.loc[0, 'consultation_end_time']]\n",
    "    \n",
    "    for i in range(1, len(df)):\n",
    "        nonbusy_docs = (df.loc[i, 'assessment_end_time'] >= consult_endtime_ls).sum()\n",
    "        consult_endtime_ls = consult_endtime_ls[nonbusy_docs:]\n",
    "\n",
    "        if free_docs[i - 1] > 1:\n",
    "            free_docs.append(free_docs[i - 1] - 1 + nonbusy_docs)\n",
    "            consult_endtime_ls.append(df.loc[i, 'consultation_end_time'])\n",
    "            consult_endtime_ls = sorted(consult_endtime_ls)\n",
    "            q_urg.append(q_urg[i - 1])\n",
    "            q_norm.append(q_norm[i - 1])\n",
    "            q_real.append(q_urg[i] + q_norm[i])\n",
    "            urgs_on_q.append(urgs_on_q[i - 1])\n",
    "        elif nonbusy_docs == 0:\n",
    "            free_docs.append(0)\n",
    "            if df.loc[i, 'priority'] == 'urgent':\n",
    "                urgs_on_q.append(urgs_on_q[i - 1] + 1)\n",
    "                q_urg.append(q_urg[i - 1] + [i])\n",
    "                q_norm.append(q_norm[i - 1])\n",
    "            else:\n",
    "                urgs_on_q.append(urgs_on_q[i - 1])\n",
    "                q_urg.append(q_urg[i - 1])\n",
    "                q_norm.append(q_norm[i - 1] + [i])\n",
    "            q_real.append(q_urg[i] + q_norm[i])\n",
    "            q_size = len(q_real[i])\n",
    "        elif q_size == 0:\n",
    "            free_docs.append(free_docs[i - 1] - 1 + nonbusy_docs)\n",
    "            q_urg.append(q_urg[i - 1])\n",
    "            q_norm.append(q_norm[i - 1])\n",
    "            q_real.append(q_urg[i] + q_norm[i])\n",
    "            urgs_on_q.append(urgs_on_q[i - 1])\n",
    "            consult_endtime_ls.append(df.loc[i, 'consultation_end_time'])\n",
    "            consult_endtime_ls = sorted(consult_endtime_ls)\n",
    "        else:\n",
    "            free_docs.append(np.max([free_docs[i - 1] + nonbusy_docs - q_size, 0]))\n",
    "            if df.loc[i, 'priority'] == 'urgent':\n",
    "                urgs_on_q.append(urgs_on_q[i - 1] + 1)\n",
    "                q_urg.append(q_urg[i - 1] + [i])\n",
    "                q_norm.append(q_norm[i - 1])\n",
    "            else:\n",
    "                urgs_on_q.append(urgs_on_q[i - 1])\n",
    "                q_urg.append(q_urg[i - 1])\n",
    "                q_norm.append(q_norm[i - 1] + [i])\n",
    "            q_real.append(q_urg[i] + q_norm[i])\n",
    "            q_size = len(q_real[i])\n",
    "            while q_size > 0 and nonbusy_docs > 0:\n",
    "                patient = q_real[i].pop(0)\n",
    "                if df.loc[patient, 'priority'] == 'urgent':\n",
    "                    urgs_on_q[i] -= 1\n",
    "                    q_urg[i].pop(0)\n",
    "                else:\n",
    "                    q_norm[i].pop(0)\n",
    "                consult_endtime_ls.append(df.loc[patient, 'consultation_end_time'])\n",
    "                consult_endtime_ls = sorted(consult_endtime_ls)\n",
    "                q_size -= 1\n",
    "                nonbusy_docs -= 1\n",
    "                \n",
    "#     new_features = pd.DataFrame([free_docs, pd.Series(q_real).apply(lambda x: len(x)), urgs_on_q],\n",
    "#                                 index=['free_doctors', 'queue_size', 'urgents_on_queue']).T\n",
    "    \n",
    "    new_features = pd.DataFrame([free_docs, pd.Series(q_real).apply(lambda x: len(x))],\n",
    "                            index=['free_doctors', 'queue_size']).T\n",
    "    \n",
    "    return pd.concat([df, new_features], axis=1)"
   ]
  },
  {
   "cell_type": "code",
   "execution_count": 17,
   "metadata": {
    "ExecuteTime": {
     "end_time": "2020-02-25T23:01:47.287009Z",
     "start_time": "2020-02-25T23:01:46.689389Z"
    }
   },
   "outputs": [],
   "source": [
    "summary_new = pd.DataFrame(columns=summary.columns)\n",
    "for i in summary['day'].unique():\n",
    "    df = create_new_features(summary[summary['day'] == i].reset_index(drop=True))\n",
    "    summary_new = pd.concat([summary_new, df], axis=0)\n",
    "\n",
    "cols_to_drop = ['Unnamed: 0', 'arrival_time', 'assessment_start_time', 'patient',\n",
    "                'priority', 'consultation_end_time', 'duration', 'temperature']\n",
    "\n",
    "summary_new = summary_new.drop(cols_to_drop, axis=1).reset_index(drop=True)"
   ]
  },
  {
   "cell_type": "code",
   "execution_count": 18,
   "metadata": {
    "ExecuteTime": {
     "end_time": "2020-02-25T23:01:47.296623Z",
     "start_time": "2020-02-25T23:01:47.288698Z"
    }
   },
   "outputs": [],
   "source": [
    "summary_new_train = summary_new[summary_new['day'] <= 45]\n",
    "summary_new_test = summary_new[summary_new['day'] > 45]"
   ]
  },
  {
   "cell_type": "code",
   "execution_count": 19,
   "metadata": {
    "ExecuteTime": {
     "end_time": "2020-02-25T23:01:47.314647Z",
     "start_time": "2020-02-25T23:01:47.298642Z"
    },
    "scrolled": true
   },
   "outputs": [],
   "source": [
    "best_params_ls = []\n",
    "train_rmse_ls = []\n",
    "val_rmse_ls = []\n",
    "\n",
    "def get_best_params_and_rmse(df):\n",
    "    '''\n",
    "    Given df, returns:\n",
    "        - a list of the parameters of the best model for each day\n",
    "        - a list of the cv train rmse of the best model for each day\n",
    "        - a list of the cv validation rmse of the best model for each day\n",
    "    '''\n",
    "    \n",
    "    for i in tqdm(df['day'].unique()):\n",
    "        X_train = df[df['day'] == i].drop(['day', 'consultation_end_time'], axis=1)\n",
    "        y_train = df.loc[df['day'] == i, 'consultation_end_time']\n",
    "\n",
    "        tscv = TimeSeriesSplit(n_splits=5)\n",
    "\n",
    "        ridge = Ridge(normalize=True, random_state=42)\n",
    "        ridge_params = {'alpha': ss.uniform(0, 6)}\n",
    "\n",
    "        rscv = RandomizedSearchCV(ridge,\n",
    "                                  ridge_params,\n",
    "#                                   n_iter=1000,\n",
    "                                  n_iter=100,\n",
    "                                  scoring='neg_root_mean_squared_error',\n",
    "                                  n_jobs=-1,\n",
    "                                  cv=tscv,\n",
    "                                  verbose=1,\n",
    "                                  random_state=42,\n",
    "                                  return_train_score=True)\n",
    "\n",
    "        rscv.fit(X_train, y_train)\n",
    "\n",
    "        best_params_ls.append(rscv.best_params_)\n",
    "\n",
    "        cv_results = pd.DataFrame(rscv.cv_results_)\n",
    "        train_rmse_ls.append(-cv_results.loc[rscv.best_index_, 'mean_train_score'])\n",
    "        val_rmse_ls.append(-cv_results.loc[rscv.best_index_, 'mean_test_score'])\n",
    "        \n",
    "    return best_params_ls, train_rmse_ls, val_rmse_ls"
   ]
  },
  {
   "cell_type": "code",
   "execution_count": 20,
   "metadata": {
    "ExecuteTime": {
     "end_time": "2020-02-25T23:02:21.483576Z",
     "start_time": "2020-02-25T23:01:47.316761Z"
    }
   },
   "outputs": [
    {
     "name": "stderr",
     "output_type": "stream",
     "text": [
      "\r",
      "  0%|          | 0/45 [00:00<?, ?it/s]"
     ]
    },
    {
     "name": "stdout",
     "output_type": "stream",
     "text": [
      "Fitting 5 folds for each of 100 candidates, totalling 500 fits\n"
     ]
    },
    {
     "name": "stderr",
     "output_type": "stream",
     "text": [
      "[Parallel(n_jobs=-1)]: Using backend LokyBackend with 8 concurrent workers.\n",
      "[Parallel(n_jobs=-1)]: Done  34 tasks      | elapsed:    2.4s\n",
      "[Parallel(n_jobs=-1)]: Done 500 out of 500 | elapsed:    3.5s finished\n",
      "  2%|▏         | 1/45 [00:03<02:36,  3.57s/it][Parallel(n_jobs=-1)]: Using backend LokyBackend with 8 concurrent workers.\n"
     ]
    },
    {
     "name": "stdout",
     "output_type": "stream",
     "text": [
      "Fitting 5 folds for each of 100 candidates, totalling 500 fits\n"
     ]
    },
    {
     "name": "stderr",
     "output_type": "stream",
     "text": [
      "[Parallel(n_jobs=-1)]: Done  56 tasks      | elapsed:    0.2s\n",
      "[Parallel(n_jobs=-1)]: Done 500 out of 500 | elapsed:    0.9s finished\n",
      "  4%|▍         | 2/45 [00:04<01:58,  2.76s/it][Parallel(n_jobs=-1)]: Using backend LokyBackend with 8 concurrent workers.\n"
     ]
    },
    {
     "name": "stdout",
     "output_type": "stream",
     "text": [
      "Fitting 5 folds for each of 100 candidates, totalling 500 fits\n"
     ]
    },
    {
     "name": "stderr",
     "output_type": "stream",
     "text": [
      "[Parallel(n_jobs=-1)]: Done  56 tasks      | elapsed:    0.2s\n",
      "[Parallel(n_jobs=-1)]: Done 500 out of 500 | elapsed:    0.9s finished\n",
      "  7%|▋         | 3/45 [00:05<01:32,  2.21s/it][Parallel(n_jobs=-1)]: Using backend LokyBackend with 8 concurrent workers.\n"
     ]
    },
    {
     "name": "stdout",
     "output_type": "stream",
     "text": [
      "Fitting 5 folds for each of 100 candidates, totalling 500 fits\n"
     ]
    },
    {
     "name": "stderr",
     "output_type": "stream",
     "text": [
      "[Parallel(n_jobs=-1)]: Done  56 tasks      | elapsed:    0.3s\n",
      "[Parallel(n_jobs=-1)]: Done 500 out of 500 | elapsed:    0.8s finished\n",
      "  9%|▉         | 4/45 [00:06<01:13,  1.80s/it][Parallel(n_jobs=-1)]: Using backend LokyBackend with 8 concurrent workers.\n"
     ]
    },
    {
     "name": "stdout",
     "output_type": "stream",
     "text": [
      "Fitting 5 folds for each of 100 candidates, totalling 500 fits\n"
     ]
    },
    {
     "name": "stderr",
     "output_type": "stream",
     "text": [
      "[Parallel(n_jobs=-1)]: Done  56 tasks      | elapsed:    0.3s\n",
      "[Parallel(n_jobs=-1)]: Done 500 out of 500 | elapsed:    0.8s finished\n",
      " 11%|█         | 5/45 [00:07<01:00,  1.52s/it][Parallel(n_jobs=-1)]: Using backend LokyBackend with 8 concurrent workers.\n"
     ]
    },
    {
     "name": "stdout",
     "output_type": "stream",
     "text": [
      "Fitting 5 folds for each of 100 candidates, totalling 500 fits\n"
     ]
    },
    {
     "name": "stderr",
     "output_type": "stream",
     "text": [
      "[Parallel(n_jobs=-1)]: Done  56 tasks      | elapsed:    0.2s\n",
      "[Parallel(n_jobs=-1)]: Done 500 out of 500 | elapsed:    0.8s finished\n",
      " 13%|█▎        | 6/45 [00:07<00:51,  1.32s/it][Parallel(n_jobs=-1)]: Using backend LokyBackend with 8 concurrent workers.\n"
     ]
    },
    {
     "name": "stdout",
     "output_type": "stream",
     "text": [
      "Fitting 5 folds for each of 100 candidates, totalling 500 fits\n"
     ]
    },
    {
     "name": "stderr",
     "output_type": "stream",
     "text": [
      "[Parallel(n_jobs=-1)]: Done  56 tasks      | elapsed:    0.3s\n",
      "[Parallel(n_jobs=-1)]: Done 500 out of 500 | elapsed:    0.8s finished\n",
      " 16%|█▌        | 7/45 [00:08<00:44,  1.16s/it][Parallel(n_jobs=-1)]: Using backend LokyBackend with 8 concurrent workers.\n",
      "[Parallel(n_jobs=-1)]: Done  56 tasks      | elapsed:    0.2s\n"
     ]
    },
    {
     "name": "stdout",
     "output_type": "stream",
     "text": [
      "Fitting 5 folds for each of 100 candidates, totalling 500 fits\n"
     ]
    },
    {
     "name": "stderr",
     "output_type": "stream",
     "text": [
      "[Parallel(n_jobs=-1)]: Done 500 out of 500 | elapsed:    0.6s finished\n",
      " 18%|█▊        | 8/45 [00:09<00:36,  1.00it/s][Parallel(n_jobs=-1)]: Using backend LokyBackend with 8 concurrent workers.\n"
     ]
    },
    {
     "name": "stdout",
     "output_type": "stream",
     "text": [
      "Fitting 5 folds for each of 100 candidates, totalling 500 fits\n"
     ]
    },
    {
     "name": "stderr",
     "output_type": "stream",
     "text": [
      "[Parallel(n_jobs=-1)]: Done  56 tasks      | elapsed:    0.2s\n",
      "[Parallel(n_jobs=-1)]: Done 500 out of 500 | elapsed:    0.6s finished\n",
      " 20%|██        | 9/45 [00:09<00:32,  1.12it/s][Parallel(n_jobs=-1)]: Using backend LokyBackend with 8 concurrent workers.\n",
      "[Parallel(n_jobs=-1)]: Done  56 tasks      | elapsed:    0.2s\n"
     ]
    },
    {
     "name": "stdout",
     "output_type": "stream",
     "text": [
      "Fitting 5 folds for each of 100 candidates, totalling 500 fits\n"
     ]
    },
    {
     "name": "stderr",
     "output_type": "stream",
     "text": [
      "[Parallel(n_jobs=-1)]: Done 500 out of 500 | elapsed:    0.6s finished\n",
      " 22%|██▏       | 10/45 [00:10<00:28,  1.23it/s][Parallel(n_jobs=-1)]: Using backend LokyBackend with 8 concurrent workers.\n"
     ]
    },
    {
     "name": "stdout",
     "output_type": "stream",
     "text": [
      "Fitting 5 folds for each of 100 candidates, totalling 500 fits\n"
     ]
    },
    {
     "name": "stderr",
     "output_type": "stream",
     "text": [
      "[Parallel(n_jobs=-1)]: Done  56 tasks      | elapsed:    0.2s\n",
      "[Parallel(n_jobs=-1)]: Done 500 out of 500 | elapsed:    0.7s finished\n",
      " 24%|██▍       | 11/45 [00:11<00:26,  1.29it/s][Parallel(n_jobs=-1)]: Using backend LokyBackend with 8 concurrent workers.\n",
      "[Parallel(n_jobs=-1)]: Done  56 tasks      | elapsed:    0.2s\n"
     ]
    },
    {
     "name": "stdout",
     "output_type": "stream",
     "text": [
      "Fitting 5 folds for each of 100 candidates, totalling 500 fits\n"
     ]
    },
    {
     "name": "stderr",
     "output_type": "stream",
     "text": [
      "[Parallel(n_jobs=-1)]: Done 500 out of 500 | elapsed:    0.6s finished\n",
      " 27%|██▋       | 12/45 [00:11<00:24,  1.37it/s][Parallel(n_jobs=-1)]: Using backend LokyBackend with 8 concurrent workers.\n"
     ]
    },
    {
     "name": "stdout",
     "output_type": "stream",
     "text": [
      "Fitting 5 folds for each of 100 candidates, totalling 500 fits\n"
     ]
    },
    {
     "name": "stderr",
     "output_type": "stream",
     "text": [
      "[Parallel(n_jobs=-1)]: Done  56 tasks      | elapsed:    0.2s\n",
      "[Parallel(n_jobs=-1)]: Done 500 out of 500 | elapsed:    0.6s finished\n",
      " 29%|██▉       | 13/45 [00:12<00:22,  1.41it/s][Parallel(n_jobs=-1)]: Using backend LokyBackend with 8 concurrent workers.\n",
      "[Parallel(n_jobs=-1)]: Done  56 tasks      | elapsed:    0.2s\n"
     ]
    },
    {
     "name": "stdout",
     "output_type": "stream",
     "text": [
      "Fitting 5 folds for each of 100 candidates, totalling 500 fits\n"
     ]
    },
    {
     "name": "stderr",
     "output_type": "stream",
     "text": [
      "[Parallel(n_jobs=-1)]: Done 500 out of 500 | elapsed:    0.6s finished\n",
      " 31%|███       | 14/45 [00:13<00:20,  1.49it/s][Parallel(n_jobs=-1)]: Using backend LokyBackend with 8 concurrent workers.\n",
      "[Parallel(n_jobs=-1)]: Done  56 tasks      | elapsed:    0.2s\n"
     ]
    },
    {
     "name": "stdout",
     "output_type": "stream",
     "text": [
      "Fitting 5 folds for each of 100 candidates, totalling 500 fits\n"
     ]
    },
    {
     "name": "stderr",
     "output_type": "stream",
     "text": [
      "[Parallel(n_jobs=-1)]: Done 500 out of 500 | elapsed:    0.6s finished\n",
      " 33%|███▎      | 15/45 [00:13<00:19,  1.55it/s][Parallel(n_jobs=-1)]: Using backend LokyBackend with 8 concurrent workers.\n",
      "[Parallel(n_jobs=-1)]: Done  56 tasks      | elapsed:    0.2s\n"
     ]
    },
    {
     "name": "stdout",
     "output_type": "stream",
     "text": [
      "Fitting 5 folds for each of 100 candidates, totalling 500 fits\n"
     ]
    },
    {
     "name": "stderr",
     "output_type": "stream",
     "text": [
      "[Parallel(n_jobs=-1)]: Done 500 out of 500 | elapsed:    0.6s finished\n",
      " 36%|███▌      | 16/45 [00:14<00:18,  1.58it/s][Parallel(n_jobs=-1)]: Using backend LokyBackend with 8 concurrent workers.\n",
      "[Parallel(n_jobs=-1)]: Done  56 tasks      | elapsed:    0.2s\n"
     ]
    },
    {
     "name": "stdout",
     "output_type": "stream",
     "text": [
      "Fitting 5 folds for each of 100 candidates, totalling 500 fits\n"
     ]
    },
    {
     "name": "stderr",
     "output_type": "stream",
     "text": [
      "[Parallel(n_jobs=-1)]: Done 500 out of 500 | elapsed:    0.6s finished\n",
      " 38%|███▊      | 17/45 [00:14<00:17,  1.61it/s][Parallel(n_jobs=-1)]: Using backend LokyBackend with 8 concurrent workers.\n",
      "[Parallel(n_jobs=-1)]: Done  56 tasks      | elapsed:    0.2s\n"
     ]
    },
    {
     "name": "stdout",
     "output_type": "stream",
     "text": [
      "Fitting 5 folds for each of 100 candidates, totalling 500 fits\n"
     ]
    },
    {
     "name": "stderr",
     "output_type": "stream",
     "text": [
      "[Parallel(n_jobs=-1)]: Done 500 out of 500 | elapsed:    0.6s finished\n",
      " 40%|████      | 18/45 [00:15<00:16,  1.65it/s][Parallel(n_jobs=-1)]: Using backend LokyBackend with 8 concurrent workers.\n",
      "[Parallel(n_jobs=-1)]: Done  56 tasks      | elapsed:    0.2s\n"
     ]
    },
    {
     "name": "stdout",
     "output_type": "stream",
     "text": [
      "Fitting 5 folds for each of 100 candidates, totalling 500 fits\n"
     ]
    },
    {
     "name": "stderr",
     "output_type": "stream",
     "text": [
      "[Parallel(n_jobs=-1)]: Done 500 out of 500 | elapsed:    0.6s finished\n",
      " 42%|████▏     | 19/45 [00:16<00:15,  1.67it/s][Parallel(n_jobs=-1)]: Using backend LokyBackend with 8 concurrent workers.\n",
      "[Parallel(n_jobs=-1)]: Done  56 tasks      | elapsed:    0.2s\n"
     ]
    },
    {
     "name": "stdout",
     "output_type": "stream",
     "text": [
      "Fitting 5 folds for each of 100 candidates, totalling 500 fits\n"
     ]
    },
    {
     "name": "stderr",
     "output_type": "stream",
     "text": [
      "[Parallel(n_jobs=-1)]: Done 500 out of 500 | elapsed:    0.6s finished\n",
      " 44%|████▍     | 20/45 [00:16<00:14,  1.68it/s][Parallel(n_jobs=-1)]: Using backend LokyBackend with 8 concurrent workers.\n",
      "[Parallel(n_jobs=-1)]: Done  56 tasks      | elapsed:    0.2s\n"
     ]
    },
    {
     "name": "stdout",
     "output_type": "stream",
     "text": [
      "Fitting 5 folds for each of 100 candidates, totalling 500 fits\n"
     ]
    },
    {
     "name": "stderr",
     "output_type": "stream",
     "text": [
      "[Parallel(n_jobs=-1)]: Done 500 out of 500 | elapsed:    0.6s finished\n",
      " 47%|████▋     | 21/45 [00:17<00:14,  1.70it/s][Parallel(n_jobs=-1)]: Using backend LokyBackend with 8 concurrent workers.\n",
      "[Parallel(n_jobs=-1)]: Done  56 tasks      | elapsed:    0.2s\n"
     ]
    },
    {
     "name": "stdout",
     "output_type": "stream",
     "text": [
      "Fitting 5 folds for each of 100 candidates, totalling 500 fits\n"
     ]
    },
    {
     "name": "stderr",
     "output_type": "stream",
     "text": [
      "[Parallel(n_jobs=-1)]: Done 500 out of 500 | elapsed:    0.6s finished\n",
      " 49%|████▉     | 22/45 [00:17<00:13,  1.71it/s][Parallel(n_jobs=-1)]: Using backend LokyBackend with 8 concurrent workers.\n",
      "[Parallel(n_jobs=-1)]: Done  56 tasks      | elapsed:    0.2s\n"
     ]
    },
    {
     "name": "stdout",
     "output_type": "stream",
     "text": [
      "Fitting 5 folds for each of 100 candidates, totalling 500 fits\n"
     ]
    },
    {
     "name": "stderr",
     "output_type": "stream",
     "text": [
      "[Parallel(n_jobs=-1)]: Done 500 out of 500 | elapsed:    0.6s finished\n",
      " 51%|█████     | 23/45 [00:18<00:12,  1.70it/s][Parallel(n_jobs=-1)]: Using backend LokyBackend with 8 concurrent workers.\n",
      "[Parallel(n_jobs=-1)]: Done  56 tasks      | elapsed:    0.2s\n"
     ]
    },
    {
     "name": "stdout",
     "output_type": "stream",
     "text": [
      "Fitting 5 folds for each of 100 candidates, totalling 500 fits\n"
     ]
    },
    {
     "name": "stderr",
     "output_type": "stream",
     "text": [
      "[Parallel(n_jobs=-1)]: Done 500 out of 500 | elapsed:    0.6s finished\n",
      " 53%|█████▎    | 24/45 [00:19<00:12,  1.70it/s][Parallel(n_jobs=-1)]: Using backend LokyBackend with 8 concurrent workers.\n",
      "[Parallel(n_jobs=-1)]: Done  56 tasks      | elapsed:    0.2s\n"
     ]
    },
    {
     "name": "stdout",
     "output_type": "stream",
     "text": [
      "Fitting 5 folds for each of 100 candidates, totalling 500 fits\n"
     ]
    },
    {
     "name": "stderr",
     "output_type": "stream",
     "text": [
      "[Parallel(n_jobs=-1)]: Done 500 out of 500 | elapsed:    0.6s finished\n",
      " 56%|█████▌    | 25/45 [00:19<00:11,  1.69it/s][Parallel(n_jobs=-1)]: Using backend LokyBackend with 8 concurrent workers.\n"
     ]
    },
    {
     "name": "stdout",
     "output_type": "stream",
     "text": [
      "Fitting 5 folds for each of 100 candidates, totalling 500 fits\n"
     ]
    },
    {
     "name": "stderr",
     "output_type": "stream",
     "text": [
      "[Parallel(n_jobs=-1)]: Done  56 tasks      | elapsed:    0.2s\n",
      "[Parallel(n_jobs=-1)]: Done 500 out of 500 | elapsed:    0.6s finished\n",
      " 58%|█████▊    | 26/45 [00:20<00:11,  1.63it/s][Parallel(n_jobs=-1)]: Using backend LokyBackend with 8 concurrent workers.\n",
      "[Parallel(n_jobs=-1)]: Done  56 tasks      | elapsed:    0.2s\n"
     ]
    },
    {
     "name": "stdout",
     "output_type": "stream",
     "text": [
      "Fitting 5 folds for each of 100 candidates, totalling 500 fits\n"
     ]
    },
    {
     "name": "stderr",
     "output_type": "stream",
     "text": [
      "[Parallel(n_jobs=-1)]: Done 500 out of 500 | elapsed:    0.7s finished\n",
      " 60%|██████    | 27/45 [00:20<00:11,  1.58it/s][Parallel(n_jobs=-1)]: Using backend LokyBackend with 8 concurrent workers.\n"
     ]
    },
    {
     "name": "stdout",
     "output_type": "stream",
     "text": [
      "Fitting 5 folds for each of 100 candidates, totalling 500 fits\n"
     ]
    },
    {
     "name": "stderr",
     "output_type": "stream",
     "text": [
      "[Parallel(n_jobs=-1)]: Done  56 tasks      | elapsed:    0.3s\n",
      "[Parallel(n_jobs=-1)]: Done 500 out of 500 | elapsed:    0.8s finished\n",
      " 62%|██████▏   | 28/45 [00:21<00:11,  1.44it/s][Parallel(n_jobs=-1)]: Using backend LokyBackend with 8 concurrent workers.\n"
     ]
    },
    {
     "name": "stdout",
     "output_type": "stream",
     "text": [
      "Fitting 5 folds for each of 100 candidates, totalling 500 fits\n"
     ]
    },
    {
     "name": "stderr",
     "output_type": "stream",
     "text": [
      "[Parallel(n_jobs=-1)]: Done  56 tasks      | elapsed:    0.2s\n",
      "[Parallel(n_jobs=-1)]: Done 500 out of 500 | elapsed:    0.8s finished\n",
      " 64%|██████▍   | 29/45 [00:22<00:11,  1.34it/s][Parallel(n_jobs=-1)]: Using backend LokyBackend with 8 concurrent workers.\n"
     ]
    },
    {
     "name": "stdout",
     "output_type": "stream",
     "text": [
      "Fitting 5 folds for each of 100 candidates, totalling 500 fits\n"
     ]
    },
    {
     "name": "stderr",
     "output_type": "stream",
     "text": [
      "[Parallel(n_jobs=-1)]: Done  56 tasks      | elapsed:    0.2s\n",
      "[Parallel(n_jobs=-1)]: Done 500 out of 500 | elapsed:    0.8s finished\n",
      " 67%|██████▋   | 30/45 [00:23<00:11,  1.31it/s][Parallel(n_jobs=-1)]: Using backend LokyBackend with 8 concurrent workers.\n"
     ]
    },
    {
     "name": "stdout",
     "output_type": "stream",
     "text": [
      "Fitting 5 folds for each of 100 candidates, totalling 500 fits\n"
     ]
    },
    {
     "name": "stderr",
     "output_type": "stream",
     "text": [
      "[Parallel(n_jobs=-1)]: Done  56 tasks      | elapsed:    0.2s\n",
      "[Parallel(n_jobs=-1)]: Done 500 out of 500 | elapsed:    0.7s finished\n",
      " 69%|██████▉   | 31/45 [00:24<00:10,  1.31it/s][Parallel(n_jobs=-1)]: Using backend LokyBackend with 8 concurrent workers.\n"
     ]
    },
    {
     "name": "stdout",
     "output_type": "stream",
     "text": [
      "Fitting 5 folds for each of 100 candidates, totalling 500 fits\n"
     ]
    },
    {
     "name": "stderr",
     "output_type": "stream",
     "text": [
      "[Parallel(n_jobs=-1)]: Done  56 tasks      | elapsed:    0.2s\n",
      "[Parallel(n_jobs=-1)]: Done 500 out of 500 | elapsed:    0.7s finished\n",
      " 71%|███████   | 32/45 [00:24<00:09,  1.33it/s][Parallel(n_jobs=-1)]: Using backend LokyBackend with 8 concurrent workers.\n"
     ]
    },
    {
     "name": "stdout",
     "output_type": "stream",
     "text": [
      "Fitting 5 folds for each of 100 candidates, totalling 500 fits\n"
     ]
    },
    {
     "name": "stderr",
     "output_type": "stream",
     "text": [
      "[Parallel(n_jobs=-1)]: Done  56 tasks      | elapsed:    0.2s\n",
      "[Parallel(n_jobs=-1)]: Done 500 out of 500 | elapsed:    0.7s finished\n",
      " 73%|███████▎  | 33/45 [00:25<00:08,  1.37it/s][Parallel(n_jobs=-1)]: Using backend LokyBackend with 8 concurrent workers.\n"
     ]
    },
    {
     "name": "stdout",
     "output_type": "stream",
     "text": [
      "Fitting 5 folds for each of 100 candidates, totalling 500 fits\n"
     ]
    },
    {
     "name": "stderr",
     "output_type": "stream",
     "text": [
      "[Parallel(n_jobs=-1)]: Done  56 tasks      | elapsed:    0.2s\n",
      "[Parallel(n_jobs=-1)]: Done 500 out of 500 | elapsed:    0.7s finished\n",
      " 76%|███████▌  | 34/45 [00:26<00:07,  1.38it/s][Parallel(n_jobs=-1)]: Using backend LokyBackend with 8 concurrent workers.\n"
     ]
    },
    {
     "name": "stdout",
     "output_type": "stream",
     "text": [
      "Fitting 5 folds for each of 100 candidates, totalling 500 fits\n"
     ]
    },
    {
     "name": "stderr",
     "output_type": "stream",
     "text": [
      "[Parallel(n_jobs=-1)]: Done  56 tasks      | elapsed:    0.2s\n",
      "[Parallel(n_jobs=-1)]: Done 500 out of 500 | elapsed:    0.7s finished\n",
      " 78%|███████▊  | 35/45 [00:27<00:07,  1.41it/s][Parallel(n_jobs=-1)]: Using backend LokyBackend with 8 concurrent workers.\n"
     ]
    },
    {
     "name": "stdout",
     "output_type": "stream",
     "text": [
      "Fitting 5 folds for each of 100 candidates, totalling 500 fits\n"
     ]
    },
    {
     "name": "stderr",
     "output_type": "stream",
     "text": [
      "[Parallel(n_jobs=-1)]: Done  56 tasks      | elapsed:    0.2s\n",
      "[Parallel(n_jobs=-1)]: Done 500 out of 500 | elapsed:    0.7s finished\n",
      " 80%|████████  | 36/45 [00:27<00:06,  1.41it/s][Parallel(n_jobs=-1)]: Using backend LokyBackend with 8 concurrent workers.\n"
     ]
    },
    {
     "name": "stdout",
     "output_type": "stream",
     "text": [
      "Fitting 5 folds for each of 100 candidates, totalling 500 fits\n"
     ]
    },
    {
     "name": "stderr",
     "output_type": "stream",
     "text": [
      "[Parallel(n_jobs=-1)]: Done  56 tasks      | elapsed:    0.2s\n",
      "[Parallel(n_jobs=-1)]: Done 500 out of 500 | elapsed:    0.7s finished\n",
      " 82%|████████▏ | 37/45 [00:28<00:05,  1.42it/s][Parallel(n_jobs=-1)]: Using backend LokyBackend with 8 concurrent workers.\n"
     ]
    },
    {
     "name": "stdout",
     "output_type": "stream",
     "text": [
      "Fitting 5 folds for each of 100 candidates, totalling 500 fits\n"
     ]
    },
    {
     "name": "stderr",
     "output_type": "stream",
     "text": [
      "[Parallel(n_jobs=-1)]: Done  56 tasks      | elapsed:    0.2s\n",
      "[Parallel(n_jobs=-1)]: Done 500 out of 500 | elapsed:    0.7s finished\n",
      " 84%|████████▍ | 38/45 [00:29<00:04,  1.43it/s][Parallel(n_jobs=-1)]: Using backend LokyBackend with 8 concurrent workers.\n"
     ]
    },
    {
     "name": "stdout",
     "output_type": "stream",
     "text": [
      "Fitting 5 folds for each of 100 candidates, totalling 500 fits\n"
     ]
    },
    {
     "name": "stderr",
     "output_type": "stream",
     "text": [
      "[Parallel(n_jobs=-1)]: Done  56 tasks      | elapsed:    0.2s\n",
      "[Parallel(n_jobs=-1)]: Done 500 out of 500 | elapsed:    0.7s finished\n",
      " 87%|████████▋ | 39/45 [00:29<00:04,  1.43it/s][Parallel(n_jobs=-1)]: Using backend LokyBackend with 8 concurrent workers.\n"
     ]
    },
    {
     "name": "stdout",
     "output_type": "stream",
     "text": [
      "Fitting 5 folds for each of 100 candidates, totalling 500 fits\n"
     ]
    },
    {
     "name": "stderr",
     "output_type": "stream",
     "text": [
      "[Parallel(n_jobs=-1)]: Done  56 tasks      | elapsed:    0.2s\n",
      "[Parallel(n_jobs=-1)]: Done 500 out of 500 | elapsed:    0.7s finished\n",
      " 89%|████████▉ | 40/45 [00:30<00:03,  1.43it/s][Parallel(n_jobs=-1)]: Using backend LokyBackend with 8 concurrent workers.\n"
     ]
    },
    {
     "name": "stdout",
     "output_type": "stream",
     "text": [
      "Fitting 5 folds for each of 100 candidates, totalling 500 fits\n"
     ]
    },
    {
     "name": "stderr",
     "output_type": "stream",
     "text": [
      "[Parallel(n_jobs=-1)]: Done  56 tasks      | elapsed:    0.2s\n",
      "[Parallel(n_jobs=-1)]: Done 500 out of 500 | elapsed:    0.7s finished\n",
      " 91%|█████████ | 41/45 [00:31<00:02,  1.39it/s][Parallel(n_jobs=-1)]: Using backend LokyBackend with 8 concurrent workers.\n"
     ]
    },
    {
     "name": "stdout",
     "output_type": "stream",
     "text": [
      "Fitting 5 folds for each of 100 candidates, totalling 500 fits\n"
     ]
    },
    {
     "name": "stderr",
     "output_type": "stream",
     "text": [
      "[Parallel(n_jobs=-1)]: Done  56 tasks      | elapsed:    0.2s\n",
      "[Parallel(n_jobs=-1)]: Done 500 out of 500 | elapsed:    0.7s finished\n",
      " 93%|█████████▎| 42/45 [00:31<00:02,  1.41it/s][Parallel(n_jobs=-1)]: Using backend LokyBackend with 8 concurrent workers.\n"
     ]
    },
    {
     "name": "stdout",
     "output_type": "stream",
     "text": [
      "Fitting 5 folds for each of 100 candidates, totalling 500 fits\n"
     ]
    },
    {
     "name": "stderr",
     "output_type": "stream",
     "text": [
      "[Parallel(n_jobs=-1)]: Done  56 tasks      | elapsed:    0.2s\n",
      "[Parallel(n_jobs=-1)]: Done 500 out of 500 | elapsed:    0.7s finished\n",
      " 96%|█████████▌| 43/45 [00:32<00:01,  1.41it/s][Parallel(n_jobs=-1)]: Using backend LokyBackend with 8 concurrent workers.\n"
     ]
    },
    {
     "name": "stdout",
     "output_type": "stream",
     "text": [
      "Fitting 5 folds for each of 100 candidates, totalling 500 fits\n"
     ]
    },
    {
     "name": "stderr",
     "output_type": "stream",
     "text": [
      "[Parallel(n_jobs=-1)]: Done  56 tasks      | elapsed:    0.2s\n",
      "[Parallel(n_jobs=-1)]: Done 500 out of 500 | elapsed:    0.7s finished\n",
      " 98%|█████████▊| 44/45 [00:33<00:00,  1.41it/s][Parallel(n_jobs=-1)]: Using backend LokyBackend with 8 concurrent workers.\n"
     ]
    },
    {
     "name": "stdout",
     "output_type": "stream",
     "text": [
      "Fitting 5 folds for each of 100 candidates, totalling 500 fits\n"
     ]
    },
    {
     "name": "stderr",
     "output_type": "stream",
     "text": [
      "[Parallel(n_jobs=-1)]: Done  56 tasks      | elapsed:    0.2s\n",
      "[Parallel(n_jobs=-1)]: Done 500 out of 500 | elapsed:    0.7s finished\n",
      "100%|██████████| 45/45 [00:34<00:00,  1.32it/s]\n"
     ]
    }
   ],
   "source": [
    "best_params_ls, train_rmse_ls, val_rmse_ls = get_best_params_and_rmse(summary_new_train)\n",
    "\n",
    "results_train_df = pd.DataFrame([best_params_ls, train_rmse_ls, val_rmse_ls],\n",
    "                                 index=['best_params', 'train_rmse', 'val_rmse']).T"
   ]
  },
  {
   "cell_type": "code",
   "execution_count": 21,
   "metadata": {
    "ExecuteTime": {
     "end_time": "2020-02-25T23:02:21.506095Z",
     "start_time": "2020-02-25T23:02:21.486877Z"
    },
    "code_folding": [],
    "scrolled": true
   },
   "outputs": [],
   "source": [
    "class metaEstimator():\n",
    "    def __init__(self, best_params):\n",
    "        self.best_params = best_params\n",
    "            \n",
    "    def fit(self, X, y):\n",
    "        days = X['day'].unique()\n",
    "        X_ls = [X[X['day'] == i] for i in days]\n",
    "        y_ls = [y[y['day'] == i] for i in days]\n",
    "        \n",
    "        best_estimator_ls = []\n",
    "        for i in range(len(X_ls)):\n",
    "            params = self.best_params[i]\n",
    "            ridge = Ridge(normalize=False,\n",
    "                          random_state=42,\n",
    "                          **params)\n",
    "            \n",
    "            X = X_ls[i].drop('day', axis=1)\n",
    "            y = y_ls[i].drop('day', axis=1)\n",
    "            best_estimator_ls.append(ridge.fit(X, y))\n",
    "        self.best_estimator_ls = best_estimator_ls\n",
    "    \n",
    "    def predict(self, X):\n",
    "        days = X['day'].unique()\n",
    "        X_ls = [X[X['day'] == i] for i in days]\n",
    "\n",
    "        predictions = np.empty(0)\n",
    "        for i in range(len(X_ls)):\n",
    "            preds = np.zeros(shape=(len(X_ls[i]), 1))\n",
    "            X = X_ls[i].drop('day', axis=1)\n",
    "            for estimator in self.best_estimator_ls:\n",
    "                preds += estimator.predict(X)\n",
    "            predictions = np.append(predictions, preds / len(self.best_estimator_ls))\n",
    "        return predictions\n",
    "            \n",
    "    def coefs(self):\n",
    "        intercept = 0\n",
    "        coef = np.zeros_like(self.best_estimator_ls[0].coef_)\n",
    "        for estimator in self.best_estimator_ls:\n",
    "            intercept += estimator.intercept_\n",
    "            coef += estimator.coef_\n",
    "        n_estimators = len(self.best_estimator_ls)\n",
    "        coefs = np.append(intercept, coef[0]) / n_estimators\n",
    "        return coefs"
   ]
  },
  {
   "cell_type": "code",
   "execution_count": 22,
   "metadata": {
    "ExecuteTime": {
     "end_time": "2020-02-25T23:02:21.726608Z",
     "start_time": "2020-02-25T23:02:21.508857Z"
    }
   },
   "outputs": [],
   "source": [
    "scaler = StandardScaler()\n",
    "\n",
    "train_df = summary_new_train.drop(['day', 'consultation_end_time'], axis=1)\n",
    "test_df = summary_new_test.drop(['day', 'consultation_end_time'], axis=1)\n",
    "\n",
    "X_train_scaled = pd.concat([pd.DataFrame(scaler.fit_transform(train_df), columns=train_df.columns),\n",
    "                            summary_new_train['day']], axis=1)\n",
    "X_test_scaled = pd.concat([pd.DataFrame(scaler.transform(test_df), columns=test_df.columns,\n",
    "                                        index=test_df.index), summary_new_test['day']], axis=1)\n",
    "\n",
    "y_train = summary_new_train[['day', 'consultation_end_time']]\n",
    "y_test = summary_new_test[['day', 'consultation_end_time']]\n",
    "\n",
    "meta = metaEstimator(results_train_df['best_params'])\n",
    "meta.fit(X_train_scaled, y_train)"
   ]
  },
  {
   "cell_type": "code",
   "execution_count": 23,
   "metadata": {
    "ExecuteTime": {
     "end_time": "2020-02-25T23:02:21.855437Z",
     "start_time": "2020-02-25T23:02:21.732929Z"
    },
    "scrolled": true
   },
   "outputs": [
    {
     "name": "stdout",
     "output_type": "stream",
     "text": [
      "train rmse: 0.3715762223351282\n",
      "val rmse: 0.471548279164491\n",
      "test rmse: 0.4588342240787291\n"
     ]
    }
   ],
   "source": [
    "train_rmse = results_train_df['train_rmse'].mean()\n",
    "val_rmse = results_train_df['val_rmse'].mean()\n",
    "test_rmse = mean_squared_error(y_test['consultation_end_time'], meta.predict(X_test_scaled), squared=False)\n",
    "\n",
    "print(f'train rmse: {train_rmse}')\n",
    "print(f'val rmse: {val_rmse}')\n",
    "print(f'test rmse: {test_rmse}')"
   ]
  },
  {
   "cell_type": "code",
   "execution_count": 25,
   "metadata": {
    "ExecuteTime": {
     "end_time": "2020-02-25T23:02:21.883103Z",
     "start_time": "2020-02-25T23:02:21.875654Z"
    }
   },
   "outputs": [],
   "source": [
    "coefs_df = pd.DataFrame(list(zip(np.append('C', X_train_scaled.columns), meta.coefs())),\n",
    "                        columns=['feature', 'coef'])"
   ]
  },
  {
   "cell_type": "code",
   "execution_count": 26,
   "metadata": {
    "ExecuteTime": {
     "end_time": "2020-02-25T23:02:21.901514Z",
     "start_time": "2020-02-25T23:02:21.885309Z"
    },
    "run_control": {
     "marked": false
    }
   },
   "outputs": [
    {
     "data": {
      "text/html": [
       "<div>\n",
       "<style scoped>\n",
       "    .dataframe tbody tr th:only-of-type {\n",
       "        vertical-align: middle;\n",
       "    }\n",
       "\n",
       "    .dataframe tbody tr th {\n",
       "        vertical-align: top;\n",
       "    }\n",
       "\n",
       "    .dataframe thead th {\n",
       "        text-align: right;\n",
       "    }\n",
       "</style>\n",
       "<table border=\"1\" class=\"dataframe\">\n",
       "  <thead>\n",
       "    <tr style=\"text-align: right;\">\n",
       "      <th></th>\n",
       "      <th>feature</th>\n",
       "      <th>coef</th>\n",
       "      <th>coef_abs</th>\n",
       "    </tr>\n",
       "  </thead>\n",
       "  <tbody>\n",
       "    <tr>\n",
       "      <th>0</th>\n",
       "      <td>C</td>\n",
       "      <td>6.294063</td>\n",
       "      <td>6.294063</td>\n",
       "    </tr>\n",
       "    <tr>\n",
       "      <th>3</th>\n",
       "      <td>priority_enc</td>\n",
       "      <td>0.176795</td>\n",
       "      <td>0.176795</td>\n",
       "    </tr>\n",
       "    <tr>\n",
       "      <th>4</th>\n",
       "      <td>pain_enc</td>\n",
       "      <td>0.089637</td>\n",
       "      <td>0.089637</td>\n",
       "    </tr>\n",
       "    <tr>\n",
       "      <th>5</th>\n",
       "      <td>temp_cat_enc</td>\n",
       "      <td>0.081359</td>\n",
       "      <td>0.081359</td>\n",
       "    </tr>\n",
       "    <tr>\n",
       "      <th>14</th>\n",
       "      <td>pain_severe pain:temp_cat_fever</td>\n",
       "      <td>0.070225</td>\n",
       "      <td>0.070225</td>\n",
       "    </tr>\n",
       "    <tr>\n",
       "      <th>8</th>\n",
       "      <td>pain_severe pain:temp_cat_hypothermia</td>\n",
       "      <td>0.067210</td>\n",
       "      <td>0.067210</td>\n",
       "    </tr>\n",
       "    <tr>\n",
       "      <th>9</th>\n",
       "      <td>pain_no pain:temp_cat_normal</td>\n",
       "      <td>-0.064891</td>\n",
       "      <td>0.064891</td>\n",
       "    </tr>\n",
       "    <tr>\n",
       "      <th>11</th>\n",
       "      <td>pain_severe pain:temp_cat_normal</td>\n",
       "      <td>0.039289</td>\n",
       "      <td>0.039289</td>\n",
       "    </tr>\n",
       "    <tr>\n",
       "      <th>2</th>\n",
       "      <td>consultation_start_time</td>\n",
       "      <td>-0.032224</td>\n",
       "      <td>0.032224</td>\n",
       "    </tr>\n",
       "    <tr>\n",
       "      <th>10</th>\n",
       "      <td>pain_moderate pain:temp_cat_normal</td>\n",
       "      <td>-0.016858</td>\n",
       "      <td>0.016858</td>\n",
       "    </tr>\n",
       "    <tr>\n",
       "      <th>13</th>\n",
       "      <td>pain_moderate pain:temp_cat_fever</td>\n",
       "      <td>0.005289</td>\n",
       "      <td>0.005289</td>\n",
       "    </tr>\n",
       "    <tr>\n",
       "      <th>6</th>\n",
       "      <td>pain_no pain:temp_cat_hypothermia</td>\n",
       "      <td>0.004361</td>\n",
       "      <td>0.004361</td>\n",
       "    </tr>\n",
       "    <tr>\n",
       "      <th>16</th>\n",
       "      <td>queue_size</td>\n",
       "      <td>0.003248</td>\n",
       "      <td>0.003248</td>\n",
       "    </tr>\n",
       "    <tr>\n",
       "      <th>7</th>\n",
       "      <td>pain_moderate pain:temp_cat_hypothermia</td>\n",
       "      <td>0.003192</td>\n",
       "      <td>0.003192</td>\n",
       "    </tr>\n",
       "    <tr>\n",
       "      <th>15</th>\n",
       "      <td>free_doctors</td>\n",
       "      <td>0.002906</td>\n",
       "      <td>0.002906</td>\n",
       "    </tr>\n",
       "    <tr>\n",
       "      <th>1</th>\n",
       "      <td>assessment_end_time</td>\n",
       "      <td>-0.001619</td>\n",
       "      <td>0.001619</td>\n",
       "    </tr>\n",
       "    <tr>\n",
       "      <th>12</th>\n",
       "      <td>pain_no pain:temp_cat_fever</td>\n",
       "      <td>0.001397</td>\n",
       "      <td>0.001397</td>\n",
       "    </tr>\n",
       "  </tbody>\n",
       "</table>\n",
       "</div>"
      ],
      "text/plain": [
       "                                    feature      coef  coef_abs\n",
       "0                                         C  6.294063  6.294063\n",
       "3                              priority_enc  0.176795  0.176795\n",
       "4                                  pain_enc  0.089637  0.089637\n",
       "5                              temp_cat_enc  0.081359  0.081359\n",
       "14          pain_severe pain:temp_cat_fever  0.070225  0.070225\n",
       "8     pain_severe pain:temp_cat_hypothermia  0.067210  0.067210\n",
       "9              pain_no pain:temp_cat_normal -0.064891  0.064891\n",
       "11         pain_severe pain:temp_cat_normal  0.039289  0.039289\n",
       "2                   consultation_start_time -0.032224  0.032224\n",
       "10       pain_moderate pain:temp_cat_normal -0.016858  0.016858\n",
       "13        pain_moderate pain:temp_cat_fever  0.005289  0.005289\n",
       "6         pain_no pain:temp_cat_hypothermia  0.004361  0.004361\n",
       "16                               queue_size  0.003248  0.003248\n",
       "7   pain_moderate pain:temp_cat_hypothermia  0.003192  0.003192\n",
       "15                             free_doctors  0.002906  0.002906\n",
       "1                       assessment_end_time -0.001619  0.001619\n",
       "12              pain_no pain:temp_cat_fever  0.001397  0.001397"
      ]
     },
     "execution_count": 26,
     "metadata": {},
     "output_type": "execute_result"
    }
   ],
   "source": [
    "coefs_df['coef_abs'] = coefs_df['coef'].abs()\n",
    "coefs_df.sort_values('coef_abs', ascending=False)"
   ]
  },
  {
   "cell_type": "code",
   "execution_count": 27,
   "metadata": {
    "ExecuteTime": {
     "end_time": "2020-02-25T23:02:21.909758Z",
     "start_time": "2020-02-25T23:02:21.903518Z"
    }
   },
   "outputs": [],
   "source": [
    "# best_params_ls, _, _ = get_best_params_and_rmse(summary_new)\n",
    "\n",
    "# X = summary_new.drop(['consultation_end_time'], axis=1)\n",
    "# y = summary_new[['day', 'consultation_end_time']]\n",
    "\n",
    "# meta = metaEstimator(best_params_ls)\n",
    "# meta.fit(X, y)\n",
    "# y_pred = meta.predict(X)"
   ]
  },
  {
   "cell_type": "code",
   "execution_count": 28,
   "metadata": {
    "ExecuteTime": {
     "end_time": "2020-02-25T23:02:21.919463Z",
     "start_time": "2020-02-25T23:02:21.911815Z"
    }
   },
   "outputs": [],
   "source": [
    "# r2_full_model = r2_score(y['consultation_end_time'], y_pred)\n",
    "# r2_score_dict = {'full model': r2_full_model}\n",
    "\n",
    "# for feature in tqdm(X.drop('day', axis=1).columns):\n",
    "#     best_params_ls, _, _ = get_best_params_and_rmse(summary_new.drop(feature, axis=1))\n",
    "    \n",
    "#     X_new = summary_new.drop([feature, 'consultation_end_time'], axis=1)\n",
    "#     y_new = summary_new[['day', 'consultation_end_time']]\n",
    "\n",
    "#     meta = metaEstimator(best_params_ls)\n",
    "#     meta.fit(X_new, y_new)\n",
    "#     y_pred = meta.predict(X_new)\n",
    "\n",
    "#     r2_score_dict[feature] = r2_score(y_new['consultation_end_time'], y_pred)"
   ]
  }
 ],
 "metadata": {
  "kernelspec": {
   "display_name": "Python 3",
   "language": "python",
   "name": "python3"
  },
  "language_info": {
   "codemirror_mode": {
    "name": "ipython",
    "version": 3
   },
   "file_extension": ".py",
   "mimetype": "text/x-python",
   "name": "python",
   "nbconvert_exporter": "python",
   "pygments_lexer": "ipython3",
   "version": "3.7.5"
  },
  "latex_envs": {
   "LaTeX_envs_menu_present": true,
   "autoclose": false,
   "autocomplete": true,
   "bibliofile": "biblio.bib",
   "cite_by": "apalike",
   "current_citInitial": 1,
   "eqLabelWithNumbers": true,
   "eqNumInitial": 1,
   "hotkeys": {
    "equation": "Ctrl-E",
    "itemize": "Ctrl-I"
   },
   "labels_anchors": false,
   "latex_user_defs": false,
   "report_style_numbering": false,
   "user_envs_cfg": false
  },
  "toc": {
   "base_numbering": 1,
   "nav_menu": {},
   "number_sections": true,
   "sideBar": true,
   "skip_h1_title": false,
   "title_cell": "Table of Contents",
   "title_sidebar": "Contents",
   "toc_cell": false,
   "toc_position": {},
   "toc_section_display": true,
   "toc_window_display": false
  },
  "varInspector": {
   "cols": {
    "lenName": 16,
    "lenType": 16,
    "lenVar": 40
   },
   "kernels_config": {
    "python": {
     "delete_cmd_postfix": "",
     "delete_cmd_prefix": "del ",
     "library": "var_list.py",
     "varRefreshCmd": "print(var_dic_list())"
    },
    "r": {
     "delete_cmd_postfix": ") ",
     "delete_cmd_prefix": "rm(",
     "library": "var_list.r",
     "varRefreshCmd": "cat(var_dic_list()) "
    }
   },
   "types_to_exclude": [
    "module",
    "function",
    "builtin_function_or_method",
    "instance",
    "_Feature"
   ],
   "window_display": false
  }
 },
 "nbformat": 4,
 "nbformat_minor": 4
}
