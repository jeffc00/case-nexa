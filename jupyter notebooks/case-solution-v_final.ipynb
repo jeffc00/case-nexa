{
 "cells": [
  {
   "cell_type": "code",
   "execution_count": 1,
   "metadata": {
    "ExecuteTime": {
     "end_time": "2020-02-26T23:06:05.176900Z",
     "start_time": "2020-02-26T23:06:04.149873Z"
    }
   },
   "outputs": [],
   "source": [
    "import pandas as pd\n",
    "import numpy as np\n",
    "import matplotlib.pyplot as plt\n",
    "import seaborn as sns\n",
    "from sklearn.model_selection import train_test_split, TimeSeriesSplit, RandomizedSearchCV\n",
    "from sklearn.linear_model import Ridge\n",
    "from sklearn.preprocessing import StandardScaler\n",
    "from sklearn.metrics import mean_squared_log_error, make_scorer\n",
    "import scipy.stats as ss\n",
    "from tqdm import tqdm"
   ]
  },
  {
   "cell_type": "code",
   "execution_count": 2,
   "metadata": {
    "ExecuteTime": {
     "end_time": "2020-02-26T23:06:05.181160Z",
     "start_time": "2020-02-26T23:06:05.178547Z"
    }
   },
   "outputs": [],
   "source": [
    "pd.options.display.max_columns = 50\n",
    "pd.options.display.max_rows = 100"
   ]
  },
  {
   "cell_type": "code",
   "execution_count": 3,
   "metadata": {
    "ExecuteTime": {
     "end_time": "2020-02-26T23:06:05.214054Z",
     "start_time": "2020-02-26T23:06:05.183536Z"
    }
   },
   "outputs": [],
   "source": [
    "summary = pd.read_csv('../data/summary.csv')\n",
    "\n",
    "summary_df = summary.sort_values(['day', 'assessment_end_time']).reset_index(drop=True)"
   ]
  },
  {
   "cell_type": "code",
   "execution_count": 4,
   "metadata": {
    "ExecuteTime": {
     "end_time": "2020-02-26T23:06:05.219737Z",
     "start_time": "2020-02-26T23:06:05.215827Z"
    }
   },
   "outputs": [],
   "source": [
    "summary_train_df = summary_df[summary_df['day'] <= 45]"
   ]
  },
  {
   "cell_type": "code",
   "execution_count": 5,
   "metadata": {
    "ExecuteTime": {
     "end_time": "2020-02-26T23:06:05.238876Z",
     "start_time": "2020-02-26T23:06:05.221675Z"
    },
    "scrolled": false
   },
   "outputs": [
    {
     "data": {
      "text/html": [
       "<div>\n",
       "<style scoped>\n",
       "    .dataframe tbody tr th:only-of-type {\n",
       "        vertical-align: middle;\n",
       "    }\n",
       "\n",
       "    .dataframe tbody tr th {\n",
       "        vertical-align: top;\n",
       "    }\n",
       "\n",
       "    .dataframe thead th {\n",
       "        text-align: right;\n",
       "    }\n",
       "</style>\n",
       "<table border=\"1\" class=\"dataframe\">\n",
       "  <thead>\n",
       "    <tr style=\"text-align: right;\">\n",
       "      <th></th>\n",
       "      <th>Unnamed: 0</th>\n",
       "      <th>arrival_time</th>\n",
       "      <th>assessment_end_time</th>\n",
       "      <th>assessment_start_time</th>\n",
       "      <th>consultation_end_time</th>\n",
       "      <th>consultation_start_time</th>\n",
       "      <th>day</th>\n",
       "      <th>duration</th>\n",
       "      <th>pain</th>\n",
       "      <th>patient</th>\n",
       "      <th>priority</th>\n",
       "      <th>temperature</th>\n",
       "    </tr>\n",
       "  </thead>\n",
       "  <tbody>\n",
       "    <tr>\n",
       "      <th>0</th>\n",
       "      <td>1</td>\n",
       "      <td>280</td>\n",
       "      <td>741</td>\n",
       "      <td>308</td>\n",
       "      <td>1620</td>\n",
       "      <td>773</td>\n",
       "      <td>1</td>\n",
       "      <td>847</td>\n",
       "      <td>no pain</td>\n",
       "      <td>1</td>\n",
       "      <td>urgent</td>\n",
       "      <td>36.6</td>\n",
       "    </tr>\n",
       "    <tr>\n",
       "      <th>1</th>\n",
       "      <td>2</td>\n",
       "      <td>288</td>\n",
       "      <td>851</td>\n",
       "      <td>764</td>\n",
       "      <td>1881</td>\n",
       "      <td>905</td>\n",
       "      <td>1</td>\n",
       "      <td>976</td>\n",
       "      <td>severe pain</td>\n",
       "      <td>2</td>\n",
       "      <td>normal</td>\n",
       "      <td>36.7</td>\n",
       "    </tr>\n",
       "    <tr>\n",
       "      <th>2</th>\n",
       "      <td>0</td>\n",
       "      <td>430</td>\n",
       "      <td>1055</td>\n",
       "      <td>878</td>\n",
       "      <td>1595</td>\n",
       "      <td>1084</td>\n",
       "      <td>1</td>\n",
       "      <td>510</td>\n",
       "      <td>severe pain</td>\n",
       "      <td>3</td>\n",
       "      <td>normal</td>\n",
       "      <td>36.8</td>\n",
       "    </tr>\n",
       "    <tr>\n",
       "      <th>3</th>\n",
       "      <td>3</td>\n",
       "      <td>944</td>\n",
       "      <td>1244</td>\n",
       "      <td>1089</td>\n",
       "      <td>2105</td>\n",
       "      <td>1294</td>\n",
       "      <td>1</td>\n",
       "      <td>810</td>\n",
       "      <td>severe pain</td>\n",
       "      <td>4</td>\n",
       "      <td>urgent</td>\n",
       "      <td>36.6</td>\n",
       "    </tr>\n",
       "    <tr>\n",
       "      <th>4</th>\n",
       "      <td>11</td>\n",
       "      <td>1139</td>\n",
       "      <td>1351</td>\n",
       "      <td>1267</td>\n",
       "      <td>3322</td>\n",
       "      <td>1378</td>\n",
       "      <td>1</td>\n",
       "      <td>1943</td>\n",
       "      <td>severe pain</td>\n",
       "      <td>5</td>\n",
       "      <td>urgent</td>\n",
       "      <td>36.2</td>\n",
       "    </tr>\n",
       "  </tbody>\n",
       "</table>\n",
       "</div>"
      ],
      "text/plain": [
       "   Unnamed: 0  arrival_time  assessment_end_time  assessment_start_time  \\\n",
       "0           1           280                  741                    308   \n",
       "1           2           288                  851                    764   \n",
       "2           0           430                 1055                    878   \n",
       "3           3           944                 1244                   1089   \n",
       "4          11          1139                 1351                   1267   \n",
       "\n",
       "   consultation_end_time  consultation_start_time  day  duration         pain  \\\n",
       "0                   1620                      773    1       847      no pain   \n",
       "1                   1881                      905    1       976  severe pain   \n",
       "2                   1595                     1084    1       510  severe pain   \n",
       "3                   2105                     1294    1       810  severe pain   \n",
       "4                   3322                     1378    1      1943  severe pain   \n",
       "\n",
       "   patient priority  temperature  \n",
       "0        1   urgent         36.6  \n",
       "1        2   normal         36.7  \n",
       "2        3   normal         36.8  \n",
       "3        4   urgent         36.6  \n",
       "4        5   urgent         36.2  "
      ]
     },
     "execution_count": 5,
     "metadata": {},
     "output_type": "execute_result"
    }
   ],
   "source": [
    "summary_train_df.head()"
   ]
  },
  {
   "cell_type": "code",
   "execution_count": 6,
   "metadata": {
    "ExecuteTime": {
     "end_time": "2020-02-26T23:06:05.571264Z",
     "start_time": "2020-02-26T23:06:05.240575Z"
    },
    "scrolled": true
   },
   "outputs": [
    {
     "data": {
      "image/png": "[encoded data removed]",
      "text/plain": [
       "<Figure size 432x288 with 1 Axes>"
      ]
     },
     "metadata": {
      "needs_background": "light"
     },
     "output_type": "display_data"
    }
   ],
   "source": [
    "sns.scatterplot(x='temperature', y='duration', data=summary_train_df, hue='priority', alpha=.5);"
   ]
  },
  {
   "cell_type": "code",
   "execution_count": 7,
   "metadata": {
    "ExecuteTime": {
     "end_time": "2020-02-26T23:06:05.578637Z",
     "start_time": "2020-02-26T23:06:05.572968Z"
    }
   },
   "outputs": [],
   "source": [
    "summary_df['temp_cat'] = pd.cut(summary_df['temperature'],\n",
    "                                bins=[float('-inf'), 36.5, 37.5, float('inf')],\n",
    "                                labels=['hypothermia', 'normal', 'fever'])"
   ]
  },
  {
   "cell_type": "code",
   "execution_count": 8,
   "metadata": {
    "ExecuteTime": {
     "end_time": "2020-02-26T23:06:07.119872Z",
     "start_time": "2020-02-26T23:06:05.581554Z"
    },
    "scrolled": false
   },
   "outputs": [
    {
     "data": {
      "image/png": "[encoded data removed]",
      "text/plain": [
       "<Figure size 1080x576 with 6 Axes>"
      ]
     },
     "metadata": {
      "needs_background": "light"
     },
     "output_type": "display_data"
    }
   ],
   "source": [
    "fig, ax = plt.subplots(2, 3, figsize=(15, 8))\n",
    "\n",
    "sns.scatterplot(x='arrival_time',\n",
    "                y='consultation_start_time',\n",
    "                data=summary_train_df,\n",
    "                hue='priority',\n",
    "                alpha=.5,\n",
    "                ax=ax[0, 0])\n",
    "sns.scatterplot(x='arrival_time',\n",
    "                y='consultation_end_time',\n",
    "                data=summary_train_df,\n",
    "                hue='priority',\n",
    "                alpha=.5,\n",
    "                ax=ax[0, 1])\n",
    "sns.scatterplot(x='arrival_time',\n",
    "                y='duration',\n",
    "                data=summary_train_df,\n",
    "                hue='priority',\n",
    "                alpha=.5,\n",
    "                ax=ax[0, 2])\n",
    "\n",
    "sns.scatterplot(x='arrival_time',\n",
    "                y='consultation_start_time',\n",
    "                data=summary_train_df,\n",
    "                hue='priority',\n",
    "                alpha=.5,\n",
    "                ax=ax[1, 0])\n",
    "sns.scatterplot(x='assessment_end_time',\n",
    "                y='consultation_end_time',\n",
    "                data=summary_train_df,\n",
    "                hue='priority',\n",
    "                alpha=.5,\n",
    "                ax=ax[1, 1])\n",
    "sns.scatterplot(x='assessment_end_time',\n",
    "                y='duration',\n",
    "                data=summary_train_df,\n",
    "                hue='priority',\n",
    "                alpha=.5,\n",
    "                ax=ax[1, 2])\n",
    "\n",
    "plt.subplots_adjust(wspace=.35);"
   ]
  },
  {
   "cell_type": "code",
   "execution_count": 9,
   "metadata": {
    "ExecuteTime": {
     "end_time": "2020-02-26T23:06:07.129993Z",
     "start_time": "2020-02-26T23:06:07.121878Z"
    }
   },
   "outputs": [
    {
     "data": {
      "text/plain": [
       "count     3924.000000\n",
       "mean      8699.954128\n",
       "std       4423.068498\n",
       "min        574.000000\n",
       "25%       4960.000000\n",
       "50%       8699.500000\n",
       "75%      12409.500000\n",
       "max      19202.000000\n",
       "Name: consultation_end_time, dtype: float64"
      ]
     },
     "execution_count": 9,
     "metadata": {},
     "output_type": "execute_result"
    }
   ],
   "source": [
    "summary_train_df['consultation_end_time'].describe()"
   ]
  },
  {
   "cell_type": "code",
   "execution_count": 10,
   "metadata": {
    "ExecuteTime": {
     "end_time": "2020-02-26T23:06:07.273550Z",
     "start_time": "2020-02-26T23:06:07.131589Z"
    }
   },
   "outputs": [
    {
     "data": {
      "image/png": "[encoded data removed]",
      "text/plain": [
       "<Figure size 432x360 with 1 Axes>"
      ]
     },
     "metadata": {
      "needs_background": "light"
     },
     "output_type": "display_data"
    }
   ],
   "source": [
    "fig, ax = plt.subplots(figsize=(6, 5))\n",
    "\n",
    "sns.distplot(summary_train_df['consultation_end_time'], ax=ax, kde=False);"
   ]
  },
  {
   "cell_type": "code",
   "execution_count": 11,
   "metadata": {
    "ExecuteTime": {
     "end_time": "2020-02-26T23:06:07.287628Z",
     "start_time": "2020-02-26T23:06:07.275182Z"
    }
   },
   "outputs": [],
   "source": [
    "priority_map = {'normal': 1, 'urgent': 2}\n",
    "summary_df['priority_enc'] = summary_df['priority'].map(priority_map)\n",
    "\n",
    "pain_map = {'no pain': 1, 'moderate pain': 2, 'severe pain': 3}\n",
    "summary_df['pain_enc'] = summary_df['pain'].map(pain_map)\n",
    "\n",
    "temp_map = {'hypothermia': 2, 'normal': 1, 'fever': 2}\n",
    "summary_df['temp_cat_enc'] = summary_df['temp_cat'].map(temp_map)"
   ]
  },
  {
   "cell_type": "code",
   "execution_count": 12,
   "metadata": {
    "ExecuteTime": {
     "end_time": "2020-02-26T23:06:07.304081Z",
     "start_time": "2020-02-26T23:06:07.289842Z"
    }
   },
   "outputs": [],
   "source": [
    "summary_df = pd.get_dummies(summary_df, columns=['pain', 'temp_cat'])"
   ]
  },
  {
   "cell_type": "code",
   "execution_count": 13,
   "metadata": {
    "ExecuteTime": {
     "end_time": "2020-02-26T23:06:07.319943Z",
     "start_time": "2020-02-26T23:06:07.305803Z"
    }
   },
   "outputs": [],
   "source": [
    "# summary['pain_no pain:temp_cat_hypothermia'] =\\\n",
    "# summary['pain_no pain'] * summary['temp_cat_hypothermia']\n",
    "# summary['pain_moderate pain:temp_cat_hypothermia'] =\\\n",
    "# summary['pain_moderate pain'] * summary['temp_cat_hypothermia']\n",
    "summary_df['pain_severe pain:temp_cat_hypothermia'] = \\\n",
    "summary_df['pain_severe pain'] * summary_df['temp_cat_hypothermia']\n",
    "\n",
    "# summary['pain_no pain:temp_cat_normal'] = summary['pain_no pain'] * summary['temp_cat_normal']\n",
    "summary_df['pain_moderate pain:temp_cat_normal'] = \\\n",
    "summary_df['pain_moderate pain'] * summary_df['temp_cat_normal']\n",
    "# summary['pain_severe pain:temp_cat_normal'] = summary['pain_severe pain'] * summary['temp_cat_normal']\n",
    "\n",
    "# summary['pain_no pain:temp_cat_fever'] = summary['pain_no pain'] * summary['temp_cat_fever']\n",
    "# summary['pain_moderate pain:temp_cat_fever'] = summary['pain_moderate pain'] * summary['temp_cat_fever']\n",
    "summary_df['pain_severe pain:temp_cat_fever'] = \\\n",
    "summary_df['pain_severe pain'] * summary_df['temp_cat_fever']"
   ]
  },
  {
   "cell_type": "code",
   "execution_count": 14,
   "metadata": {
    "ExecuteTime": {
     "end_time": "2020-02-26T23:06:07.324089Z",
     "start_time": "2020-02-26T23:06:07.321528Z"
    }
   },
   "outputs": [],
   "source": [
    "# data000 = summary.loc[summary['pain_no pain:temp_cat_hypothermia'] == 0, 'consultation_end_time']\n",
    "# data010 = summary.loc[summary['pain_moderate pain:temp_cat_hypothermia'] == 0, 'consultation_end_time']\n",
    "# data020 = summary.loc[summary['pain_severe pain:temp_cat_hypothermia'] == 0, 'consultation_end_time']\n",
    "# data001 = summary.loc[summary['pain_no pain:temp_cat_hypothermia'] == 1, 'consultation_end_time']\n",
    "# data011 = summary.loc[summary['pain_moderate pain:temp_cat_hypothermia'] == 1, 'consultation_end_time']\n",
    "# data021 = summary.loc[summary['pain_severe pain:temp_cat_hypothermia'] == 1, 'consultation_end_time']\n",
    "\n",
    "# data100 = summary.loc[summary['pain_no pain:temp_cat_normal'] == 0, 'consultation_end_time']\n",
    "# data110 = summary.loc[summary['pain_moderate pain:temp_cat_normal'] == 0, 'consultation_end_time']\n",
    "# data120 = summary.loc[summary['pain_severe pain:temp_cat_normal'] == 0, 'consultation_end_time']\n",
    "# data101 = summary.loc[summary['pain_no pain:temp_cat_normal'] == 1, 'consultation_end_time']\n",
    "# data111 = summary.loc[summary['pain_moderate pain:temp_cat_normal'] == 1, 'consultation_end_time']\n",
    "# data121 = summary.loc[summary['pain_severe pain:temp_cat_normal'] == 1, 'consultation_end_time']\n",
    "\n",
    "# data200 = summary.loc[summary['pain_no pain:temp_cat_fever'] == 0, 'consultation_end_time']\n",
    "# data210 = summary.loc[summary['pain_moderate pain:temp_cat_fever'] == 0, 'consultation_end_time']\n",
    "# data220 = summary.loc[summary['pain_severe pain:temp_cat_fever'] == 0, 'consultation_end_time']\n",
    "# data201 = summary.loc[summary['pain_no pain:temp_cat_fever'] == 1, 'consultation_end_time']\n",
    "# data211 = summary.loc[summary['pain_moderate pain:temp_cat_fever'] == 1, 'consultation_end_time']\n",
    "# data221 = summary.loc[summary['pain_severe pain:temp_cat_fever'] == 1, 'consultation_end_time']\n",
    "\n",
    "# fig, ax = plt.subplots(3, 3, figsize=(15, 15))\n",
    "\n",
    "# sns.distplot(data000, ax=ax[0, 0], kde=False)\n",
    "# sns.distplot(data010, ax=ax[0, 1], kde=False)\n",
    "# sns.distplot(data020, ax=ax[0, 2], kde=False)\n",
    "# sns.distplot(data001, ax=ax[0, 0], kde=False)\n",
    "# sns.distplot(data011, ax=ax[0, 1], kde=False)\n",
    "# sns.distplot(data021, ax=ax[0, 2], kde=False)\n",
    "# sns.distplot(data100, ax=ax[1, 0], kde=False)\n",
    "# sns.distplot(data110, ax=ax[1, 1], kde=False)\n",
    "# sns.distplot(data120, ax=ax[1, 2], kde=False)\n",
    "# sns.distplot(data101, ax=ax[1, 0], kde=False)\n",
    "# sns.distplot(data111, ax=ax[1, 1], kde=False)\n",
    "# sns.distplot(data121, ax=ax[1, 2], kde=False)\n",
    "# sns.distplot(data200, ax=ax[2, 0], kde=False)\n",
    "# sns.distplot(data210, ax=ax[2, 1], kde=False)\n",
    "# sns.distplot(data220, ax=ax[2, 2], kde=False)\n",
    "# sns.distplot(data201, ax=ax[2, 0], kde=False)\n",
    "# sns.distplot(data211, ax=ax[2, 1], kde=False)\n",
    "# sns.distplot(data221, ax=ax[2, 2], kde=False)\n",
    "\n",
    "# plt.subplots_adjust(wspace=.25);"
   ]
  },
  {
   "cell_type": "code",
   "execution_count": 15,
   "metadata": {
    "ExecuteTime": {
     "end_time": "2020-02-26T23:06:07.339915Z",
     "start_time": "2020-02-26T23:06:07.325854Z"
    },
    "scrolled": true
   },
   "outputs": [
    {
     "data": {
      "text/html": [
       "<div>\n",
       "<style scoped>\n",
       "    .dataframe tbody tr th:only-of-type {\n",
       "        vertical-align: middle;\n",
       "    }\n",
       "\n",
       "    .dataframe tbody tr th {\n",
       "        vertical-align: top;\n",
       "    }\n",
       "\n",
       "    .dataframe thead th {\n",
       "        text-align: right;\n",
       "    }\n",
       "</style>\n",
       "<table border=\"1\" class=\"dataframe\">\n",
       "  <thead>\n",
       "    <tr style=\"text-align: right;\">\n",
       "      <th></th>\n",
       "      <th>Unnamed: 0</th>\n",
       "      <th>arrival_time</th>\n",
       "      <th>assessment_end_time</th>\n",
       "      <th>assessment_start_time</th>\n",
       "      <th>consultation_end_time</th>\n",
       "      <th>consultation_start_time</th>\n",
       "      <th>day</th>\n",
       "      <th>duration</th>\n",
       "      <th>pain</th>\n",
       "      <th>patient</th>\n",
       "      <th>priority</th>\n",
       "      <th>temperature</th>\n",
       "    </tr>\n",
       "  </thead>\n",
       "  <tbody>\n",
       "    <tr>\n",
       "      <th>0</th>\n",
       "      <td>1830</td>\n",
       "      <td>22</td>\n",
       "      <td>113</td>\n",
       "      <td>53</td>\n",
       "      <td>593</td>\n",
       "      <td>137</td>\n",
       "      <td>24</td>\n",
       "      <td>456</td>\n",
       "      <td>no pain</td>\n",
       "      <td>1831</td>\n",
       "      <td>normal</td>\n",
       "      <td>36.7</td>\n",
       "    </tr>\n",
       "    <tr>\n",
       "      <th>1</th>\n",
       "      <td>4220</td>\n",
       "      <td>22</td>\n",
       "      <td>113</td>\n",
       "      <td>49</td>\n",
       "      <td>749</td>\n",
       "      <td>193</td>\n",
       "      <td>49</td>\n",
       "      <td>556</td>\n",
       "      <td>no pain</td>\n",
       "      <td>4220</td>\n",
       "      <td>normal</td>\n",
       "      <td>36.8</td>\n",
       "    </tr>\n",
       "    <tr>\n",
       "      <th>2</th>\n",
       "      <td>822</td>\n",
       "      <td>8</td>\n",
       "      <td>131</td>\n",
       "      <td>39</td>\n",
       "      <td>1106</td>\n",
       "      <td>169</td>\n",
       "      <td>12</td>\n",
       "      <td>937</td>\n",
       "      <td>moderate pain</td>\n",
       "      <td>820</td>\n",
       "      <td>urgent</td>\n",
       "      <td>37.3</td>\n",
       "    </tr>\n",
       "    <tr>\n",
       "      <th>3</th>\n",
       "      <td>386</td>\n",
       "      <td>20</td>\n",
       "      <td>138</td>\n",
       "      <td>55</td>\n",
       "      <td>574</td>\n",
       "      <td>164</td>\n",
       "      <td>6</td>\n",
       "      <td>410</td>\n",
       "      <td>no pain</td>\n",
       "      <td>387</td>\n",
       "      <td>normal</td>\n",
       "      <td>36.7</td>\n",
       "    </tr>\n",
       "    <tr>\n",
       "      <th>4</th>\n",
       "      <td>4321</td>\n",
       "      <td>52</td>\n",
       "      <td>161</td>\n",
       "      <td>89</td>\n",
       "      <td>999</td>\n",
       "      <td>208</td>\n",
       "      <td>50</td>\n",
       "      <td>790</td>\n",
       "      <td>moderate pain</td>\n",
       "      <td>4322</td>\n",
       "      <td>urgent</td>\n",
       "      <td>37.1</td>\n",
       "    </tr>\n",
       "  </tbody>\n",
       "</table>\n",
       "</div>"
      ],
      "text/plain": [
       "   Unnamed: 0  arrival_time  assessment_end_time  assessment_start_time  \\\n",
       "0        1830            22                  113                     53   \n",
       "1        4220            22                  113                     49   \n",
       "2         822             8                  131                     39   \n",
       "3         386            20                  138                     55   \n",
       "4        4321            52                  161                     89   \n",
       "\n",
       "   consultation_end_time  consultation_start_time  day  duration  \\\n",
       "0                    593                      137   24       456   \n",
       "1                    749                      193   49       556   \n",
       "2                   1106                      169   12       937   \n",
       "3                    574                      164    6       410   \n",
       "4                    999                      208   50       790   \n",
       "\n",
       "            pain  patient priority  temperature  \n",
       "0        no pain     1831   normal         36.7  \n",
       "1        no pain     4220   normal         36.8  \n",
       "2  moderate pain      820   urgent         37.3  \n",
       "3        no pain      387   normal         36.7  \n",
       "4  moderate pain     4322   urgent         37.1  "
      ]
     },
     "execution_count": 15,
     "metadata": {},
     "output_type": "execute_result"
    }
   ],
   "source": [
    "summary.head()"
   ]
  },
  {
   "cell_type": "code",
   "execution_count": 16,
   "metadata": {
    "ExecuteTime": {
     "end_time": "2020-02-26T23:06:07.347242Z",
     "start_time": "2020-02-26T23:06:07.341639Z"
    }
   },
   "outputs": [],
   "source": [
    "# def create_new_features(df):\n",
    "#     '''\n",
    "#     Given a dataframe, returns dataframe with added new features:\n",
    "#         free_doctors: number of doctors available after patient has passed triage\n",
    "#         queue_size: queue size after patient has passed triage\n",
    "#         urgents_on_queue: number of urgent priority patients on queue after patient has passed triage\n",
    "#     '''\n",
    "    \n",
    "#     free_docs = [6]\n",
    "#     q_urg = [list()]\n",
    "#     q_norm = [list()]\n",
    "#     q_real = [list()]\n",
    "#     urgs_on_q = [0]\n",
    "#     q_size = 0\n",
    "#     nonbusy_docs = 0\n",
    "#     consult_endtime_ls = [df.loc[0, 'consultation_end_time']]\n",
    "    \n",
    "#     for i in range(1, len(df)):\n",
    "#         nonbusy_docs = (df.loc[i, 'assessment_end_time'] >= consult_endtime_ls).sum()\n",
    "#         consult_endtime_ls = consult_endtime_ls[nonbusy_docs:]\n",
    "\n",
    "#         if free_docs[i - 1] > 1:\n",
    "#             free_docs.append(free_docs[i - 1] - 1 + nonbusy_docs)\n",
    "#             consult_endtime_ls.append(df.loc[i, 'consultation_end_time'])\n",
    "#             consult_endtime_ls = sorted(consult_endtime_ls)\n",
    "#             q_urg.append(q_urg[i - 1])\n",
    "#             q_norm.append(q_norm[i - 1])\n",
    "#             q_real.append(q_urg[i] + q_norm[i])\n",
    "#             urgs_on_q.append(urgs_on_q[i - 1])\n",
    "#         elif nonbusy_docs == 0:\n",
    "#             free_docs.append(0)\n",
    "#             if df.loc[i, 'priority'] == 'urgent':\n",
    "#                 urgs_on_q.append(urgs_on_q[i - 1] + 1)\n",
    "#                 q_urg.append(q_urg[i - 1] + [i])\n",
    "#                 q_norm.append(q_norm[i - 1])\n",
    "#             else:\n",
    "#                 urgs_on_q.append(urgs_on_q[i - 1])\n",
    "#                 q_urg.append(q_urg[i - 1])\n",
    "#                 q_norm.append(q_norm[i - 1] + [i])\n",
    "#             q_real.append(q_urg[i] + q_norm[i])\n",
    "#             q_size = len(q_real[i])\n",
    "#         elif q_size == 0:\n",
    "#             free_docs.append(free_docs[i - 1] - 1 + nonbusy_docs)\n",
    "#             q_urg.append(q_urg[i - 1])\n",
    "#             q_norm.append(q_norm[i - 1])\n",
    "#             q_real.append(q_urg[i] + q_norm[i])\n",
    "#             urgs_on_q.append(urgs_on_q[i - 1])\n",
    "#             consult_endtime_ls.append(df.loc[i, 'consultation_end_time'])\n",
    "#             consult_endtime_ls = sorted(consult_endtime_ls)\n",
    "#         else:\n",
    "#             free_docs.append(np.max([free_docs[i - 1] + nonbusy_docs - q_size, 0]))\n",
    "#             if df.loc[i, 'priority'] == 'urgent':\n",
    "#                 urgs_on_q.append(urgs_on_q[i - 1] + 1)\n",
    "#                 q_urg.append(q_urg[i - 1] + [i])\n",
    "#                 q_norm.append(q_norm[i - 1])\n",
    "#             else:\n",
    "#                 urgs_on_q.append(urgs_on_q[i - 1])\n",
    "#                 q_urg.append(q_urg[i - 1])\n",
    "#                 q_norm.append(q_norm[i - 1] + [i])\n",
    "#             q_real.append(q_urg[i] + q_norm[i])\n",
    "#             q_size = len(q_real[i])\n",
    "#             while q_size > 0 and nonbusy_docs > 0:\n",
    "#                 patient = q_real[i].pop(0)\n",
    "#                 if df.loc[patient, 'priority'] == 'urgent':\n",
    "#                     urgs_on_q[i] -= 1\n",
    "#                     q_urg[i].pop(0)\n",
    "#                 else:\n",
    "#                     q_norm[i].pop(0)\n",
    "#                 consult_endtime_ls.append(df.loc[patient, 'consultation_end_time'])\n",
    "#                 consult_endtime_ls = sorted(consult_endtime_ls)\n",
    "#                 q_size -= 1\n",
    "#                 nonbusy_docs -= 1\n",
    "                \n",
    "# #     new_features = pd.DataFrame([free_docs, pd.Series(q_real).apply(lambda x: len(x)), urgs_on_q],\n",
    "# #                                 index=['free_doctors', 'queue_size', 'urgents_on_queue']).T\n",
    "    \n",
    "#     new_features = pd.DataFrame([pd.Series(q_real).apply(lambda x: len(x))],\n",
    "#                             index=['queue_size']).T\n",
    "    \n",
    "#     return pd.concat([df, new_features], axis=1)"
   ]
  },
  {
   "cell_type": "code",
   "execution_count": 17,
   "metadata": {
    "ExecuteTime": {
     "end_time": "2020-02-26T23:06:07.361404Z",
     "start_time": "2020-02-26T23:06:07.349122Z"
    }
   },
   "outputs": [],
   "source": [
    "# summary_new = pd.DataFrame(columns=summary.columns)\n",
    "# for i in summary['day'].unique():\n",
    "#     df = create_new_features(summary[summary['day'] == i].reset_index(drop=True))\n",
    "#     summary_new = pd.concat([summary_new, df], axis=0)\n",
    "\n",
    "cols_to_drop = ['Unnamed: 0', 'arrival_time', 'assessment_start_time', 'patient',\n",
    "                'priority', 'temperature', 'consultation_start_time',\n",
    "                'pain_no pain', 'pain_moderate pain', 'pain_severe pain',\n",
    "                'temp_cat_hypothermia', 'temp_cat_normal', 'temp_cat_fever']\n",
    "\n",
    "summary_df.drop(cols_to_drop, axis=1, inplace=True)"
   ]
  },
  {
   "cell_type": "code",
   "execution_count": 18,
   "metadata": {
    "ExecuteTime": {
     "end_time": "2020-02-26T23:06:07.372630Z",
     "start_time": "2020-02-26T23:06:07.363825Z"
    }
   },
   "outputs": [],
   "source": [
    "df_train = summary_df[summary_df['day'] <= 45]\n",
    "df_test = summary_df[summary_df['day'] > 45]"
   ]
  },
  {
   "cell_type": "code",
   "execution_count": 19,
   "metadata": {
    "ExecuteTime": {
     "end_time": "2020-02-26T23:06:07.385188Z",
     "start_time": "2020-02-26T23:06:07.374660Z"
    },
    "scrolled": true
   },
   "outputs": [],
   "source": [
    "best_params_ls = []\n",
    "train_error_ls = []\n",
    "val_error_ls = []\n",
    "\n",
    "def get_best_params_and_errors(df):\n",
    "    '''\n",
    "    Given df, returns:\n",
    "        - a list of the parameters of the best model for each day\n",
    "        - a list of the cv train rmse of the best model for each day\n",
    "        - a list of the cv validation rmse of the best model for each day\n",
    "    '''\n",
    "    \n",
    "    for i in tqdm(df['day'].unique()):\n",
    "        X_train = df[df['day'] == i].drop(['day', 'duration'], axis=1)\n",
    "        y_train = df.loc[df['day'] == i, 'duration']\n",
    "\n",
    "        tscv = TimeSeriesSplit(n_splits=5)\n",
    "\n",
    "        ridge = Ridge(normalize=True, random_state=42)\n",
    "        ridge_params = {'alpha': ss.uniform(0, 6)}\n",
    "\n",
    "        rscv = RandomizedSearchCV(ridge,\n",
    "                                  ridge_params,\n",
    "                                  n_iter=100,\n",
    "                                  scoring=make_scorer(mean_squared_log_error, greater_is_better=False),\n",
    "                                  n_jobs=-1,\n",
    "                                  cv=tscv,\n",
    "                                  verbose=1,\n",
    "                                  random_state=42,\n",
    "                                  return_train_score=True)\n",
    "\n",
    "        rscv.fit(X_train, y_train)\n",
    "\n",
    "        best_params_ls.append(rscv.best_params_)\n",
    "\n",
    "        cv_results = pd.DataFrame(rscv.cv_results_)\n",
    "        train_error_ls.append(np.sqrt(-cv_results.loc[rscv.best_index_, 'mean_train_score']))\n",
    "        val_error_ls.append(np.sqrt(-cv_results.loc[rscv.best_index_, 'mean_test_score']))\n",
    "        \n",
    "    return best_params_ls, train_error_ls, val_error_ls"
   ]
  },
  {
   "cell_type": "code",
   "execution_count": 20,
   "metadata": {
    "ExecuteTime": {
     "end_time": "2020-02-26T23:06:45.843679Z",
     "start_time": "2020-02-26T23:06:07.387040Z"
    }
   },
   "outputs": [
    {
     "name": "stderr",
     "output_type": "stream",
     "text": [
      "\r",
      "  0%|          | 0/45 [00:00<?, ?it/s]"
     ]
    },
    {
     "name": "stdout",
     "output_type": "stream",
     "text": [
      "Fitting 5 folds for each of 100 candidates, totalling 500 fits\n"
     ]
    },
    {
     "name": "stderr",
     "output_type": "stream",
     "text": [
      "[Parallel(n_jobs=-1)]: Using backend LokyBackend with 8 concurrent workers.\n",
      "[Parallel(n_jobs=-1)]: Done  34 tasks      | elapsed:    1.9s\n",
      "[Parallel(n_jobs=-1)]: Done 480 tasks      | elapsed:    2.6s\n",
      "[Parallel(n_jobs=-1)]: Done 500 out of 500 | elapsed:    2.6s finished\n",
      "  2%|▏         | 1/45 [00:02<01:57,  2.67s/it][Parallel(n_jobs=-1)]: Using backend LokyBackend with 8 concurrent workers.\n",
      "[Parallel(n_jobs=-1)]: Done  56 tasks      | elapsed:    0.2s\n"
     ]
    },
    {
     "name": "stdout",
     "output_type": "stream",
     "text": [
      "Fitting 5 folds for each of 100 candidates, totalling 500 fits\n"
     ]
    },
    {
     "name": "stderr",
     "output_type": "stream",
     "text": [
      "[Parallel(n_jobs=-1)]: Done 500 out of 500 | elapsed:    0.6s finished\n",
      "  4%|▍         | 2/45 [00:03<01:28,  2.06s/it][Parallel(n_jobs=-1)]: Using backend LokyBackend with 8 concurrent workers.\n",
      "[Parallel(n_jobs=-1)]: Done  56 tasks      | elapsed:    0.2s\n"
     ]
    },
    {
     "name": "stdout",
     "output_type": "stream",
     "text": [
      "Fitting 5 folds for each of 100 candidates, totalling 500 fits\n"
     ]
    },
    {
     "name": "stderr",
     "output_type": "stream",
     "text": [
      "[Parallel(n_jobs=-1)]: Done 500 out of 500 | elapsed:    0.6s finished\n",
      "  7%|▋         | 3/45 [00:03<01:08,  1.63s/it][Parallel(n_jobs=-1)]: Using backend LokyBackend with 8 concurrent workers.\n",
      "[Parallel(n_jobs=-1)]: Done  56 tasks      | elapsed:    0.2s\n"
     ]
    },
    {
     "name": "stdout",
     "output_type": "stream",
     "text": [
      "Fitting 5 folds for each of 100 candidates, totalling 500 fits\n"
     ]
    },
    {
     "name": "stderr",
     "output_type": "stream",
     "text": [
      "[Parallel(n_jobs=-1)]: Done 500 out of 500 | elapsed:    0.6s finished\n",
      "  9%|▉         | 4/45 [00:04<00:54,  1.33s/it][Parallel(n_jobs=-1)]: Using backend LokyBackend with 8 concurrent workers.\n",
      "[Parallel(n_jobs=-1)]: Done  56 tasks      | elapsed:    0.2s\n"
     ]
    },
    {
     "name": "stdout",
     "output_type": "stream",
     "text": [
      "Fitting 5 folds for each of 100 candidates, totalling 500 fits\n"
     ]
    },
    {
     "name": "stderr",
     "output_type": "stream",
     "text": [
      "[Parallel(n_jobs=-1)]: Done 500 out of 500 | elapsed:    0.6s finished\n",
      " 11%|█         | 5/45 [00:05<00:44,  1.11s/it][Parallel(n_jobs=-1)]: Using backend LokyBackend with 8 concurrent workers.\n",
      "[Parallel(n_jobs=-1)]: Done  56 tasks      | elapsed:    0.2s\n"
     ]
    },
    {
     "name": "stdout",
     "output_type": "stream",
     "text": [
      "Fitting 5 folds for each of 100 candidates, totalling 500 fits\n"
     ]
    },
    {
     "name": "stderr",
     "output_type": "stream",
     "text": [
      "[Parallel(n_jobs=-1)]: Done 500 out of 500 | elapsed:    0.6s finished\n",
      " 13%|█▎        | 6/45 [00:05<00:37,  1.04it/s][Parallel(n_jobs=-1)]: Using backend LokyBackend with 8 concurrent workers.\n"
     ]
    },
    {
     "name": "stdout",
     "output_type": "stream",
     "text": [
      "Fitting 5 folds for each of 100 candidates, totalling 500 fits\n"
     ]
    },
    {
     "name": "stderr",
     "output_type": "stream",
     "text": [
      "[Parallel(n_jobs=-1)]: Done  56 tasks      | elapsed:    0.2s\n",
      "[Parallel(n_jobs=-1)]: Done 500 out of 500 | elapsed:    0.8s finished\n",
      " 16%|█▌        | 7/45 [00:06<00:34,  1.09it/s][Parallel(n_jobs=-1)]: Using backend LokyBackend with 8 concurrent workers.\n"
     ]
    },
    {
     "name": "stdout",
     "output_type": "stream",
     "text": [
      "Fitting 5 folds for each of 100 candidates, totalling 500 fits\n"
     ]
    },
    {
     "name": "stderr",
     "output_type": "stream",
     "text": [
      "[Parallel(n_jobs=-1)]: Done  56 tasks      | elapsed:    0.2s\n",
      "[Parallel(n_jobs=-1)]: Done 500 out of 500 | elapsed:    0.8s finished\n",
      " 18%|█▊        | 8/45 [00:07<00:32,  1.13it/s][Parallel(n_jobs=-1)]: Using backend LokyBackend with 8 concurrent workers.\n"
     ]
    },
    {
     "name": "stdout",
     "output_type": "stream",
     "text": [
      "Fitting 5 folds for each of 100 candidates, totalling 500 fits\n"
     ]
    },
    {
     "name": "stderr",
     "output_type": "stream",
     "text": [
      "[Parallel(n_jobs=-1)]: Done  56 tasks      | elapsed:    0.2s\n",
      "[Parallel(n_jobs=-1)]: Done 500 out of 500 | elapsed:    0.8s finished\n",
      " 20%|██        | 9/45 [00:08<00:31,  1.14it/s][Parallel(n_jobs=-1)]: Using backend LokyBackend with 8 concurrent workers.\n"
     ]
    },
    {
     "name": "stdout",
     "output_type": "stream",
     "text": [
      "Fitting 5 folds for each of 100 candidates, totalling 500 fits\n"
     ]
    },
    {
     "name": "stderr",
     "output_type": "stream",
     "text": [
      "[Parallel(n_jobs=-1)]: Done  56 tasks      | elapsed:    0.2s\n",
      "[Parallel(n_jobs=-1)]: Done 500 out of 500 | elapsed:    0.8s finished\n",
      " 22%|██▏       | 10/45 [00:09<00:30,  1.16it/s][Parallel(n_jobs=-1)]: Using backend LokyBackend with 8 concurrent workers.\n"
     ]
    },
    {
     "name": "stdout",
     "output_type": "stream",
     "text": [
      "Fitting 5 folds for each of 100 candidates, totalling 500 fits\n"
     ]
    },
    {
     "name": "stderr",
     "output_type": "stream",
     "text": [
      "[Parallel(n_jobs=-1)]: Done  56 tasks      | elapsed:    0.2s\n",
      "[Parallel(n_jobs=-1)]: Done 500 out of 500 | elapsed:    0.8s finished\n",
      " 24%|██▍       | 11/45 [00:09<00:29,  1.17it/s][Parallel(n_jobs=-1)]: Using backend LokyBackend with 8 concurrent workers.\n"
     ]
    },
    {
     "name": "stdout",
     "output_type": "stream",
     "text": [
      "Fitting 5 folds for each of 100 candidates, totalling 500 fits\n"
     ]
    },
    {
     "name": "stderr",
     "output_type": "stream",
     "text": [
      "[Parallel(n_jobs=-1)]: Done  56 tasks      | elapsed:    0.2s\n",
      "[Parallel(n_jobs=-1)]: Done 500 out of 500 | elapsed:    0.8s finished\n",
      " 27%|██▋       | 12/45 [00:10<00:28,  1.18it/s][Parallel(n_jobs=-1)]: Using backend LokyBackend with 8 concurrent workers.\n"
     ]
    },
    {
     "name": "stdout",
     "output_type": "stream",
     "text": [
      "Fitting 5 folds for each of 100 candidates, totalling 500 fits\n"
     ]
    },
    {
     "name": "stderr",
     "output_type": "stream",
     "text": [
      "[Parallel(n_jobs=-1)]: Done  56 tasks      | elapsed:    0.2s\n",
      "[Parallel(n_jobs=-1)]: Done 500 out of 500 | elapsed:    0.8s finished\n",
      " 29%|██▉       | 13/45 [00:11<00:27,  1.18it/s][Parallel(n_jobs=-1)]: Using backend LokyBackend with 8 concurrent workers.\n"
     ]
    },
    {
     "name": "stdout",
     "output_type": "stream",
     "text": [
      "Fitting 5 folds for each of 100 candidates, totalling 500 fits\n"
     ]
    },
    {
     "name": "stderr",
     "output_type": "stream",
     "text": [
      "[Parallel(n_jobs=-1)]: Done  56 tasks      | elapsed:    0.2s\n",
      "[Parallel(n_jobs=-1)]: Done 500 out of 500 | elapsed:    0.8s finished\n",
      " 31%|███       | 14/45 [00:12<00:26,  1.19it/s][Parallel(n_jobs=-1)]: Using backend LokyBackend with 8 concurrent workers.\n"
     ]
    },
    {
     "name": "stdout",
     "output_type": "stream",
     "text": [
      "Fitting 5 folds for each of 100 candidates, totalling 500 fits\n"
     ]
    },
    {
     "name": "stderr",
     "output_type": "stream",
     "text": [
      "[Parallel(n_jobs=-1)]: Done  56 tasks      | elapsed:    0.2s\n",
      "[Parallel(n_jobs=-1)]: Done 500 out of 500 | elapsed:    0.8s finished\n",
      " 33%|███▎      | 15/45 [00:13<00:25,  1.19it/s][Parallel(n_jobs=-1)]: Using backend LokyBackend with 8 concurrent workers.\n"
     ]
    },
    {
     "name": "stdout",
     "output_type": "stream",
     "text": [
      "Fitting 5 folds for each of 100 candidates, totalling 500 fits\n"
     ]
    },
    {
     "name": "stderr",
     "output_type": "stream",
     "text": [
      "[Parallel(n_jobs=-1)]: Done  56 tasks      | elapsed:    0.2s\n",
      "[Parallel(n_jobs=-1)]: Done 500 out of 500 | elapsed:    0.8s finished\n",
      " 36%|███▌      | 16/45 [00:14<00:24,  1.20it/s][Parallel(n_jobs=-1)]: Using backend LokyBackend with 8 concurrent workers.\n"
     ]
    },
    {
     "name": "stdout",
     "output_type": "stream",
     "text": [
      "Fitting 5 folds for each of 100 candidates, totalling 500 fits\n"
     ]
    },
    {
     "name": "stderr",
     "output_type": "stream",
     "text": [
      "[Parallel(n_jobs=-1)]: Done  56 tasks      | elapsed:    0.2s\n",
      "[Parallel(n_jobs=-1)]: Done 500 out of 500 | elapsed:    0.8s finished\n",
      " 38%|███▊      | 17/45 [00:14<00:23,  1.20it/s][Parallel(n_jobs=-1)]: Using backend LokyBackend with 8 concurrent workers.\n"
     ]
    },
    {
     "name": "stdout",
     "output_type": "stream",
     "text": [
      "Fitting 5 folds for each of 100 candidates, totalling 500 fits\n"
     ]
    },
    {
     "name": "stderr",
     "output_type": "stream",
     "text": [
      "[Parallel(n_jobs=-1)]: Done  56 tasks      | elapsed:    0.2s\n",
      "[Parallel(n_jobs=-1)]: Done 500 out of 500 | elapsed:    0.8s finished\n",
      " 40%|████      | 18/45 [00:15<00:22,  1.20it/s][Parallel(n_jobs=-1)]: Using backend LokyBackend with 8 concurrent workers.\n"
     ]
    },
    {
     "name": "stdout",
     "output_type": "stream",
     "text": [
      "Fitting 5 folds for each of 100 candidates, totalling 500 fits\n"
     ]
    },
    {
     "name": "stderr",
     "output_type": "stream",
     "text": [
      "[Parallel(n_jobs=-1)]: Done  56 tasks      | elapsed:    0.2s\n",
      "[Parallel(n_jobs=-1)]: Done 500 out of 500 | elapsed:    0.8s finished\n",
      " 42%|████▏     | 19/45 [00:16<00:21,  1.19it/s][Parallel(n_jobs=-1)]: Using backend LokyBackend with 8 concurrent workers.\n"
     ]
    },
    {
     "name": "stdout",
     "output_type": "stream",
     "text": [
      "Fitting 5 folds for each of 100 candidates, totalling 500 fits\n"
     ]
    },
    {
     "name": "stderr",
     "output_type": "stream",
     "text": [
      "[Parallel(n_jobs=-1)]: Done  56 tasks      | elapsed:    0.2s\n",
      "[Parallel(n_jobs=-1)]: Done 500 out of 500 | elapsed:    0.8s finished\n",
      " 44%|████▍     | 20/45 [00:17<00:20,  1.21it/s][Parallel(n_jobs=-1)]: Using backend LokyBackend with 8 concurrent workers.\n"
     ]
    },
    {
     "name": "stdout",
     "output_type": "stream",
     "text": [
      "Fitting 5 folds for each of 100 candidates, totalling 500 fits\n"
     ]
    },
    {
     "name": "stderr",
     "output_type": "stream",
     "text": [
      "[Parallel(n_jobs=-1)]: Done  56 tasks      | elapsed:    0.2s\n",
      "[Parallel(n_jobs=-1)]: Done 500 out of 500 | elapsed:    0.8s finished\n",
      " 47%|████▋     | 21/45 [00:18<00:19,  1.22it/s][Parallel(n_jobs=-1)]: Using backend LokyBackend with 8 concurrent workers.\n"
     ]
    },
    {
     "name": "stdout",
     "output_type": "stream",
     "text": [
      "Fitting 5 folds for each of 100 candidates, totalling 500 fits\n"
     ]
    },
    {
     "name": "stderr",
     "output_type": "stream",
     "text": [
      "[Parallel(n_jobs=-1)]: Done  56 tasks      | elapsed:    0.2s\n",
      "[Parallel(n_jobs=-1)]: Done 500 out of 500 | elapsed:    0.8s finished\n",
      " 49%|████▉     | 22/45 [00:18<00:18,  1.23it/s][Parallel(n_jobs=-1)]: Using backend LokyBackend with 8 concurrent workers.\n"
     ]
    },
    {
     "name": "stdout",
     "output_type": "stream",
     "text": [
      "Fitting 5 folds for each of 100 candidates, totalling 500 fits\n"
     ]
    },
    {
     "name": "stderr",
     "output_type": "stream",
     "text": [
      "[Parallel(n_jobs=-1)]: Done  56 tasks      | elapsed:    0.2s\n",
      "[Parallel(n_jobs=-1)]: Done 500 out of 500 | elapsed:    0.8s finished\n",
      " 51%|█████     | 23/45 [00:19<00:17,  1.25it/s][Parallel(n_jobs=-1)]: Using backend LokyBackend with 8 concurrent workers.\n"
     ]
    },
    {
     "name": "stdout",
     "output_type": "stream",
     "text": [
      "Fitting 5 folds for each of 100 candidates, totalling 500 fits\n"
     ]
    },
    {
     "name": "stderr",
     "output_type": "stream",
     "text": [
      "[Parallel(n_jobs=-1)]: Done  56 tasks      | elapsed:    0.2s\n",
      "[Parallel(n_jobs=-1)]: Done 500 out of 500 | elapsed:    0.8s finished\n",
      " 53%|█████▎    | 24/45 [00:20<00:16,  1.25it/s][Parallel(n_jobs=-1)]: Using backend LokyBackend with 8 concurrent workers.\n"
     ]
    },
    {
     "name": "stdout",
     "output_type": "stream",
     "text": [
      "Fitting 5 folds for each of 100 candidates, totalling 500 fits\n"
     ]
    },
    {
     "name": "stderr",
     "output_type": "stream",
     "text": [
      "[Parallel(n_jobs=-1)]: Done  56 tasks      | elapsed:    0.2s\n",
      "[Parallel(n_jobs=-1)]: Done 500 out of 500 | elapsed:    0.8s finished\n",
      " 56%|█████▌    | 25/45 [00:21<00:16,  1.25it/s][Parallel(n_jobs=-1)]: Using backend LokyBackend with 8 concurrent workers.\n"
     ]
    },
    {
     "name": "stdout",
     "output_type": "stream",
     "text": [
      "Fitting 5 folds for each of 100 candidates, totalling 500 fits\n"
     ]
    },
    {
     "name": "stderr",
     "output_type": "stream",
     "text": [
      "[Parallel(n_jobs=-1)]: Done  56 tasks      | elapsed:    0.2s\n",
      "[Parallel(n_jobs=-1)]: Done 500 out of 500 | elapsed:    0.8s finished\n",
      " 58%|█████▊    | 26/45 [00:22<00:15,  1.26it/s][Parallel(n_jobs=-1)]: Using backend LokyBackend with 8 concurrent workers.\n"
     ]
    },
    {
     "name": "stdout",
     "output_type": "stream",
     "text": [
      "Fitting 5 folds for each of 100 candidates, totalling 500 fits\n"
     ]
    },
    {
     "name": "stderr",
     "output_type": "stream",
     "text": [
      "[Parallel(n_jobs=-1)]: Done  56 tasks      | elapsed:    0.2s\n",
      "[Parallel(n_jobs=-1)]: Done 500 out of 500 | elapsed:    0.8s finished\n",
      " 60%|██████    | 27/45 [00:22<00:14,  1.26it/s][Parallel(n_jobs=-1)]: Using backend LokyBackend with 8 concurrent workers.\n"
     ]
    },
    {
     "name": "stdout",
     "output_type": "stream",
     "text": [
      "Fitting 5 folds for each of 100 candidates, totalling 500 fits\n"
     ]
    },
    {
     "name": "stderr",
     "output_type": "stream",
     "text": [
      "[Parallel(n_jobs=-1)]: Done  56 tasks      | elapsed:    0.2s\n",
      "[Parallel(n_jobs=-1)]: Done 500 out of 500 | elapsed:    0.8s finished\n",
      " 62%|██████▏   | 28/45 [00:23<00:13,  1.25it/s][Parallel(n_jobs=-1)]: Using backend LokyBackend with 8 concurrent workers.\n"
     ]
    },
    {
     "name": "stdout",
     "output_type": "stream",
     "text": [
      "Fitting 5 folds for each of 100 candidates, totalling 500 fits\n"
     ]
    },
    {
     "name": "stderr",
     "output_type": "stream",
     "text": [
      "[Parallel(n_jobs=-1)]: Done  56 tasks      | elapsed:    0.2s\n",
      "[Parallel(n_jobs=-1)]: Done 500 out of 500 | elapsed:    0.8s finished\n",
      " 64%|██████▍   | 29/45 [00:24<00:12,  1.25it/s][Parallel(n_jobs=-1)]: Using backend LokyBackend with 8 concurrent workers.\n"
     ]
    },
    {
     "name": "stdout",
     "output_type": "stream",
     "text": [
      "Fitting 5 folds for each of 100 candidates, totalling 500 fits\n"
     ]
    },
    {
     "name": "stderr",
     "output_type": "stream",
     "text": [
      "[Parallel(n_jobs=-1)]: Done  56 tasks      | elapsed:    0.2s\n",
      "[Parallel(n_jobs=-1)]: Done 500 out of 500 | elapsed:    0.8s finished\n",
      " 67%|██████▋   | 30/45 [00:25<00:11,  1.25it/s][Parallel(n_jobs=-1)]: Using backend LokyBackend with 8 concurrent workers.\n"
     ]
    },
    {
     "name": "stdout",
     "output_type": "stream",
     "text": [
      "Fitting 5 folds for each of 100 candidates, totalling 500 fits\n"
     ]
    },
    {
     "name": "stderr",
     "output_type": "stream",
     "text": [
      "[Parallel(n_jobs=-1)]: Done  56 tasks      | elapsed:    0.2s\n",
      "[Parallel(n_jobs=-1)]: Done 500 out of 500 | elapsed:    0.8s finished\n",
      " 69%|██████▉   | 31/45 [00:26<00:11,  1.24it/s][Parallel(n_jobs=-1)]: Using backend LokyBackend with 8 concurrent workers.\n"
     ]
    },
    {
     "name": "stdout",
     "output_type": "stream",
     "text": [
      "Fitting 5 folds for each of 100 candidates, totalling 500 fits\n"
     ]
    },
    {
     "name": "stderr",
     "output_type": "stream",
     "text": [
      "[Parallel(n_jobs=-1)]: Done  56 tasks      | elapsed:    0.2s\n",
      "[Parallel(n_jobs=-1)]: Done 500 out of 500 | elapsed:    0.9s finished\n",
      " 71%|███████   | 32/45 [00:27<00:10,  1.19it/s][Parallel(n_jobs=-1)]: Using backend LokyBackend with 8 concurrent workers.\n"
     ]
    },
    {
     "name": "stdout",
     "output_type": "stream",
     "text": [
      "Fitting 5 folds for each of 100 candidates, totalling 500 fits\n"
     ]
    },
    {
     "name": "stderr",
     "output_type": "stream",
     "text": [
      "[Parallel(n_jobs=-1)]: Done  56 tasks      | elapsed:    0.2s\n",
      "[Parallel(n_jobs=-1)]: Done 500 out of 500 | elapsed:    0.9s finished\n",
      " 73%|███████▎  | 33/45 [00:28<00:10,  1.15it/s][Parallel(n_jobs=-1)]: Using backend LokyBackend with 8 concurrent workers.\n"
     ]
    },
    {
     "name": "stdout",
     "output_type": "stream",
     "text": [
      "Fitting 5 folds for each of 100 candidates, totalling 500 fits\n"
     ]
    },
    {
     "name": "stderr",
     "output_type": "stream",
     "text": [
      "[Parallel(n_jobs=-1)]: Done  56 tasks      | elapsed:    0.2s\n",
      "[Parallel(n_jobs=-1)]: Done 500 out of 500 | elapsed:    0.9s finished\n",
      " 76%|███████▌  | 34/45 [00:28<00:09,  1.13it/s][Parallel(n_jobs=-1)]: Using backend LokyBackend with 8 concurrent workers.\n"
     ]
    },
    {
     "name": "stdout",
     "output_type": "stream",
     "text": [
      "Fitting 5 folds for each of 100 candidates, totalling 500 fits\n"
     ]
    },
    {
     "name": "stderr",
     "output_type": "stream",
     "text": [
      "[Parallel(n_jobs=-1)]: Done  56 tasks      | elapsed:    0.2s\n",
      "[Parallel(n_jobs=-1)]: Done 500 out of 500 | elapsed:    1.0s finished\n",
      " 78%|███████▊  | 35/45 [00:29<00:09,  1.08it/s][Parallel(n_jobs=-1)]: Using backend LokyBackend with 8 concurrent workers.\n"
     ]
    },
    {
     "name": "stdout",
     "output_type": "stream",
     "text": [
      "Fitting 5 folds for each of 100 candidates, totalling 500 fits\n"
     ]
    },
    {
     "name": "stderr",
     "output_type": "stream",
     "text": [
      "[Parallel(n_jobs=-1)]: Done  56 tasks      | elapsed:    0.2s\n",
      "[Parallel(n_jobs=-1)]: Done 500 out of 500 | elapsed:    0.9s finished\n",
      " 80%|████████  | 36/45 [00:30<00:08,  1.09it/s][Parallel(n_jobs=-1)]: Using backend LokyBackend with 8 concurrent workers.\n"
     ]
    },
    {
     "name": "stdout",
     "output_type": "stream",
     "text": [
      "Fitting 5 folds for each of 100 candidates, totalling 500 fits\n"
     ]
    },
    {
     "name": "stderr",
     "output_type": "stream",
     "text": [
      "[Parallel(n_jobs=-1)]: Done  56 tasks      | elapsed:    0.2s\n",
      "[Parallel(n_jobs=-1)]: Done 500 out of 500 | elapsed:    0.9s finished\n",
      " 82%|████████▏ | 37/45 [00:31<00:07,  1.09it/s][Parallel(n_jobs=-1)]: Using backend LokyBackend with 8 concurrent workers.\n"
     ]
    },
    {
     "name": "stdout",
     "output_type": "stream",
     "text": [
      "Fitting 5 folds for each of 100 candidates, totalling 500 fits\n"
     ]
    },
    {
     "name": "stderr",
     "output_type": "stream",
     "text": [
      "[Parallel(n_jobs=-1)]: Done  56 tasks      | elapsed:    0.2s\n",
      "[Parallel(n_jobs=-1)]: Done 500 out of 500 | elapsed:    0.9s finished\n",
      " 84%|████████▍ | 38/45 [00:32<00:06,  1.09it/s][Parallel(n_jobs=-1)]: Using backend LokyBackend with 8 concurrent workers.\n"
     ]
    },
    {
     "name": "stdout",
     "output_type": "stream",
     "text": [
      "Fitting 5 folds for each of 100 candidates, totalling 500 fits\n"
     ]
    },
    {
     "name": "stderr",
     "output_type": "stream",
     "text": [
      "[Parallel(n_jobs=-1)]: Done  56 tasks      | elapsed:    0.2s\n",
      "[Parallel(n_jobs=-1)]: Done 500 out of 500 | elapsed:    0.9s finished\n",
      " 87%|████████▋ | 39/45 [00:33<00:05,  1.09it/s][Parallel(n_jobs=-1)]: Using backend LokyBackend with 8 concurrent workers.\n"
     ]
    },
    {
     "name": "stdout",
     "output_type": "stream",
     "text": [
      "Fitting 5 folds for each of 100 candidates, totalling 500 fits\n"
     ]
    },
    {
     "name": "stderr",
     "output_type": "stream",
     "text": [
      "[Parallel(n_jobs=-1)]: Done  56 tasks      | elapsed:    0.2s\n",
      "[Parallel(n_jobs=-1)]: Done 500 out of 500 | elapsed:    0.8s finished\n",
      " 89%|████████▉ | 40/45 [00:34<00:04,  1.11it/s][Parallel(n_jobs=-1)]: Using backend LokyBackend with 8 concurrent workers.\n"
     ]
    },
    {
     "name": "stdout",
     "output_type": "stream",
     "text": [
      "Fitting 5 folds for each of 100 candidates, totalling 500 fits\n"
     ]
    },
    {
     "name": "stderr",
     "output_type": "stream",
     "text": [
      "[Parallel(n_jobs=-1)]: Done  56 tasks      | elapsed:    0.2s\n",
      "[Parallel(n_jobs=-1)]: Done 500 out of 500 | elapsed:    0.8s finished\n",
      " 91%|█████████ | 41/45 [00:35<00:03,  1.15it/s][Parallel(n_jobs=-1)]: Using backend LokyBackend with 8 concurrent workers.\n"
     ]
    },
    {
     "name": "stdout",
     "output_type": "stream",
     "text": [
      "Fitting 5 folds for each of 100 candidates, totalling 500 fits\n"
     ]
    },
    {
     "name": "stderr",
     "output_type": "stream",
     "text": [
      "[Parallel(n_jobs=-1)]: Done  56 tasks      | elapsed:    0.2s\n",
      "[Parallel(n_jobs=-1)]: Done 500 out of 500 | elapsed:    0.8s finished\n",
      " 93%|█████████▎| 42/45 [00:36<00:02,  1.17it/s][Parallel(n_jobs=-1)]: Using backend LokyBackend with 8 concurrent workers.\n"
     ]
    },
    {
     "name": "stdout",
     "output_type": "stream",
     "text": [
      "Fitting 5 folds for each of 100 candidates, totalling 500 fits\n"
     ]
    },
    {
     "name": "stderr",
     "output_type": "stream",
     "text": [
      "[Parallel(n_jobs=-1)]: Done  56 tasks      | elapsed:    0.2s\n",
      "[Parallel(n_jobs=-1)]: Done 500 out of 500 | elapsed:    0.7s finished\n",
      " 96%|█████████▌| 43/45 [00:36<00:01,  1.21it/s][Parallel(n_jobs=-1)]: Using backend LokyBackend with 8 concurrent workers.\n"
     ]
    },
    {
     "name": "stdout",
     "output_type": "stream",
     "text": [
      "Fitting 5 folds for each of 100 candidates, totalling 500 fits\n"
     ]
    },
    {
     "name": "stderr",
     "output_type": "stream",
     "text": [
      "[Parallel(n_jobs=-1)]: Done  56 tasks      | elapsed:    0.2s\n",
      "[Parallel(n_jobs=-1)]: Done 500 out of 500 | elapsed:    0.8s finished\n",
      " 98%|█████████▊| 44/45 [00:37<00:00,  1.22it/s][Parallel(n_jobs=-1)]: Using backend LokyBackend with 8 concurrent workers.\n"
     ]
    },
    {
     "name": "stdout",
     "output_type": "stream",
     "text": [
      "Fitting 5 folds for each of 100 candidates, totalling 500 fits\n"
     ]
    },
    {
     "name": "stderr",
     "output_type": "stream",
     "text": [
      "[Parallel(n_jobs=-1)]: Done  56 tasks      | elapsed:    0.2s\n",
      "[Parallel(n_jobs=-1)]: Done 500 out of 500 | elapsed:    0.8s finished\n",
      "100%|██████████| 45/45 [00:38<00:00,  1.17it/s]\n"
     ]
    }
   ],
   "source": [
    "best_params_ls, train_error_ls, val_error_ls = get_best_params_and_errors(df_train)\n",
    "\n",
    "results_train_df = pd.DataFrame([best_params_ls, train_error_ls, val_error_ls],\n",
    "                                 index=['best_params', 'train_rmse', 'val_rmse']).T"
   ]
  },
  {
   "cell_type": "code",
   "execution_count": 21,
   "metadata": {
    "ExecuteTime": {
     "end_time": "2020-02-26T23:06:45.863178Z",
     "start_time": "2020-02-26T23:06:45.846475Z"
    },
    "code_folding": [],
    "scrolled": true
   },
   "outputs": [],
   "source": [
    "class MetaEstimator():\n",
    "    def __init__(self, best_params):\n",
    "        self.best_params = best_params\n",
    "            \n",
    "    def fit(self, X, y):\n",
    "        days = X['day'].unique()\n",
    "        X_ls = [X[X['day'] == i] for i in days]\n",
    "        y_ls = [y[y['day'] == i] for i in days]\n",
    "        \n",
    "        best_estimator_ls = []\n",
    "        for i in range(len(self.best_params)):\n",
    "            params = self.best_params[i]\n",
    "            ridge = Ridge(normalize=False, random_state=42, **params)\n",
    "            X = X_ls[i].drop('day', axis=1)\n",
    "            y = y_ls[i].drop('day', axis=1)\n",
    "            best_estimator_ls.append(ridge.fit(X, y))\n",
    "            \n",
    "        self.estimators_ls = best_estimator_ls\n",
    "        \n",
    "        intercept = 0\n",
    "        coef = np.zeros_like(self.estimators_ls[0].coef_)\n",
    "        for estimator in self.estimators_ls:\n",
    "            intercept += estimator.intercept_\n",
    "            coef += estimator.coef_\n",
    "        n_estimators = len(self.estimators_ls)\n",
    "        \n",
    "        self.coefs = np.append(intercept, coef[0]) / n_estimators\n",
    "    \n",
    "    def predict(self, X):\n",
    "        days = X['day'].unique()\n",
    "        X_ls = [X[X['day'] == i] for i in days]\n",
    "\n",
    "        preds = np.empty(0)\n",
    "        for i in range(len(X_ls)):\n",
    "            C = pd.Series(np.ones(len(X_ls[i])), name='C', index=X_ls[i].index)\n",
    "            X_new = pd.concat([C, X_ls[i]], axis=1).drop('day', axis=1)\n",
    "            preds = np.append(preds, X_new @ self.coefs)\n",
    "        return preds"
   ]
  },
  {
   "cell_type": "code",
   "execution_count": 22,
   "metadata": {
    "ExecuteTime": {
     "end_time": "2020-02-26T23:06:46.052145Z",
     "start_time": "2020-02-26T23:06:45.865621Z"
    }
   },
   "outputs": [],
   "source": [
    "scaler = StandardScaler()\n",
    "\n",
    "df_train_new = df_train.drop(['day', 'consultation_end_time', 'duration'], axis=1)\n",
    "df_test_new = df_test.drop(['day', 'consultation_end_time', 'duration'], axis=1)\n",
    "\n",
    "X_train_scaled = \\\n",
    "pd.concat([pd.DataFrame(scaler.fit_transform(df_train_new), columns=df_train_new.columns),\n",
    "           df_train['day']], axis=1)\n",
    "X_test_scaled = \\\n",
    "pd.concat([pd.DataFrame(scaler.transform(df_test_new), columns=df_test_new.columns, index=df_test_new.index),\n",
    "           df_test['day']], axis=1)\n",
    "\n",
    "y_train = df_train[['day', 'consultation_end_time']]\n",
    "y_test = df_test[['day', 'consultation_end_time']]\n",
    "\n",
    "meta = MetaEstimator(results_train_df['best_params'])\n",
    "meta.fit(X_train_scaled, y_train)"
   ]
  },
  {
   "cell_type": "code",
   "execution_count": 23,
   "metadata": {
    "ExecuteTime": {
     "end_time": "2020-02-26T23:06:46.076589Z",
     "start_time": "2020-02-26T23:06:46.057083Z"
    }
   },
   "outputs": [
    {
     "data": {
      "text/html": [
       "<div>\n",
       "<style scoped>\n",
       "    .dataframe tbody tr th:only-of-type {\n",
       "        vertical-align: middle;\n",
       "    }\n",
       "\n",
       "    .dataframe tbody tr th {\n",
       "        vertical-align: top;\n",
       "    }\n",
       "\n",
       "    .dataframe thead th {\n",
       "        text-align: right;\n",
       "    }\n",
       "</style>\n",
       "<table border=\"1\" class=\"dataframe\">\n",
       "  <thead>\n",
       "    <tr style=\"text-align: right;\">\n",
       "      <th></th>\n",
       "      <th>assessment_end_time</th>\n",
       "      <th>priority_enc</th>\n",
       "      <th>pain_enc</th>\n",
       "      <th>temp_cat_enc</th>\n",
       "      <th>pain_severe pain:temp_cat_hypothermia</th>\n",
       "      <th>pain_moderate pain:temp_cat_normal</th>\n",
       "      <th>pain_severe pain:temp_cat_fever</th>\n",
       "      <th>day</th>\n",
       "    </tr>\n",
       "  </thead>\n",
       "  <tbody>\n",
       "    <tr>\n",
       "      <th>0</th>\n",
       "      <td>-1.644707</td>\n",
       "      <td>1.594213</td>\n",
       "      <td>-0.727148</td>\n",
       "      <td>-0.382574</td>\n",
       "      <td>-0.216699</td>\n",
       "      <td>-0.48530</td>\n",
       "      <td>-0.171409</td>\n",
       "      <td>1</td>\n",
       "    </tr>\n",
       "    <tr>\n",
       "      <th>1</th>\n",
       "      <td>-1.619848</td>\n",
       "      <td>-0.627269</td>\n",
       "      <td>1.900227</td>\n",
       "      <td>-0.382574</td>\n",
       "      <td>-0.216699</td>\n",
       "      <td>-0.48530</td>\n",
       "      <td>-0.171409</td>\n",
       "      <td>1</td>\n",
       "    </tr>\n",
       "    <tr>\n",
       "      <th>2</th>\n",
       "      <td>-1.573746</td>\n",
       "      <td>-0.627269</td>\n",
       "      <td>1.900227</td>\n",
       "      <td>-0.382574</td>\n",
       "      <td>-0.216699</td>\n",
       "      <td>-0.48530</td>\n",
       "      <td>-0.171409</td>\n",
       "      <td>1</td>\n",
       "    </tr>\n",
       "    <tr>\n",
       "      <th>3</th>\n",
       "      <td>-1.531033</td>\n",
       "      <td>1.594213</td>\n",
       "      <td>1.900227</td>\n",
       "      <td>-0.382574</td>\n",
       "      <td>-0.216699</td>\n",
       "      <td>-0.48530</td>\n",
       "      <td>-0.171409</td>\n",
       "      <td>1</td>\n",
       "    </tr>\n",
       "    <tr>\n",
       "      <th>4</th>\n",
       "      <td>-1.506852</td>\n",
       "      <td>1.594213</td>\n",
       "      <td>1.900227</td>\n",
       "      <td>2.613874</td>\n",
       "      <td>4.614700</td>\n",
       "      <td>-0.48530</td>\n",
       "      <td>-0.171409</td>\n",
       "      <td>1</td>\n",
       "    </tr>\n",
       "    <tr>\n",
       "      <th>...</th>\n",
       "      <td>...</td>\n",
       "      <td>...</td>\n",
       "      <td>...</td>\n",
       "      <td>...</td>\n",
       "      <td>...</td>\n",
       "      <td>...</td>\n",
       "      <td>...</td>\n",
       "      <td>...</td>\n",
       "    </tr>\n",
       "    <tr>\n",
       "      <th>3919</th>\n",
       "      <td>2.134795</td>\n",
       "      <td>-0.627269</td>\n",
       "      <td>0.586539</td>\n",
       "      <td>-0.382574</td>\n",
       "      <td>-0.216699</td>\n",
       "      <td>2.06058</td>\n",
       "      <td>-0.171409</td>\n",
       "      <td>45</td>\n",
       "    </tr>\n",
       "    <tr>\n",
       "      <th>3920</th>\n",
       "      <td>2.156264</td>\n",
       "      <td>1.594213</td>\n",
       "      <td>0.586539</td>\n",
       "      <td>-0.382574</td>\n",
       "      <td>-0.216699</td>\n",
       "      <td>2.06058</td>\n",
       "      <td>-0.171409</td>\n",
       "      <td>45</td>\n",
       "    </tr>\n",
       "    <tr>\n",
       "      <th>3921</th>\n",
       "      <td>2.181802</td>\n",
       "      <td>-0.627269</td>\n",
       "      <td>0.586539</td>\n",
       "      <td>-0.382574</td>\n",
       "      <td>-0.216699</td>\n",
       "      <td>2.06058</td>\n",
       "      <td>-0.171409</td>\n",
       "      <td>45</td>\n",
       "    </tr>\n",
       "    <tr>\n",
       "      <th>3922</th>\n",
       "      <td>2.206435</td>\n",
       "      <td>-0.627269</td>\n",
       "      <td>0.586539</td>\n",
       "      <td>-0.382574</td>\n",
       "      <td>-0.216699</td>\n",
       "      <td>2.06058</td>\n",
       "      <td>-0.171409</td>\n",
       "      <td>45</td>\n",
       "    </tr>\n",
       "    <tr>\n",
       "      <th>3923</th>\n",
       "      <td>2.233102</td>\n",
       "      <td>-0.627269</td>\n",
       "      <td>0.586539</td>\n",
       "      <td>-0.382574</td>\n",
       "      <td>-0.216699</td>\n",
       "      <td>2.06058</td>\n",
       "      <td>-0.171409</td>\n",
       "      <td>45</td>\n",
       "    </tr>\n",
       "  </tbody>\n",
       "</table>\n",
       "<p>3924 rows × 8 columns</p>\n",
       "</div>"
      ],
      "text/plain": [
       "      assessment_end_time  priority_enc  pain_enc  temp_cat_enc  \\\n",
       "0               -1.644707      1.594213 -0.727148     -0.382574   \n",
       "1               -1.619848     -0.627269  1.900227     -0.382574   \n",
       "2               -1.573746     -0.627269  1.900227     -0.382574   \n",
       "3               -1.531033      1.594213  1.900227     -0.382574   \n",
       "4               -1.506852      1.594213  1.900227      2.613874   \n",
       "...                   ...           ...       ...           ...   \n",
       "3919             2.134795     -0.627269  0.586539     -0.382574   \n",
       "3920             2.156264      1.594213  0.586539     -0.382574   \n",
       "3921             2.181802     -0.627269  0.586539     -0.382574   \n",
       "3922             2.206435     -0.627269  0.586539     -0.382574   \n",
       "3923             2.233102     -0.627269  0.586539     -0.382574   \n",
       "\n",
       "      pain_severe pain:temp_cat_hypothermia  \\\n",
       "0                                 -0.216699   \n",
       "1                                 -0.216699   \n",
       "2                                 -0.216699   \n",
       "3                                 -0.216699   \n",
       "4                                  4.614700   \n",
       "...                                     ...   \n",
       "3919                              -0.216699   \n",
       "3920                              -0.216699   \n",
       "3921                              -0.216699   \n",
       "3922                              -0.216699   \n",
       "3923                              -0.216699   \n",
       "\n",
       "      pain_moderate pain:temp_cat_normal  pain_severe pain:temp_cat_fever  day  \n",
       "0                               -0.48530                        -0.171409    1  \n",
       "1                               -0.48530                        -0.171409    1  \n",
       "2                               -0.48530                        -0.171409    1  \n",
       "3                               -0.48530                        -0.171409    1  \n",
       "4                               -0.48530                        -0.171409    1  \n",
       "...                                  ...                              ...  ...  \n",
       "3919                             2.06058                        -0.171409   45  \n",
       "3920                             2.06058                        -0.171409   45  \n",
       "3921                             2.06058                        -0.171409   45  \n",
       "3922                             2.06058                        -0.171409   45  \n",
       "3923                             2.06058                        -0.171409   45  \n",
       "\n",
       "[3924 rows x 8 columns]"
      ]
     },
     "execution_count": 23,
     "metadata": {},
     "output_type": "execute_result"
    }
   ],
   "source": [
    "X_train_scaled"
   ]
  },
  {
   "cell_type": "code",
   "execution_count": 24,
   "metadata": {
    "ExecuteTime": {
     "end_time": "2020-02-26T23:06:46.107923Z",
     "start_time": "2020-02-26T23:06:46.080169Z"
    },
    "scrolled": true
   },
   "outputs": [
    {
     "name": "stdout",
     "output_type": "stream",
     "text": [
      "train root mean squared log error: 0.5685293320859324\n",
      "val root mean squared log error: 0.6671920554873103\n",
      "test root mean squared log error: 0.46989668802218304\n"
     ]
    }
   ],
   "source": [
    "y_test_true = df_test['consultation_end_time'] - df_test['assessment_end_time']\n",
    "y_test_pred = meta.predict(X_test_scaled) - df_test['assessment_end_time']\n",
    "\n",
    "train_error = np.sqrt(results_train_df['train_rmse'].mean())\n",
    "val_error = np.sqrt(results_train_df['val_rmse'].mean())\n",
    "test_error = np.sqrt(mean_squared_log_error(y_test_true, y_test_pred))\n",
    "\n",
    "print(f'train root mean squared log error: {train_error}')\n",
    "print(f'val root mean squared log error: {val_error}')\n",
    "print(f'test root mean squared log error: {test_error}')"
   ]
  },
  {
   "cell_type": "code",
   "execution_count": 25,
   "metadata": {
    "ExecuteTime": {
     "end_time": "2020-02-26T23:06:46.115871Z",
     "start_time": "2020-02-26T23:06:46.110018Z"
    }
   },
   "outputs": [],
   "source": [
    "coefs_df = pd.DataFrame(list(zip(np.append('C', X_train_scaled.columns), meta.coefs)),\n",
    "                        columns=['feature', 'coef'])"
   ]
  },
  {
   "cell_type": "code",
   "execution_count": 26,
   "metadata": {
    "ExecuteTime": {
     "end_time": "2020-02-26T23:06:46.133546Z",
     "start_time": "2020-02-26T23:06:46.118091Z"
    },
    "run_control": {
     "marked": false
    },
    "scrolled": true
   },
   "outputs": [
    {
     "data": {
      "text/html": [
       "<div>\n",
       "<style scoped>\n",
       "    .dataframe tbody tr th:only-of-type {\n",
       "        vertical-align: middle;\n",
       "    }\n",
       "\n",
       "    .dataframe tbody tr th {\n",
       "        vertical-align: top;\n",
       "    }\n",
       "\n",
       "    .dataframe thead th {\n",
       "        text-align: right;\n",
       "    }\n",
       "</style>\n",
       "<table border=\"1\" class=\"dataframe\">\n",
       "  <thead>\n",
       "    <tr style=\"text-align: right;\">\n",
       "      <th></th>\n",
       "      <th>feature</th>\n",
       "      <th>coef</th>\n",
       "      <th>coef_abs</th>\n",
       "    </tr>\n",
       "  </thead>\n",
       "  <tbody>\n",
       "    <tr>\n",
       "      <th>0</th>\n",
       "      <td>C</td>\n",
       "      <td>8715.754767</td>\n",
       "      <td>8715.754767</td>\n",
       "    </tr>\n",
       "    <tr>\n",
       "      <th>1</th>\n",
       "      <td>assessment_end_time</td>\n",
       "      <td>4397.299899</td>\n",
       "      <td>4397.299899</td>\n",
       "    </tr>\n",
       "    <tr>\n",
       "      <th>2</th>\n",
       "      <td>pain_enc</td>\n",
       "      <td>143.452854</td>\n",
       "      <td>143.452854</td>\n",
       "    </tr>\n",
       "    <tr>\n",
       "      <th>3</th>\n",
       "      <td>priority_enc</td>\n",
       "      <td>111.496609</td>\n",
       "      <td>111.496609</td>\n",
       "    </tr>\n",
       "    <tr>\n",
       "      <th>4</th>\n",
       "      <td>pain_severe pain:temp_cat_fever</td>\n",
       "      <td>94.040078</td>\n",
       "      <td>94.040078</td>\n",
       "    </tr>\n",
       "    <tr>\n",
       "      <th>5</th>\n",
       "      <td>pain_severe pain:temp_cat_hypothermia</td>\n",
       "      <td>77.279200</td>\n",
       "      <td>77.279200</td>\n",
       "    </tr>\n",
       "    <tr>\n",
       "      <th>6</th>\n",
       "      <td>temp_cat_enc</td>\n",
       "      <td>61.094210</td>\n",
       "      <td>61.094210</td>\n",
       "    </tr>\n",
       "    <tr>\n",
       "      <th>7</th>\n",
       "      <td>pain_moderate pain:temp_cat_normal</td>\n",
       "      <td>-31.788882</td>\n",
       "      <td>31.788882</td>\n",
       "    </tr>\n",
       "  </tbody>\n",
       "</table>\n",
       "</div>"
      ],
      "text/plain": [
       "                                 feature         coef     coef_abs\n",
       "0                                      C  8715.754767  8715.754767\n",
       "1                    assessment_end_time  4397.299899  4397.299899\n",
       "2                               pain_enc   143.452854   143.452854\n",
       "3                           priority_enc   111.496609   111.496609\n",
       "4        pain_severe pain:temp_cat_fever    94.040078    94.040078\n",
       "5  pain_severe pain:temp_cat_hypothermia    77.279200    77.279200\n",
       "6                           temp_cat_enc    61.094210    61.094210\n",
       "7     pain_moderate pain:temp_cat_normal   -31.788882    31.788882"
      ]
     },
     "execution_count": 26,
     "metadata": {},
     "output_type": "execute_result"
    }
   ],
   "source": [
    "coefs_df['coef_abs'] = coefs_df['coef'].abs()\n",
    "coefs_df.sort_values('coef_abs', ascending=False).reset_index(drop=True)"
   ]
  },
  {
   "cell_type": "code",
   "execution_count": 27,
   "metadata": {
    "ExecuteTime": {
     "end_time": "2020-02-26T23:06:46.311389Z",
     "start_time": "2020-02-26T23:06:46.135838Z"
    }
   },
   "outputs": [],
   "source": [
    "df = summary_df.drop(['day', 'consultation_end_time', 'duration'], axis=1)\n",
    "\n",
    "X = pd.concat([pd.DataFrame(scaler.fit_transform(df), columns=df.columns),\n",
    "               summary_df['day']], axis=1)\n",
    "\n",
    "y = summary_df[['day', 'consultation_end_time']]\n",
    "\n",
    "meta = MetaEstimator(results_train_df['best_params'])\n",
    "meta.fit(X, y)"
   ]
  },
  {
   "cell_type": "code",
   "execution_count": 35,
   "metadata": {
    "ExecuteTime": {
     "end_time": "2020-02-26T23:11:41.814085Z",
     "start_time": "2020-02-26T23:11:41.658501Z"
    }
   },
   "outputs": [
    {
     "name": "stdout",
     "output_type": "stream",
     "text": [
      "overall root mean squared log error: 0.44593056789484664\n"
     ]
    }
   ],
   "source": [
    "y_true = summary_df['consultation_end_time'] - summary_df['assessment_end_time']\n",
    "y_pred = meta.predict(X) - summary_df['assessment_end_time']\n",
    "\n",
    "overall_error = np.sqrt(mean_squared_log_error(y_true, y_pred))\n",
    "print(f'overall root mean squared log error: {overall_error}')"
   ]
  }
 ],
 "metadata": {
  "kernelspec": {
   "display_name": "Python 3",
   "language": "python",
   "name": "python3"
  },
  "language_info": {
   "codemirror_mode": {
    "name": "ipython",
    "version": 3
   },
   "file_extension": ".py",
   "mimetype": "text/x-python",
   "name": "python",
   "nbconvert_exporter": "python",
   "pygments_lexer": "ipython3",
   "version": "3.7.5"
  },
  "latex_envs": {
   "LaTeX_envs_menu_present": true,
   "autoclose": false,
   "autocomplete": true,
   "bibliofile": "biblio.bib",
   "cite_by": "apalike",
   "current_citInitial": 1,
   "eqLabelWithNumbers": true,
   "eqNumInitial": 1,
   "hotkeys": {
    "equation": "Ctrl-E",
    "itemize": "Ctrl-I"
   },
   "labels_anchors": false,
   "latex_user_defs": false,
   "report_style_numbering": false,
   "user_envs_cfg": false
  },
  "toc": {
   "base_numbering": 1,
   "nav_menu": {},
   "number_sections": true,
   "sideBar": true,
   "skip_h1_title": false,
   "title_cell": "Table of Contents",
   "title_sidebar": "Contents",
   "toc_cell": false,
   "toc_position": {},
   "toc_section_display": true,
   "toc_window_display": false
  },
  "varInspector": {
   "cols": {
    "lenName": 16,
    "lenType": 16,
    "lenVar": 40
   },
   "kernels_config": {
    "python": {
     "delete_cmd_postfix": "",
     "delete_cmd_prefix": "del ",
     "library": "var_list.py",
     "varRefreshCmd": "print(var_dic_list())"
    },
    "r": {
     "delete_cmd_postfix": ") ",
     "delete_cmd_prefix": "rm(",
     "library": "var_list.r",
     "varRefreshCmd": "cat(var_dic_list()) "
    }
   },
   "types_to_exclude": [
    "module",
    "function",
    "builtin_function_or_method",
    "instance",
    "_Feature"
   ],
   "window_display": false
  }
 },
 "nbformat": 4,
 "nbformat_minor": 4
}
