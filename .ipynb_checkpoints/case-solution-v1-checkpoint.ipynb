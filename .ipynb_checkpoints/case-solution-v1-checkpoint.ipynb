{
 "cells": [
  {
   "cell_type": "code",
   "execution_count": 1,
   "metadata": {
    "ExecuteTime": {
     "end_time": "2020-02-25T16:38:04.703390Z",
     "start_time": "2020-02-25T16:38:03.582839Z"
    }
   },
   "outputs": [],
   "source": [
    "import pandas as pd\n",
    "import numpy as np\n",
    "import matplotlib.pyplot as plt\n",
    "import seaborn as sns\n",
    "from sklearn.model_selection import train_test_split, TimeSeriesSplit, RandomizedSearchCV\n",
    "from sklearn.linear_model import Ridge\n",
    "from sklearn.preprocessing import StandardScaler\n",
    "from sklearn.metrics import mean_squared_error\n",
    "import scipy.stats as ss"
   ]
  },
  {
   "cell_type": "code",
   "execution_count": 2,
   "metadata": {
    "ExecuteTime": {
     "end_time": "2020-02-25T16:38:04.708285Z",
     "start_time": "2020-02-25T16:38:04.705143Z"
    }
   },
   "outputs": [],
   "source": [
    "pd.options.display.max_columns = 50"
   ]
  },
  {
   "cell_type": "code",
   "execution_count": 3,
   "metadata": {
    "ExecuteTime": {
     "end_time": "2020-02-25T16:38:04.734359Z",
     "start_time": "2020-02-25T16:38:04.710655Z"
    }
   },
   "outputs": [],
   "source": [
    "summary = pd.read_csv('data/summary.csv')\n",
    "day1 = pd.read_csv('data/day 1.csv')"
   ]
  },
  {
   "cell_type": "code",
   "execution_count": 4,
   "metadata": {
    "ExecuteTime": {
     "end_time": "2020-02-25T16:38:04.754522Z",
     "start_time": "2020-02-25T16:38:04.736229Z"
    }
   },
   "outputs": [
    {
     "data": {
      "text/html": [
       "<div>\n",
       "<style scoped>\n",
       "    .dataframe tbody tr th:only-of-type {\n",
       "        vertical-align: middle;\n",
       "    }\n",
       "\n",
       "    .dataframe tbody tr th {\n",
       "        vertical-align: top;\n",
       "    }\n",
       "\n",
       "    .dataframe thead th {\n",
       "        text-align: right;\n",
       "    }\n",
       "</style>\n",
       "<table border=\"1\" class=\"dataframe\">\n",
       "  <thead>\n",
       "    <tr style=\"text-align: right;\">\n",
       "      <th></th>\n",
       "      <th>Unnamed: 0</th>\n",
       "      <th>assessment</th>\n",
       "      <th>day</th>\n",
       "      <th>event</th>\n",
       "      <th>patient</th>\n",
       "      <th>time</th>\n",
       "    </tr>\n",
       "  </thead>\n",
       "  <tbody>\n",
       "    <tr>\n",
       "      <th>0</th>\n",
       "      <td>0</td>\n",
       "      <td>NaN</td>\n",
       "      <td>1</td>\n",
       "      <td>arrived</td>\n",
       "      <td>1</td>\n",
       "      <td>280</td>\n",
       "    </tr>\n",
       "    <tr>\n",
       "      <th>1</th>\n",
       "      <td>1</td>\n",
       "      <td>NaN</td>\n",
       "      <td>1</td>\n",
       "      <td>arrived</td>\n",
       "      <td>2</td>\n",
       "      <td>288</td>\n",
       "    </tr>\n",
       "    <tr>\n",
       "      <th>2</th>\n",
       "      <td>2</td>\n",
       "      <td>NaN</td>\n",
       "      <td>1</td>\n",
       "      <td>assessment initiated</td>\n",
       "      <td>1</td>\n",
       "      <td>308</td>\n",
       "    </tr>\n",
       "    <tr>\n",
       "      <th>3</th>\n",
       "      <td>3</td>\n",
       "      <td>NaN</td>\n",
       "      <td>1</td>\n",
       "      <td>arrived</td>\n",
       "      <td>3</td>\n",
       "      <td>430</td>\n",
       "    </tr>\n",
       "    <tr>\n",
       "      <th>4</th>\n",
       "      <td>4</td>\n",
       "      <td>urgent|36.599999999999994|no pain</td>\n",
       "      <td>1</td>\n",
       "      <td>assessment concluded</td>\n",
       "      <td>1</td>\n",
       "      <td>741</td>\n",
       "    </tr>\n",
       "    <tr>\n",
       "      <th>5</th>\n",
       "      <td>5</td>\n",
       "      <td>NaN</td>\n",
       "      <td>1</td>\n",
       "      <td>assessment initiated</td>\n",
       "      <td>2</td>\n",
       "      <td>764</td>\n",
       "    </tr>\n",
       "    <tr>\n",
       "      <th>6</th>\n",
       "      <td>6</td>\n",
       "      <td>NaN</td>\n",
       "      <td>1</td>\n",
       "      <td>consultation_initiated</td>\n",
       "      <td>1</td>\n",
       "      <td>773</td>\n",
       "    </tr>\n",
       "    <tr>\n",
       "      <th>7</th>\n",
       "      <td>7</td>\n",
       "      <td>normal|36.699999999999996|severe pain</td>\n",
       "      <td>1</td>\n",
       "      <td>assessment concluded</td>\n",
       "      <td>2</td>\n",
       "      <td>851</td>\n",
       "    </tr>\n",
       "    <tr>\n",
       "      <th>8</th>\n",
       "      <td>8</td>\n",
       "      <td>NaN</td>\n",
       "      <td>1</td>\n",
       "      <td>assessment initiated</td>\n",
       "      <td>3</td>\n",
       "      <td>878</td>\n",
       "    </tr>\n",
       "    <tr>\n",
       "      <th>9</th>\n",
       "      <td>9</td>\n",
       "      <td>NaN</td>\n",
       "      <td>1</td>\n",
       "      <td>consultation_initiated</td>\n",
       "      <td>2</td>\n",
       "      <td>905</td>\n",
       "    </tr>\n",
       "    <tr>\n",
       "      <th>10</th>\n",
       "      <td>10</td>\n",
       "      <td>NaN</td>\n",
       "      <td>1</td>\n",
       "      <td>arrived</td>\n",
       "      <td>4</td>\n",
       "      <td>944</td>\n",
       "    </tr>\n",
       "    <tr>\n",
       "      <th>11</th>\n",
       "      <td>11</td>\n",
       "      <td>normal|36.8|severe pain</td>\n",
       "      <td>1</td>\n",
       "      <td>assessment concluded</td>\n",
       "      <td>3</td>\n",
       "      <td>1055</td>\n",
       "    </tr>\n",
       "    <tr>\n",
       "      <th>12</th>\n",
       "      <td>12</td>\n",
       "      <td>NaN</td>\n",
       "      <td>1</td>\n",
       "      <td>consultation_initiated</td>\n",
       "      <td>3</td>\n",
       "      <td>1084</td>\n",
       "    </tr>\n",
       "    <tr>\n",
       "      <th>13</th>\n",
       "      <td>13</td>\n",
       "      <td>NaN</td>\n",
       "      <td>1</td>\n",
       "      <td>assessment initiated</td>\n",
       "      <td>4</td>\n",
       "      <td>1089</td>\n",
       "    </tr>\n",
       "    <tr>\n",
       "      <th>14</th>\n",
       "      <td>14</td>\n",
       "      <td>NaN</td>\n",
       "      <td>1</td>\n",
       "      <td>arrived</td>\n",
       "      <td>5</td>\n",
       "      <td>1139</td>\n",
       "    </tr>\n",
       "    <tr>\n",
       "      <th>15</th>\n",
       "      <td>15</td>\n",
       "      <td>urgent|36.599999999999994|severe pain</td>\n",
       "      <td>1</td>\n",
       "      <td>assessment concluded</td>\n",
       "      <td>4</td>\n",
       "      <td>1244</td>\n",
       "    </tr>\n",
       "    <tr>\n",
       "      <th>16</th>\n",
       "      <td>16</td>\n",
       "      <td>NaN</td>\n",
       "      <td>1</td>\n",
       "      <td>assessment initiated</td>\n",
       "      <td>5</td>\n",
       "      <td>1267</td>\n",
       "    </tr>\n",
       "    <tr>\n",
       "      <th>17</th>\n",
       "      <td>17</td>\n",
       "      <td>NaN</td>\n",
       "      <td>1</td>\n",
       "      <td>consultation_initiated</td>\n",
       "      <td>4</td>\n",
       "      <td>1294</td>\n",
       "    </tr>\n",
       "    <tr>\n",
       "      <th>18</th>\n",
       "      <td>18</td>\n",
       "      <td>urgent|36.199999999999996|severe pain</td>\n",
       "      <td>1</td>\n",
       "      <td>assessment concluded</td>\n",
       "      <td>5</td>\n",
       "      <td>1351</td>\n",
       "    </tr>\n",
       "    <tr>\n",
       "      <th>19</th>\n",
       "      <td>19</td>\n",
       "      <td>NaN</td>\n",
       "      <td>1</td>\n",
       "      <td>consultation_initiated</td>\n",
       "      <td>5</td>\n",
       "      <td>1378</td>\n",
       "    </tr>\n",
       "  </tbody>\n",
       "</table>\n",
       "</div>"
      ],
      "text/plain": [
       "    Unnamed: 0                             assessment  day  \\\n",
       "0            0                                    NaN    1   \n",
       "1            1                                    NaN    1   \n",
       "2            2                                    NaN    1   \n",
       "3            3                                    NaN    1   \n",
       "4            4      urgent|36.599999999999994|no pain    1   \n",
       "5            5                                    NaN    1   \n",
       "6            6                                    NaN    1   \n",
       "7            7  normal|36.699999999999996|severe pain    1   \n",
       "8            8                                    NaN    1   \n",
       "9            9                                    NaN    1   \n",
       "10          10                                    NaN    1   \n",
       "11          11                normal|36.8|severe pain    1   \n",
       "12          12                                    NaN    1   \n",
       "13          13                                    NaN    1   \n",
       "14          14                                    NaN    1   \n",
       "15          15  urgent|36.599999999999994|severe pain    1   \n",
       "16          16                                    NaN    1   \n",
       "17          17                                    NaN    1   \n",
       "18          18  urgent|36.199999999999996|severe pain    1   \n",
       "19          19                                    NaN    1   \n",
       "\n",
       "                     event  patient  time  \n",
       "0                  arrived        1   280  \n",
       "1                  arrived        2   288  \n",
       "2     assessment initiated        1   308  \n",
       "3                  arrived        3   430  \n",
       "4     assessment concluded        1   741  \n",
       "5     assessment initiated        2   764  \n",
       "6   consultation_initiated        1   773  \n",
       "7     assessment concluded        2   851  \n",
       "8     assessment initiated        3   878  \n",
       "9   consultation_initiated        2   905  \n",
       "10                 arrived        4   944  \n",
       "11    assessment concluded        3  1055  \n",
       "12  consultation_initiated        3  1084  \n",
       "13    assessment initiated        4  1089  \n",
       "14                 arrived        5  1139  \n",
       "15    assessment concluded        4  1244  \n",
       "16    assessment initiated        5  1267  \n",
       "17  consultation_initiated        4  1294  \n",
       "18    assessment concluded        5  1351  \n",
       "19  consultation_initiated        5  1378  "
      ]
     },
     "execution_count": 4,
     "metadata": {},
     "output_type": "execute_result"
    }
   ],
   "source": [
    "day1.head(20)"
   ]
  },
  {
   "cell_type": "code",
   "execution_count": 5,
   "metadata": {
    "ExecuteTime": {
     "end_time": "2020-02-25T16:38:04.768759Z",
     "start_time": "2020-02-25T16:38:04.756581Z"
    }
   },
   "outputs": [
    {
     "data": {
      "text/plain": [
       "Unnamed: 0                -0.043085\n",
       "arrival_time              -0.034497\n",
       "assessment_end_time       -0.066131\n",
       "assessment_start_time     -0.065776\n",
       "consultation_end_time      0.038430\n",
       "consultation_start_time   -0.066377\n",
       "day                       -0.044200\n",
       "duration                   1.000000\n",
       "patient                   -0.044809\n",
       "temperature                0.298949\n",
       "Name: duration, dtype: float64"
      ]
     },
     "execution_count": 5,
     "metadata": {},
     "output_type": "execute_result"
    }
   ],
   "source": [
    "summary.corr()['duration']"
   ]
  },
  {
   "cell_type": "code",
   "execution_count": 6,
   "metadata": {
    "ExecuteTime": {
     "end_time": "2020-02-25T16:38:04.773817Z",
     "start_time": "2020-02-25T16:38:04.771141Z"
    }
   },
   "outputs": [],
   "source": [
    "# sns.pairplot(summary);"
   ]
  },
  {
   "cell_type": "code",
   "execution_count": 7,
   "metadata": {
    "ExecuteTime": {
     "end_time": "2020-02-25T16:38:04.784127Z",
     "start_time": "2020-02-25T16:38:04.775957Z"
    }
   },
   "outputs": [],
   "source": [
    "# sns.pairplot(day1);"
   ]
  },
  {
   "cell_type": "code",
   "execution_count": 8,
   "metadata": {
    "ExecuteTime": {
     "end_time": "2020-02-25T16:38:04.796760Z",
     "start_time": "2020-02-25T16:38:04.788473Z"
    }
   },
   "outputs": [
    {
     "name": "stdout",
     "output_type": "stream",
     "text": [
      "(4420, 12)\n",
      "4420\n",
      "4420\n"
     ]
    }
   ],
   "source": [
    "print(summary.shape)\n",
    "print(len(summary['Unnamed: 0'].unique()))\n",
    "print(len(summary['patient'].unique()))"
   ]
  },
  {
   "cell_type": "code",
   "execution_count": 9,
   "metadata": {
    "ExecuteTime": {
     "end_time": "2020-02-25T16:38:04.827050Z",
     "start_time": "2020-02-25T16:38:04.799929Z"
    },
    "scrolled": true
   },
   "outputs": [
    {
     "data": {
      "text/html": [
       "<div>\n",
       "<style scoped>\n",
       "    .dataframe tbody tr th:only-of-type {\n",
       "        vertical-align: middle;\n",
       "    }\n",
       "\n",
       "    .dataframe tbody tr th {\n",
       "        vertical-align: top;\n",
       "    }\n",
       "\n",
       "    .dataframe thead th {\n",
       "        text-align: right;\n",
       "    }\n",
       "</style>\n",
       "<table border=\"1\" class=\"dataframe\">\n",
       "  <thead>\n",
       "    <tr style=\"text-align: right;\">\n",
       "      <th></th>\n",
       "      <th>Unnamed: 0</th>\n",
       "      <th>arrival_time</th>\n",
       "      <th>assessment_end_time</th>\n",
       "      <th>assessment_start_time</th>\n",
       "      <th>consultation_end_time</th>\n",
       "      <th>consultation_start_time</th>\n",
       "      <th>day</th>\n",
       "      <th>duration</th>\n",
       "      <th>pain</th>\n",
       "      <th>patient</th>\n",
       "      <th>priority</th>\n",
       "      <th>temperature</th>\n",
       "    </tr>\n",
       "  </thead>\n",
       "  <tbody>\n",
       "    <tr>\n",
       "      <th>0</th>\n",
       "      <td>1830</td>\n",
       "      <td>22</td>\n",
       "      <td>113</td>\n",
       "      <td>53</td>\n",
       "      <td>593</td>\n",
       "      <td>137</td>\n",
       "      <td>24</td>\n",
       "      <td>456</td>\n",
       "      <td>no pain</td>\n",
       "      <td>1831</td>\n",
       "      <td>normal</td>\n",
       "      <td>36.7</td>\n",
       "    </tr>\n",
       "    <tr>\n",
       "      <th>1</th>\n",
       "      <td>4220</td>\n",
       "      <td>22</td>\n",
       "      <td>113</td>\n",
       "      <td>49</td>\n",
       "      <td>749</td>\n",
       "      <td>193</td>\n",
       "      <td>49</td>\n",
       "      <td>556</td>\n",
       "      <td>no pain</td>\n",
       "      <td>4220</td>\n",
       "      <td>normal</td>\n",
       "      <td>36.8</td>\n",
       "    </tr>\n",
       "    <tr>\n",
       "      <th>2</th>\n",
       "      <td>822</td>\n",
       "      <td>8</td>\n",
       "      <td>131</td>\n",
       "      <td>39</td>\n",
       "      <td>1106</td>\n",
       "      <td>169</td>\n",
       "      <td>12</td>\n",
       "      <td>937</td>\n",
       "      <td>moderate pain</td>\n",
       "      <td>820</td>\n",
       "      <td>urgent</td>\n",
       "      <td>37.3</td>\n",
       "    </tr>\n",
       "    <tr>\n",
       "      <th>3</th>\n",
       "      <td>386</td>\n",
       "      <td>20</td>\n",
       "      <td>138</td>\n",
       "      <td>55</td>\n",
       "      <td>574</td>\n",
       "      <td>164</td>\n",
       "      <td>6</td>\n",
       "      <td>410</td>\n",
       "      <td>no pain</td>\n",
       "      <td>387</td>\n",
       "      <td>normal</td>\n",
       "      <td>36.7</td>\n",
       "    </tr>\n",
       "    <tr>\n",
       "      <th>4</th>\n",
       "      <td>4321</td>\n",
       "      <td>52</td>\n",
       "      <td>161</td>\n",
       "      <td>89</td>\n",
       "      <td>999</td>\n",
       "      <td>208</td>\n",
       "      <td>50</td>\n",
       "      <td>790</td>\n",
       "      <td>moderate pain</td>\n",
       "      <td>4322</td>\n",
       "      <td>urgent</td>\n",
       "      <td>37.1</td>\n",
       "    </tr>\n",
       "    <tr>\n",
       "      <th>5</th>\n",
       "      <td>1423</td>\n",
       "      <td>71</td>\n",
       "      <td>176</td>\n",
       "      <td>106</td>\n",
       "      <td>2730</td>\n",
       "      <td>206</td>\n",
       "      <td>19</td>\n",
       "      <td>2524</td>\n",
       "      <td>severe pain</td>\n",
       "      <td>1413</td>\n",
       "      <td>urgent</td>\n",
       "      <td>38.9</td>\n",
       "    </tr>\n",
       "    <tr>\n",
       "      <th>6</th>\n",
       "      <td>3926</td>\n",
       "      <td>76</td>\n",
       "      <td>180</td>\n",
       "      <td>100</td>\n",
       "      <td>1058</td>\n",
       "      <td>214</td>\n",
       "      <td>46</td>\n",
       "      <td>843</td>\n",
       "      <td>severe pain</td>\n",
       "      <td>3925</td>\n",
       "      <td>normal</td>\n",
       "      <td>37.4</td>\n",
       "    </tr>\n",
       "    <tr>\n",
       "      <th>7</th>\n",
       "      <td>1050</td>\n",
       "      <td>38</td>\n",
       "      <td>196</td>\n",
       "      <td>65</td>\n",
       "      <td>811</td>\n",
       "      <td>231</td>\n",
       "      <td>15</td>\n",
       "      <td>580</td>\n",
       "      <td>moderate pain</td>\n",
       "      <td>1051</td>\n",
       "      <td>normal</td>\n",
       "      <td>37.0</td>\n",
       "    </tr>\n",
       "    <tr>\n",
       "      <th>8</th>\n",
       "      <td>3517</td>\n",
       "      <td>17</td>\n",
       "      <td>198</td>\n",
       "      <td>54</td>\n",
       "      <td>1284</td>\n",
       "      <td>248</td>\n",
       "      <td>42</td>\n",
       "      <td>1035</td>\n",
       "      <td>severe pain</td>\n",
       "      <td>3518</td>\n",
       "      <td>normal</td>\n",
       "      <td>37.0</td>\n",
       "    </tr>\n",
       "    <tr>\n",
       "      <th>9</th>\n",
       "      <td>3428</td>\n",
       "      <td>0</td>\n",
       "      <td>203</td>\n",
       "      <td>18</td>\n",
       "      <td>966</td>\n",
       "      <td>232</td>\n",
       "      <td>41</td>\n",
       "      <td>734</td>\n",
       "      <td>moderate pain</td>\n",
       "      <td>3429</td>\n",
       "      <td>urgent</td>\n",
       "      <td>36.8</td>\n",
       "    </tr>\n",
       "    <tr>\n",
       "      <th>10</th>\n",
       "      <td>2322</td>\n",
       "      <td>86</td>\n",
       "      <td>204</td>\n",
       "      <td>104</td>\n",
       "      <td>819</td>\n",
       "      <td>234</td>\n",
       "      <td>29</td>\n",
       "      <td>585</td>\n",
       "      <td>moderate pain</td>\n",
       "      <td>2323</td>\n",
       "      <td>urgent</td>\n",
       "      <td>36.7</td>\n",
       "    </tr>\n",
       "    <tr>\n",
       "      <th>11</th>\n",
       "      <td>754</td>\n",
       "      <td>72</td>\n",
       "      <td>208</td>\n",
       "      <td>132</td>\n",
       "      <td>590</td>\n",
       "      <td>223</td>\n",
       "      <td>11</td>\n",
       "      <td>366</td>\n",
       "      <td>no pain</td>\n",
       "      <td>755</td>\n",
       "      <td>normal</td>\n",
       "      <td>36.8</td>\n",
       "    </tr>\n",
       "    <tr>\n",
       "      <th>12</th>\n",
       "      <td>4032</td>\n",
       "      <td>97</td>\n",
       "      <td>217</td>\n",
       "      <td>126</td>\n",
       "      <td>1281</td>\n",
       "      <td>259</td>\n",
       "      <td>47</td>\n",
       "      <td>1021</td>\n",
       "      <td>no pain</td>\n",
       "      <td>4032</td>\n",
       "      <td>urgent</td>\n",
       "      <td>36.5</td>\n",
       "    </tr>\n",
       "    <tr>\n",
       "      <th>13</th>\n",
       "      <td>2414</td>\n",
       "      <td>22</td>\n",
       "      <td>226</td>\n",
       "      <td>44</td>\n",
       "      <td>1199</td>\n",
       "      <td>256</td>\n",
       "      <td>30</td>\n",
       "      <td>943</td>\n",
       "      <td>moderate pain</td>\n",
       "      <td>2411</td>\n",
       "      <td>urgent</td>\n",
       "      <td>36.7</td>\n",
       "    </tr>\n",
       "    <tr>\n",
       "      <th>14</th>\n",
       "      <td>3254</td>\n",
       "      <td>68</td>\n",
       "      <td>226</td>\n",
       "      <td>100</td>\n",
       "      <td>1196</td>\n",
       "      <td>261</td>\n",
       "      <td>39</td>\n",
       "      <td>934</td>\n",
       "      <td>no pain</td>\n",
       "      <td>3253</td>\n",
       "      <td>normal</td>\n",
       "      <td>36.8</td>\n",
       "    </tr>\n",
       "    <tr>\n",
       "      <th>15</th>\n",
       "      <td>528</td>\n",
       "      <td>129</td>\n",
       "      <td>228</td>\n",
       "      <td>153</td>\n",
       "      <td>853</td>\n",
       "      <td>257</td>\n",
       "      <td>8</td>\n",
       "      <td>596</td>\n",
       "      <td>no pain</td>\n",
       "      <td>529</td>\n",
       "      <td>normal</td>\n",
       "      <td>36.8</td>\n",
       "    </tr>\n",
       "    <tr>\n",
       "      <th>16</th>\n",
       "      <td>819</td>\n",
       "      <td>103</td>\n",
       "      <td>244</td>\n",
       "      <td>164</td>\n",
       "      <td>689</td>\n",
       "      <td>273</td>\n",
       "      <td>12</td>\n",
       "      <td>415</td>\n",
       "      <td>no pain</td>\n",
       "      <td>821</td>\n",
       "      <td>normal</td>\n",
       "      <td>36.8</td>\n",
       "    </tr>\n",
       "    <tr>\n",
       "      <th>17</th>\n",
       "      <td>1137</td>\n",
       "      <td>66</td>\n",
       "      <td>247</td>\n",
       "      <td>94</td>\n",
       "      <td>1891</td>\n",
       "      <td>280</td>\n",
       "      <td>16</td>\n",
       "      <td>1610</td>\n",
       "      <td>moderate pain</td>\n",
       "      <td>1134</td>\n",
       "      <td>urgent</td>\n",
       "      <td>37.1</td>\n",
       "    </tr>\n",
       "    <tr>\n",
       "      <th>18</th>\n",
       "      <td>4219</td>\n",
       "      <td>130</td>\n",
       "      <td>250</td>\n",
       "      <td>183</td>\n",
       "      <td>662</td>\n",
       "      <td>275</td>\n",
       "      <td>49</td>\n",
       "      <td>387</td>\n",
       "      <td>no pain</td>\n",
       "      <td>4221</td>\n",
       "      <td>normal</td>\n",
       "      <td>36.7</td>\n",
       "    </tr>\n",
       "    <tr>\n",
       "      <th>19</th>\n",
       "      <td>2799</td>\n",
       "      <td>129</td>\n",
       "      <td>251</td>\n",
       "      <td>156</td>\n",
       "      <td>1390</td>\n",
       "      <td>276</td>\n",
       "      <td>34</td>\n",
       "      <td>1114</td>\n",
       "      <td>moderate pain</td>\n",
       "      <td>2797</td>\n",
       "      <td>urgent</td>\n",
       "      <td>37.0</td>\n",
       "    </tr>\n",
       "  </tbody>\n",
       "</table>\n",
       "</div>"
      ],
      "text/plain": [
       "    Unnamed: 0  arrival_time  assessment_end_time  assessment_start_time  \\\n",
       "0         1830            22                  113                     53   \n",
       "1         4220            22                  113                     49   \n",
       "2          822             8                  131                     39   \n",
       "3          386            20                  138                     55   \n",
       "4         4321            52                  161                     89   \n",
       "5         1423            71                  176                    106   \n",
       "6         3926            76                  180                    100   \n",
       "7         1050            38                  196                     65   \n",
       "8         3517            17                  198                     54   \n",
       "9         3428             0                  203                     18   \n",
       "10        2322            86                  204                    104   \n",
       "11         754            72                  208                    132   \n",
       "12        4032            97                  217                    126   \n",
       "13        2414            22                  226                     44   \n",
       "14        3254            68                  226                    100   \n",
       "15         528           129                  228                    153   \n",
       "16         819           103                  244                    164   \n",
       "17        1137            66                  247                     94   \n",
       "18        4219           130                  250                    183   \n",
       "19        2799           129                  251                    156   \n",
       "\n",
       "    consultation_end_time  consultation_start_time  day  duration  \\\n",
       "0                     593                      137   24       456   \n",
       "1                     749                      193   49       556   \n",
       "2                    1106                      169   12       937   \n",
       "3                     574                      164    6       410   \n",
       "4                     999                      208   50       790   \n",
       "5                    2730                      206   19      2524   \n",
       "6                    1058                      214   46       843   \n",
       "7                     811                      231   15       580   \n",
       "8                    1284                      248   42      1035   \n",
       "9                     966                      232   41       734   \n",
       "10                    819                      234   29       585   \n",
       "11                    590                      223   11       366   \n",
       "12                   1281                      259   47      1021   \n",
       "13                   1199                      256   30       943   \n",
       "14                   1196                      261   39       934   \n",
       "15                    853                      257    8       596   \n",
       "16                    689                      273   12       415   \n",
       "17                   1891                      280   16      1610   \n",
       "18                    662                      275   49       387   \n",
       "19                   1390                      276   34      1114   \n",
       "\n",
       "             pain  patient priority  temperature  \n",
       "0         no pain     1831   normal         36.7  \n",
       "1         no pain     4220   normal         36.8  \n",
       "2   moderate pain      820   urgent         37.3  \n",
       "3         no pain      387   normal         36.7  \n",
       "4   moderate pain     4322   urgent         37.1  \n",
       "5     severe pain     1413   urgent         38.9  \n",
       "6     severe pain     3925   normal         37.4  \n",
       "7   moderate pain     1051   normal         37.0  \n",
       "8     severe pain     3518   normal         37.0  \n",
       "9   moderate pain     3429   urgent         36.8  \n",
       "10  moderate pain     2323   urgent         36.7  \n",
       "11        no pain      755   normal         36.8  \n",
       "12        no pain     4032   urgent         36.5  \n",
       "13  moderate pain     2411   urgent         36.7  \n",
       "14        no pain     3253   normal         36.8  \n",
       "15        no pain      529   normal         36.8  \n",
       "16        no pain      821   normal         36.8  \n",
       "17  moderate pain     1134   urgent         37.1  \n",
       "18        no pain     4221   normal         36.7  \n",
       "19  moderate pain     2797   urgent         37.0  "
      ]
     },
     "execution_count": 9,
     "metadata": {},
     "output_type": "execute_result"
    }
   ],
   "source": [
    "summary.head(20)"
   ]
  },
  {
   "cell_type": "code",
   "execution_count": 10,
   "metadata": {
    "ExecuteTime": {
     "end_time": "2020-02-25T16:38:05.352383Z",
     "start_time": "2020-02-25T16:38:04.828918Z"
    }
   },
   "outputs": [
    {
     "data": {
      "image/png": "[encoded data removed]",
      "text/plain": [
       "<Figure size 432x288 with 1 Axes>"
      ]
     },
     "metadata": {
      "needs_background": "light"
     },
     "output_type": "display_data"
    }
   ],
   "source": [
    "sns.scatterplot('patient', 'arrival_time', data=summary, hue='day');"
   ]
  },
  {
   "cell_type": "code",
   "execution_count": 11,
   "metadata": {
    "ExecuteTime": {
     "end_time": "2020-02-25T16:38:05.362289Z",
     "start_time": "2020-02-25T16:38:05.354233Z"
    },
    "scrolled": true
   },
   "outputs": [
    {
     "data": {
      "text/plain": [
       "0.9953782079689507"
      ]
     },
     "execution_count": 11,
     "metadata": {},
     "output_type": "execute_result"
    }
   ],
   "source": [
    "summary.loc[summary['day'] == 50, 'arrival_time'].corr(summary.loc[summary['day'] == 50, 'patient'])"
   ]
  },
  {
   "cell_type": "code",
   "execution_count": 12,
   "metadata": {
    "ExecuteTime": {
     "end_time": "2020-02-25T16:38:05.374018Z",
     "start_time": "2020-02-25T16:38:05.364452Z"
    }
   },
   "outputs": [],
   "source": [
    "df = summary.sort_values(['day', 'arrival_time'])"
   ]
  },
  {
   "cell_type": "code",
   "execution_count": 13,
   "metadata": {
    "ExecuteTime": {
     "end_time": "2020-02-25T16:38:05.569614Z",
     "start_time": "2020-02-25T16:38:05.376472Z"
    },
    "scrolled": true
   },
   "outputs": [
    {
     "data": {
      "image/png": "[encoded data removed]",
      "text/plain": [
       "<Figure size 432x288 with 1 Axes>"
      ]
     },
     "metadata": {
      "needs_background": "light"
     },
     "output_type": "display_data"
    }
   ],
   "source": [
    "sns.distplot(df['duration']);"
   ]
  },
  {
   "cell_type": "code",
   "execution_count": 14,
   "metadata": {
    "ExecuteTime": {
     "end_time": "2020-02-25T16:38:05.733867Z",
     "start_time": "2020-02-25T16:38:05.571263Z"
    },
    "scrolled": true
   },
   "outputs": [
    {
     "data": {
      "image/png": "[encoded data removed]",
      "text/plain": [
       "<Figure size 432x288 with 1 Axes>"
      ]
     },
     "metadata": {
      "needs_background": "light"
     },
     "output_type": "display_data"
    }
   ],
   "source": [
    "sns.distplot(np.log(df['duration']));"
   ]
  },
  {
   "cell_type": "code",
   "execution_count": 15,
   "metadata": {
    "ExecuteTime": {
     "end_time": "2020-02-25T16:38:05.739432Z",
     "start_time": "2020-02-25T16:38:05.735747Z"
    }
   },
   "outputs": [],
   "source": [
    "df['log_consult_duration'] = np.log(df['duration'])"
   ]
  },
  {
   "cell_type": "code",
   "execution_count": 16,
   "metadata": {
    "ExecuteTime": {
     "end_time": "2020-02-25T16:38:05.753331Z",
     "start_time": "2020-02-25T16:38:05.740871Z"
    },
    "scrolled": true
   },
   "outputs": [
    {
     "name": "stdout",
     "output_type": "stream",
     "text": [
      "<class 'pandas.core.frame.DataFrame'>\n",
      "Int64Index: 4420 entries, 131 to 4334\n",
      "Data columns (total 13 columns):\n",
      " #   Column                   Non-Null Count  Dtype  \n",
      "---  ------                   --------------  -----  \n",
      " 0   Unnamed: 0               4420 non-null   int64  \n",
      " 1   arrival_time             4420 non-null   int64  \n",
      " 2   assessment_end_time      4420 non-null   int64  \n",
      " 3   assessment_start_time    4420 non-null   int64  \n",
      " 4   consultation_end_time    4420 non-null   int64  \n",
      " 5   consultation_start_time  4420 non-null   int64  \n",
      " 6   day                      4420 non-null   int64  \n",
      " 7   duration                 4420 non-null   int64  \n",
      " 8   pain                     4420 non-null   object \n",
      " 9   patient                  4420 non-null   int64  \n",
      " 10  priority                 4420 non-null   object \n",
      " 11  temperature              4420 non-null   float64\n",
      " 12  log_consult_duration     4420 non-null   float64\n",
      "dtypes: float64(2), int64(9), object(2)\n",
      "memory usage: 483.4+ KB\n"
     ]
    }
   ],
   "source": [
    "df.info()"
   ]
  },
  {
   "cell_type": "code",
   "execution_count": 17,
   "metadata": {
    "ExecuteTime": {
     "end_time": "2020-02-25T16:38:05.760846Z",
     "start_time": "2020-02-25T16:38:05.755096Z"
    }
   },
   "outputs": [],
   "source": [
    "# df['assessment_duration'] = df['assessment_end_time'] - df['assessment_start_time']"
   ]
  },
  {
   "cell_type": "code",
   "execution_count": 18,
   "metadata": {
    "ExecuteTime": {
     "end_time": "2020-02-25T16:38:05.778432Z",
     "start_time": "2020-02-25T16:38:05.762785Z"
    },
    "scrolled": true
   },
   "outputs": [
    {
     "data": {
      "text/plain": [
       "count    4420.000000\n",
       "mean       36.872330\n",
       "std         0.452982\n",
       "min        35.900000\n",
       "25%        36.700000\n",
       "50%        36.800000\n",
       "75%        36.925000\n",
       "max        42.600000\n",
       "Name: temperature, dtype: float64"
      ]
     },
     "execution_count": 18,
     "metadata": {},
     "output_type": "execute_result"
    }
   ],
   "source": [
    "df['temperature'].describe()"
   ]
  },
  {
   "cell_type": "code",
   "execution_count": 19,
   "metadata": {
    "ExecuteTime": {
     "end_time": "2020-02-25T16:38:05.966323Z",
     "start_time": "2020-02-25T16:38:05.781157Z"
    }
   },
   "outputs": [
    {
     "data": {
      "text/plain": [
       "<matplotlib.axes._subplots.AxesSubplot at 0x7fd78e51ac10>"
      ]
     },
     "execution_count": 19,
     "metadata": {},
     "output_type": "execute_result"
    },
    {
     "data": {
      "image/png": "[encoded data removed]",
      "text/plain": [
       "<Figure size 432x288 with 1 Axes>"
      ]
     },
     "metadata": {
      "needs_background": "light"
     },
     "output_type": "display_data"
    }
   ],
   "source": [
    "sns.distplot(df['temperature'], kde=False)"
   ]
  },
  {
   "cell_type": "code",
   "execution_count": 20,
   "metadata": {
    "ExecuteTime": {
     "end_time": "2020-02-25T16:38:05.973247Z",
     "start_time": "2020-02-25T16:38:05.967851Z"
    }
   },
   "outputs": [],
   "source": [
    "df['temp_cat'] = pd.cut(df['temperature'],\n",
    "                        bins=[float('-inf'), 36.5, 37.5, float('inf')],\n",
    "                        labels=['hypothermia', 'normal', 'fever'])"
   ]
  },
  {
   "cell_type": "code",
   "execution_count": 21,
   "metadata": {
    "ExecuteTime": {
     "end_time": "2020-02-25T16:38:05.982717Z",
     "start_time": "2020-02-25T16:38:05.974728Z"
    }
   },
   "outputs": [],
   "source": [
    "priority_map = {'normal': 1, 'urgent': 2}\n",
    "df['priority_enc'] = df['priority'].map(priority_map)"
   ]
  },
  {
   "cell_type": "code",
   "execution_count": 22,
   "metadata": {
    "ExecuteTime": {
     "end_time": "2020-02-25T16:38:05.995543Z",
     "start_time": "2020-02-25T16:38:05.984340Z"
    },
    "scrolled": true
   },
   "outputs": [],
   "source": [
    "df = pd.get_dummies(df, columns=['pain', 'temp_cat'])"
   ]
  },
  {
   "cell_type": "code",
   "execution_count": 23,
   "metadata": {
    "ExecuteTime": {
     "end_time": "2020-02-25T16:38:06.023329Z",
     "start_time": "2020-02-25T16:38:06.000437Z"
    }
   },
   "outputs": [
    {
     "data": {
      "text/html": [
       "<div>\n",
       "<style scoped>\n",
       "    .dataframe tbody tr th:only-of-type {\n",
       "        vertical-align: middle;\n",
       "    }\n",
       "\n",
       "    .dataframe tbody tr th {\n",
       "        vertical-align: top;\n",
       "    }\n",
       "\n",
       "    .dataframe thead th {\n",
       "        text-align: right;\n",
       "    }\n",
       "</style>\n",
       "<table border=\"1\" class=\"dataframe\">\n",
       "  <thead>\n",
       "    <tr style=\"text-align: right;\">\n",
       "      <th></th>\n",
       "      <th>Unnamed: 0</th>\n",
       "      <th>arrival_time</th>\n",
       "      <th>assessment_end_time</th>\n",
       "      <th>assessment_start_time</th>\n",
       "      <th>consultation_end_time</th>\n",
       "      <th>consultation_start_time</th>\n",
       "      <th>day</th>\n",
       "      <th>duration</th>\n",
       "      <th>patient</th>\n",
       "      <th>priority</th>\n",
       "      <th>temperature</th>\n",
       "      <th>log_consult_duration</th>\n",
       "      <th>priority_enc</th>\n",
       "      <th>pain_moderate pain</th>\n",
       "      <th>pain_no pain</th>\n",
       "      <th>pain_severe pain</th>\n",
       "      <th>temp_cat_hypothermia</th>\n",
       "      <th>temp_cat_normal</th>\n",
       "      <th>temp_cat_fever</th>\n",
       "    </tr>\n",
       "  </thead>\n",
       "  <tbody>\n",
       "    <tr>\n",
       "      <th>131</th>\n",
       "      <td>1</td>\n",
       "      <td>280</td>\n",
       "      <td>741</td>\n",
       "      <td>308</td>\n",
       "      <td>1620</td>\n",
       "      <td>773</td>\n",
       "      <td>1</td>\n",
       "      <td>847</td>\n",
       "      <td>1</td>\n",
       "      <td>urgent</td>\n",
       "      <td>36.6</td>\n",
       "      <td>6.741701</td>\n",
       "      <td>2</td>\n",
       "      <td>0</td>\n",
       "      <td>1</td>\n",
       "      <td>0</td>\n",
       "      <td>0</td>\n",
       "      <td>1</td>\n",
       "      <td>0</td>\n",
       "    </tr>\n",
       "    <tr>\n",
       "      <th>162</th>\n",
       "      <td>2</td>\n",
       "      <td>288</td>\n",
       "      <td>851</td>\n",
       "      <td>764</td>\n",
       "      <td>1881</td>\n",
       "      <td>905</td>\n",
       "      <td>1</td>\n",
       "      <td>976</td>\n",
       "      <td>2</td>\n",
       "      <td>normal</td>\n",
       "      <td>36.7</td>\n",
       "      <td>6.883463</td>\n",
       "      <td>1</td>\n",
       "      <td>0</td>\n",
       "      <td>0</td>\n",
       "      <td>1</td>\n",
       "      <td>0</td>\n",
       "      <td>1</td>\n",
       "      <td>0</td>\n",
       "    </tr>\n",
       "    <tr>\n",
       "      <th>225</th>\n",
       "      <td>0</td>\n",
       "      <td>430</td>\n",
       "      <td>1055</td>\n",
       "      <td>878</td>\n",
       "      <td>1595</td>\n",
       "      <td>1084</td>\n",
       "      <td>1</td>\n",
       "      <td>510</td>\n",
       "      <td>3</td>\n",
       "      <td>normal</td>\n",
       "      <td>36.8</td>\n",
       "      <td>6.234411</td>\n",
       "      <td>1</td>\n",
       "      <td>0</td>\n",
       "      <td>0</td>\n",
       "      <td>1</td>\n",
       "      <td>0</td>\n",
       "      <td>1</td>\n",
       "      <td>0</td>\n",
       "    </tr>\n",
       "    <tr>\n",
       "      <th>278</th>\n",
       "      <td>3</td>\n",
       "      <td>944</td>\n",
       "      <td>1244</td>\n",
       "      <td>1089</td>\n",
       "      <td>2105</td>\n",
       "      <td>1294</td>\n",
       "      <td>1</td>\n",
       "      <td>810</td>\n",
       "      <td>4</td>\n",
       "      <td>urgent</td>\n",
       "      <td>36.6</td>\n",
       "      <td>6.697034</td>\n",
       "      <td>2</td>\n",
       "      <td>0</td>\n",
       "      <td>0</td>\n",
       "      <td>1</td>\n",
       "      <td>0</td>\n",
       "      <td>1</td>\n",
       "      <td>0</td>\n",
       "    </tr>\n",
       "    <tr>\n",
       "      <th>302</th>\n",
       "      <td>11</td>\n",
       "      <td>1139</td>\n",
       "      <td>1351</td>\n",
       "      <td>1267</td>\n",
       "      <td>3322</td>\n",
       "      <td>1378</td>\n",
       "      <td>1</td>\n",
       "      <td>1943</td>\n",
       "      <td>5</td>\n",
       "      <td>urgent</td>\n",
       "      <td>36.2</td>\n",
       "      <td>7.571988</td>\n",
       "      <td>2</td>\n",
       "      <td>0</td>\n",
       "      <td>0</td>\n",
       "      <td>1</td>\n",
       "      <td>1</td>\n",
       "      <td>0</td>\n",
       "      <td>0</td>\n",
       "    </tr>\n",
       "    <tr>\n",
       "      <th>...</th>\n",
       "      <td>...</td>\n",
       "      <td>...</td>\n",
       "      <td>...</td>\n",
       "      <td>...</td>\n",
       "      <td>...</td>\n",
       "      <td>...</td>\n",
       "      <td>...</td>\n",
       "      <td>...</td>\n",
       "      <td>...</td>\n",
       "      <td>...</td>\n",
       "      <td>...</td>\n",
       "      <td>...</td>\n",
       "      <td>...</td>\n",
       "      <td>...</td>\n",
       "      <td>...</td>\n",
       "      <td>...</td>\n",
       "      <td>...</td>\n",
       "      <td>...</td>\n",
       "      <td>...</td>\n",
       "    </tr>\n",
       "    <tr>\n",
       "      <th>4276</th>\n",
       "      <td>4419</td>\n",
       "      <td>13730</td>\n",
       "      <td>15368</td>\n",
       "      <td>15304</td>\n",
       "      <td>18067</td>\n",
       "      <td>15398</td>\n",
       "      <td>50</td>\n",
       "      <td>2668</td>\n",
       "      <td>4416</td>\n",
       "      <td>urgent</td>\n",
       "      <td>35.9</td>\n",
       "      <td>7.889084</td>\n",
       "      <td>2</td>\n",
       "      <td>0</td>\n",
       "      <td>0</td>\n",
       "      <td>1</td>\n",
       "      <td>1</td>\n",
       "      <td>0</td>\n",
       "      <td>0</td>\n",
       "    </tr>\n",
       "    <tr>\n",
       "      <th>4300</th>\n",
       "      <td>4415</td>\n",
       "      <td>13893</td>\n",
       "      <td>15547</td>\n",
       "      <td>15403</td>\n",
       "      <td>15850</td>\n",
       "      <td>15584</td>\n",
       "      <td>50</td>\n",
       "      <td>266</td>\n",
       "      <td>4417</td>\n",
       "      <td>normal</td>\n",
       "      <td>36.8</td>\n",
       "      <td>5.583496</td>\n",
       "      <td>1</td>\n",
       "      <td>0</td>\n",
       "      <td>1</td>\n",
       "      <td>0</td>\n",
       "      <td>0</td>\n",
       "      <td>1</td>\n",
       "      <td>0</td>\n",
       "    </tr>\n",
       "    <tr>\n",
       "      <th>4312</th>\n",
       "      <td>4417</td>\n",
       "      <td>13931</td>\n",
       "      <td>15680</td>\n",
       "      <td>15583</td>\n",
       "      <td>16304</td>\n",
       "      <td>15703</td>\n",
       "      <td>50</td>\n",
       "      <td>601</td>\n",
       "      <td>4418</td>\n",
       "      <td>normal</td>\n",
       "      <td>36.5</td>\n",
       "      <td>6.398595</td>\n",
       "      <td>1</td>\n",
       "      <td>0</td>\n",
       "      <td>0</td>\n",
       "      <td>1</td>\n",
       "      <td>1</td>\n",
       "      <td>0</td>\n",
       "      <td>0</td>\n",
       "    </tr>\n",
       "    <tr>\n",
       "      <th>4326</th>\n",
       "      <td>4416</td>\n",
       "      <td>14147</td>\n",
       "      <td>15829</td>\n",
       "      <td>15698</td>\n",
       "      <td>16162</td>\n",
       "      <td>15856</td>\n",
       "      <td>50</td>\n",
       "      <td>305</td>\n",
       "      <td>4419</td>\n",
       "      <td>normal</td>\n",
       "      <td>36.9</td>\n",
       "      <td>5.720312</td>\n",
       "      <td>1</td>\n",
       "      <td>0</td>\n",
       "      <td>1</td>\n",
       "      <td>0</td>\n",
       "      <td>0</td>\n",
       "      <td>1</td>\n",
       "      <td>0</td>\n",
       "    </tr>\n",
       "    <tr>\n",
       "      <th>4334</th>\n",
       "      <td>4418</td>\n",
       "      <td>14292</td>\n",
       "      <td>15935</td>\n",
       "      <td>15862</td>\n",
       "      <td>16565</td>\n",
       "      <td>15961</td>\n",
       "      <td>50</td>\n",
       "      <td>604</td>\n",
       "      <td>4420</td>\n",
       "      <td>normal</td>\n",
       "      <td>37.1</td>\n",
       "      <td>6.403574</td>\n",
       "      <td>1</td>\n",
       "      <td>0</td>\n",
       "      <td>1</td>\n",
       "      <td>0</td>\n",
       "      <td>0</td>\n",
       "      <td>1</td>\n",
       "      <td>0</td>\n",
       "    </tr>\n",
       "  </tbody>\n",
       "</table>\n",
       "<p>4420 rows × 19 columns</p>\n",
       "</div>"
      ],
      "text/plain": [
       "      Unnamed: 0  arrival_time  assessment_end_time  assessment_start_time  \\\n",
       "131            1           280                  741                    308   \n",
       "162            2           288                  851                    764   \n",
       "225            0           430                 1055                    878   \n",
       "278            3           944                 1244                   1089   \n",
       "302           11          1139                 1351                   1267   \n",
       "...          ...           ...                  ...                    ...   \n",
       "4276        4419         13730                15368                  15304   \n",
       "4300        4415         13893                15547                  15403   \n",
       "4312        4417         13931                15680                  15583   \n",
       "4326        4416         14147                15829                  15698   \n",
       "4334        4418         14292                15935                  15862   \n",
       "\n",
       "      consultation_end_time  consultation_start_time  day  duration  patient  \\\n",
       "131                    1620                      773    1       847        1   \n",
       "162                    1881                      905    1       976        2   \n",
       "225                    1595                     1084    1       510        3   \n",
       "278                    2105                     1294    1       810        4   \n",
       "302                    3322                     1378    1      1943        5   \n",
       "...                     ...                      ...  ...       ...      ...   \n",
       "4276                  18067                    15398   50      2668     4416   \n",
       "4300                  15850                    15584   50       266     4417   \n",
       "4312                  16304                    15703   50       601     4418   \n",
       "4326                  16162                    15856   50       305     4419   \n",
       "4334                  16565                    15961   50       604     4420   \n",
       "\n",
       "     priority  temperature  log_consult_duration  priority_enc  \\\n",
       "131    urgent         36.6              6.741701             2   \n",
       "162    normal         36.7              6.883463             1   \n",
       "225    normal         36.8              6.234411             1   \n",
       "278    urgent         36.6              6.697034             2   \n",
       "302    urgent         36.2              7.571988             2   \n",
       "...       ...          ...                   ...           ...   \n",
       "4276   urgent         35.9              7.889084             2   \n",
       "4300   normal         36.8              5.583496             1   \n",
       "4312   normal         36.5              6.398595             1   \n",
       "4326   normal         36.9              5.720312             1   \n",
       "4334   normal         37.1              6.403574             1   \n",
       "\n",
       "      pain_moderate pain  pain_no pain  pain_severe pain  \\\n",
       "131                    0             1                 0   \n",
       "162                    0             0                 1   \n",
       "225                    0             0                 1   \n",
       "278                    0             0                 1   \n",
       "302                    0             0                 1   \n",
       "...                  ...           ...               ...   \n",
       "4276                   0             0                 1   \n",
       "4300                   0             1                 0   \n",
       "4312                   0             0                 1   \n",
       "4326                   0             1                 0   \n",
       "4334                   0             1                 0   \n",
       "\n",
       "      temp_cat_hypothermia  temp_cat_normal  temp_cat_fever  \n",
       "131                      0                1               0  \n",
       "162                      0                1               0  \n",
       "225                      0                1               0  \n",
       "278                      0                1               0  \n",
       "302                      1                0               0  \n",
       "...                    ...              ...             ...  \n",
       "4276                     1                0               0  \n",
       "4300                     0                1               0  \n",
       "4312                     1                0               0  \n",
       "4326                     0                1               0  \n",
       "4334                     0                1               0  \n",
       "\n",
       "[4420 rows x 19 columns]"
      ]
     },
     "execution_count": 23,
     "metadata": {},
     "output_type": "execute_result"
    }
   ],
   "source": [
    "df"
   ]
  },
  {
   "cell_type": "code",
   "execution_count": 24,
   "metadata": {
    "ExecuteTime": {
     "end_time": "2020-02-25T16:38:06.046270Z",
     "start_time": "2020-02-25T16:38:06.026634Z"
    }
   },
   "outputs": [],
   "source": [
    "df['pain_no pain:temp_cat_hypothermia'] = df['pain_no pain'] * df['temp_cat_hypothermia']\n",
    "df['pain_moderate pain:temp_cat_hypothermia'] = df['pain_moderate pain'] * df['temp_cat_hypothermia']\n",
    "df['pain_severe pain:temp_cat_hypothermia'] =df['pain_severe pain'] * df['temp_cat_hypothermia']\n",
    "\n",
    "df['pain_no pain:temp_cat_normal'] = df['pain_no pain'] * df['temp_cat_normal']\n",
    "df['pain_moderate pain:temp_cat_normal'] = df['pain_moderate pain'] * df['temp_cat_normal']\n",
    "df['pain_severe pain:temp_cat_normal'] = df['pain_severe pain'] * df['temp_cat_normal']\n",
    "\n",
    "df['pain_no pain:temp_cat_fever'] = df['pain_no pain'] * df['temp_cat_fever']\n",
    "df['pain_moderate pain:temp_cat_fever'] = df['pain_moderate pain'] * df['temp_cat_fever']\n",
    "df['pain_severe pain:temp_cat_fever'] = df['pain_severe pain'] * df['temp_cat_fever']\n",
    "\n",
    "df.drop(['pain_no pain', 'pain_moderate pain', 'pain_severe pain',\n",
    "         'temp_cat_hypothermia', 'temp_cat_normal', 'temp_cat_fever',\n",
    "         'temperature'], axis=1, inplace=True)"
   ]
  },
  {
   "cell_type": "code",
   "execution_count": 25,
   "metadata": {
    "ExecuteTime": {
     "end_time": "2020-02-25T16:38:06.051285Z",
     "start_time": "2020-02-25T16:38:06.047744Z"
    }
   },
   "outputs": [],
   "source": [
    "cols_to_drop = ['Unnamed: 0', 'consultation_end_time', 'duration', 'arrival_time',\n",
    "                'assessment_start_time', 'patient', 'priority']\n",
    "df.drop(cols_to_drop, axis=1, inplace=True)"
   ]
  },
  {
   "cell_type": "code",
   "execution_count": 26,
   "metadata": {
    "ExecuteTime": {
     "end_time": "2020-02-25T16:38:06.066759Z",
     "start_time": "2020-02-25T16:38:06.053728Z"
    },
    "scrolled": true
   },
   "outputs": [
    {
     "name": "stdout",
     "output_type": "stream",
     "text": [
      "<class 'pandas.core.frame.DataFrame'>\n",
      "Int64Index: 4420 entries, 131 to 4334\n",
      "Data columns (total 14 columns):\n",
      " #   Column                                   Non-Null Count  Dtype  \n",
      "---  ------                                   --------------  -----  \n",
      " 0   assessment_end_time                      4420 non-null   int64  \n",
      " 1   consultation_start_time                  4420 non-null   int64  \n",
      " 2   day                                      4420 non-null   int64  \n",
      " 3   log_consult_duration                     4420 non-null   float64\n",
      " 4   priority_enc                             4420 non-null   int64  \n",
      " 5   pain_no pain:temp_cat_hypothermia        4420 non-null   uint8  \n",
      " 6   pain_moderate pain:temp_cat_hypothermia  4420 non-null   uint8  \n",
      " 7   pain_severe pain:temp_cat_hypothermia    4420 non-null   uint8  \n",
      " 8   pain_no pain:temp_cat_normal             4420 non-null   uint8  \n",
      " 9   pain_moderate pain:temp_cat_normal       4420 non-null   uint8  \n",
      " 10  pain_severe pain:temp_cat_normal         4420 non-null   uint8  \n",
      " 11  pain_no pain:temp_cat_fever              4420 non-null   uint8  \n",
      " 12  pain_moderate pain:temp_cat_fever        4420 non-null   uint8  \n",
      " 13  pain_severe pain:temp_cat_fever          4420 non-null   uint8  \n",
      "dtypes: float64(1), int64(4), uint8(9)\n",
      "memory usage: 246.0 KB\n"
     ]
    }
   ],
   "source": [
    "df.info()"
   ]
  },
  {
   "cell_type": "code",
   "execution_count": 27,
   "metadata": {
    "ExecuteTime": {
     "end_time": "2020-02-25T16:38:06.077707Z",
     "start_time": "2020-02-25T16:38:06.068424Z"
    }
   },
   "outputs": [],
   "source": [
    "X_train = df[df['day'] <= 45].drop(['day', 'log_consult_duration'], axis=1)\n",
    "X_test = df[df['day'] > 45].drop(['day', 'log_consult_duration'], axis=1)\n",
    "y_train = df.loc[df['day'] <= 45, 'log_consult_duration']\n",
    "y_test = df.loc[df['day'] > 45, 'log_consult_duration']"
   ]
  },
  {
   "cell_type": "code",
   "execution_count": 28,
   "metadata": {
    "ExecuteTime": {
     "end_time": "2020-02-25T16:38:08.257837Z",
     "start_time": "2020-02-25T16:38:06.079368Z"
    },
    "scrolled": true
   },
   "outputs": [
    {
     "name": "stdout",
     "output_type": "stream",
     "text": [
      "Fitting 5 folds for each of 10 candidates, totalling 50 fits\n"
     ]
    },
    {
     "name": "stderr",
     "output_type": "stream",
     "text": [
      "[Parallel(n_jobs=-1)]: Using backend LokyBackend with 8 concurrent workers.\n",
      "[Parallel(n_jobs=-1)]: Done  34 tasks      | elapsed:    2.0s\n",
      "[Parallel(n_jobs=-1)]: Done  50 out of  50 | elapsed:    2.1s finished\n"
     ]
    },
    {
     "data": {
      "text/plain": [
       "RandomizedSearchCV(cv=TimeSeriesSplit(max_train_size=None, n_splits=5),\n",
       "                   error_score=nan,\n",
       "                   estimator=Ridge(alpha=1.0, copy_X=True, fit_intercept=True,\n",
       "                                   max_iter=None, normalize=True,\n",
       "                                   random_state=42, solver='auto', tol=0.001),\n",
       "                   iid='deprecated', n_iter=10, n_jobs=-1,\n",
       "                   param_distributions={'alpha': <scipy.stats._distn_infrastructure.rv_frozen object at 0x7fd7879d2c50>},\n",
       "                   pre_dispatch='2*n_jobs', random_state=42, refit=True,\n",
       "                   return_train_score=True,\n",
       "                   scoring='neg_root_mean_squared_error', verbose=1)"
      ]
     },
     "execution_count": 28,
     "metadata": {},
     "output_type": "execute_result"
    }
   ],
   "source": [
    "tscv = TimeSeriesSplit(n_splits=5)\n",
    "\n",
    "ridge = Ridge(normalize=True, random_state=42)\n",
    "\n",
    "ridge_params ={'alpha': ss.uniform(0, 1)}\n",
    "\n",
    "rscv = RandomizedSearchCV(ridge,\n",
    "                          ridge_params,\n",
    "                          scoring='neg_root_mean_squared_error',\n",
    "                          n_jobs=-1,\n",
    "                          cv=tscv,\n",
    "                          verbose=1,\n",
    "                          random_state=42,\n",
    "                          return_train_score=True)\n",
    "\n",
    "rscv.fit(X_train, y_train)"
   ]
  },
  {
   "cell_type": "code",
   "execution_count": 29,
   "metadata": {
    "ExecuteTime": {
     "end_time": "2020-02-25T16:38:08.266697Z",
     "start_time": "2020-02-25T16:38:08.260916Z"
    }
   },
   "outputs": [
    {
     "data": {
      "text/plain": [
       "Ridge(alpha=0.05808361216819946, copy_X=True, fit_intercept=True, max_iter=None,\n",
       "      normalize=True, random_state=42, solver='auto', tol=0.001)"
      ]
     },
     "execution_count": 29,
     "metadata": {},
     "output_type": "execute_result"
    }
   ],
   "source": [
    "lm = rscv.best_estimator_\n",
    "lm"
   ]
  },
  {
   "cell_type": "code",
   "execution_count": 30,
   "metadata": {
    "ExecuteTime": {
     "end_time": "2020-02-25T16:38:08.282217Z",
     "start_time": "2020-02-25T16:38:08.268855Z"
    }
   },
   "outputs": [],
   "source": [
    "scaler = StandardScaler()\n",
    "X_train_scaled = scaler.fit_transform(X_train)\n",
    "X_test_scaled = scaler.transform(X_test)"
   ]
  },
  {
   "cell_type": "code",
   "execution_count": 31,
   "metadata": {
    "ExecuteTime": {
     "end_time": "2020-02-25T16:38:08.301255Z",
     "start_time": "2020-02-25T16:38:08.285034Z"
    }
   },
   "outputs": [
    {
     "name": "stdout",
     "output_type": "stream",
     "text": [
      "train rmse: 0.41647656356287766\n",
      "val rmse: 0.4584946508325671\n",
      "test rmse: 1.2046810143855968\n"
     ]
    }
   ],
   "source": [
    "cv_results = pd.DataFrame(rscv.cv_results_)\n",
    "train_rmse = -cv_results.loc[rscv.best_index_, 'mean_train_score']\n",
    "val_rmse = -cv_results.loc[rscv.best_index_, 'mean_test_score']\n",
    "\n",
    "test_rmse = mean_squared_error(y_test, lm.predict(X_test_scaled), squared=False)\n",
    "\n",
    "print(f'train rmse: {train_rmse}')\n",
    "print(f'val rmse: {val_rmse}')\n",
    "print(f'test rmse: {test_rmse}')"
   ]
  }
 ],
 "metadata": {
  "kernelspec": {
   "display_name": "Python 3",
   "language": "python",
   "name": "python3"
  },
  "language_info": {
   "codemirror_mode": {
    "name": "ipython",
    "version": 3
   },
   "file_extension": ".py",
   "mimetype": "text/x-python",
   "name": "python",
   "nbconvert_exporter": "python",
   "pygments_lexer": "ipython3",
   "version": "3.7.5"
  },
  "latex_envs": {
   "LaTeX_envs_menu_present": true,
   "autoclose": false,
   "autocomplete": true,
   "bibliofile": "biblio.bib",
   "cite_by": "apalike",
   "current_citInitial": 1,
   "eqLabelWithNumbers": true,
   "eqNumInitial": 1,
   "hotkeys": {
    "equation": "Ctrl-E",
    "itemize": "Ctrl-I"
   },
   "labels_anchors": false,
   "latex_user_defs": false,
   "report_style_numbering": false,
   "user_envs_cfg": false
  },
  "toc": {
   "base_numbering": 1,
   "nav_menu": {},
   "number_sections": true,
   "sideBar": true,
   "skip_h1_title": false,
   "title_cell": "Table of Contents",
   "title_sidebar": "Contents",
   "toc_cell": false,
   "toc_position": {},
   "toc_section_display": true,
   "toc_window_display": false
  },
  "varInspector": {
   "cols": {
    "lenName": 16,
    "lenType": 16,
    "lenVar": 40
   },
   "kernels_config": {
    "python": {
     "delete_cmd_postfix": "",
     "delete_cmd_prefix": "del ",
     "library": "var_list.py",
     "varRefreshCmd": "print(var_dic_list())"
    },
    "r": {
     "delete_cmd_postfix": ") ",
     "delete_cmd_prefix": "rm(",
     "library": "var_list.r",
     "varRefreshCmd": "cat(var_dic_list()) "
    }
   },
   "types_to_exclude": [
    "module",
    "function",
    "builtin_function_or_method",
    "instance",
    "_Feature"
   ],
   "window_display": false
  }
 },
 "nbformat": 4,
 "nbformat_minor": 4
}
